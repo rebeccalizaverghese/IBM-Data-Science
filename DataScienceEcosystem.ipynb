{
 "cells": [
  {
   "cell_type": "markdown",
   "id": "9f6c9f46-8c25-4306-8b82-c8a10d274765",
   "metadata": {},
   "source": [
    "# Data Science Tools and Ecosystem"
   ]
  },
  {
   "cell_type": "markdown",
   "id": "4747d611-d07c-4397-91da-6b0a6f836a99",
   "metadata": {},
   "source": [
    "In this notebook, Data Science Tools and Ecosystem are summarized"
   ]
  },
  {
   "cell_type": "markdown",
   "id": "96315a8f-2110-4639-b56e-2fb747660633",
   "metadata": {},
   "source": [
    "**Objectives:**\n",
    "- List popular languages for Data Science\n",
    "- List commonly used libraries by Data Scientists\n",
    "- List various development environment open source tools used in Data Science\n",
    "- Create ordered lists, unordered lists, and tables in Markdown Cell.\n",
    "- Provide examples of arithmetic expressions used in Python.\n"
   ]
  },
  {
   "cell_type": "markdown",
   "id": "bbce6b7e-b454-4d48-82c5-5f31cfa8451c",
   "metadata": {},
   "source": [
    "Some of the popular languages that Data Scientists use are:\n",
    "1. Python\n",
    "2. R\n",
    "3. SQL\n",
    "4. Java"
   ]
  },
  {
   "cell_type": "markdown",
   "id": "2b7659d1-8392-43fa-9018-b757aa028d48",
   "metadata": {},
   "source": [
    "Some of the commonly used libraries used by Data Scientists include:\n",
    "1. Pandas\n",
    "2. Numpy\n",
    "3. Matplotlib"
   ]
  },
  {
   "cell_type": "markdown",
   "id": "e685b1f8-9d35-4637-b99e-425bb678b081",
   "metadata": {},
   "source": [
    "|Data Science Tools|\n",
    "|------------------|\n",
    "|RStudio|\n",
    "|Jupyter Notebooks|\n",
    "|Watson Studio|"
   ]
  },
  {
   "cell_type": "markdown",
   "id": "4731e983-b82b-41f8-a7e8-ea8a41e23596",
   "metadata": {},
   "source": [
    "### Below are a few examples of evaluating arithmetic expression in Python:\n",
    "* 2+3\n",
    "* 33-30\n",
    "* 5*8\n",
    "* 30//3\n"
   ]
  },
  {
   "cell_type": "code",
   "execution_count": 1,
   "id": "7cc45acc-034d-49df-8d0c-b42f47bfe876",
   "metadata": {},
   "outputs": [
    {
     "data": {
      "text/plain": [
       "17"
      ]
     },
     "execution_count": 1,
     "metadata": {},
     "output_type": "execute_result"
    }
   ],
   "source": [
    "# This is a simple arithmetic expression to multiply then add integers.\n",
    "(3*4)+5"
   ]
  },
  {
   "cell_type": "code",
   "execution_count": 5,
   "id": "5b59f7f0-b11e-43b9-86bc-a0014a2bc4ff",
   "metadata": {},
   "outputs": [
    {
     "name": "stdout",
     "output_type": "stream",
     "text": [
      "200 minutes converted to hours is 3.3333333333333335 hours.\n"
     ]
    }
   ],
   "source": [
    "#This will convert 200 minutes to hours by dividing by 60\n",
    "minutes = 200\n",
    "hours = minutes/60\n",
    "print(\"200 minutes converted to hours is\", hours, \"hours.\")\n"
   ]
  },
  {
   "cell_type": "markdown",
   "id": "eea826d8-e319-43f7-a840-96624aec3882",
   "metadata": {},
   "source": [
    "## Author\n",
    "Rebecca Liza Verghese"
   ]
  },
  {
   "cell_type": "code",
   "execution_count": null,
   "id": "f90081cc-0c01-4f67-892f-018acb159a3c",
   "metadata": {},
   "outputs": [],
   "source": []
  }
 ],
 "metadata": {
  "kernelspec": {
   "display_name": "Python 3 (ipykernel)",
   "language": "python",
   "name": "python3"
  },
  "language_info": {
   "codemirror_mode": {
    "name": "ipython",
    "version": 3
   },
   "file_extension": ".py",
   "mimetype": "text/x-python",
   "name": "python",
   "nbconvert_exporter": "python",
   "pygments_lexer": "ipython3",
   "version": "3.11.9"
  }
 },
 "nbformat": 4,
 "nbformat_minor": 5
}
