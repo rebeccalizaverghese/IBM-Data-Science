{
  "nbformat": 4,
  "nbformat_minor": 0,
  "metadata": {
    "colab": {
      "provenance": [],
      "authorship_tag": "ABX9TyMYrOaRCKk6GYymNRgHNl0C",
      "include_colab_link": true
    },
    "kernelspec": {
      "name": "python3",
      "display_name": "Python 3"
    },
    "language_info": {
      "name": "python"
    }
  },
  "cells": [
    {
      "cell_type": "markdown",
      "metadata": {
        "id": "view-in-github",
        "colab_type": "text"
      },
      "source": [
        "<a href=\"https://colab.research.google.com/github/rebeccalizaverghese/IBM-Data-Science/blob/main/1.2_Python_Basics_Expressions_%26_Variables.ipynb\" target=\"_parent\"><img src=\"https://colab.research.google.com/assets/colab-badge.svg\" alt=\"Open In Colab\"/></a>"
      ]
    },
    {
      "cell_type": "markdown",
      "source": [
        "###Expressions and Variables\n",
        "**Expressions**: Operations that Python performs.\n",
        "Eg: Arithmetic Operations (42+33+16+21)\n",
        "\n",
        "The numbers are called *operands* and the math symbols are called *operators*.\n"
      ],
      "metadata": {
        "id": "dhhQq8Ea4PNQ"
      }
    },
    {
      "cell_type": "code",
      "execution_count": 4,
      "metadata": {
        "colab": {
          "base_uri": "https://localhost:8080/"
        },
        "id": "SUIoh4Y8yRun",
        "outputId": "9ca70a0b-4af6-42d2-d8fe-49a412445b2d"
      },
      "outputs": [
        {
          "output_type": "execute_result",
          "data": {
            "text/plain": [
              "164"
            ]
          },
          "metadata": {},
          "execution_count": 4
        }
      ],
      "source": [
        "#Addition Operation Expression\n",
        "43+60+41+20"
      ]
    },
    {
      "cell_type": "code",
      "source": [
        "#Subtraction Operation Expression\n",
        "164-110"
      ],
      "metadata": {
        "colab": {
          "base_uri": "https://localhost:8080/"
        },
        "id": "7oVk6KGVysF-",
        "outputId": "e7e349d7-bbb2-48bc-eafe-ccb1bdd21b98"
      },
      "execution_count": 5,
      "outputs": [
        {
          "output_type": "execute_result",
          "data": {
            "text/plain": [
              "54"
            ]
          },
          "metadata": {},
          "execution_count": 5
        }
      ]
    },
    {
      "cell_type": "code",
      "source": [
        "#Multiplaction Operation Expression\n",
        "54*5"
      ],
      "metadata": {
        "id": "FZgXi2N7zB_T",
        "colab": {
          "base_uri": "https://localhost:8080/"
        },
        "outputId": "d41d496e-cbdb-4a3f-8c34-4f3047de24d5"
      },
      "execution_count": 6,
      "outputs": [
        {
          "output_type": "execute_result",
          "data": {
            "text/plain": [
              "270"
            ]
          },
          "metadata": {},
          "execution_count": 6
        }
      ]
    },
    {
      "cell_type": "code",
      "source": [
        "#Division Operation Expression\n",
        "print(270/2)\n",
        "print(270/4)"
      ],
      "metadata": {
        "colab": {
          "base_uri": "https://localhost:8080/"
        },
        "id": "g9eMCER9-nXx",
        "outputId": "b82e7aed-2321-4526-d519-fce61803ffc1"
      },
      "execution_count": 9,
      "outputs": [
        {
          "output_type": "stream",
          "name": "stdout",
          "text": [
            "135.0\n",
            "67.5\n"
          ]
        }
      ]
    },
    {
      "cell_type": "code",
      "source": [
        "# Integer Division Operation Expression\n",
        "270//4 # double slash (//) is used to round the result to the nearest integer"
      ],
      "metadata": {
        "colab": {
          "base_uri": "https://localhost:8080/"
        },
        "id": "2tVWrgkj-up9",
        "outputId": "d8b65cdb-3908-4a1e-fe79-b88c89a77bba"
      },
      "execution_count": 10,
      "outputs": [
        {
          "output_type": "execute_result",
          "data": {
            "text/plain": [
              "67"
            ]
          },
          "metadata": {},
          "execution_count": 10
        }
      ]
    },
    {
      "cell_type": "code",
      "source": [
        "#Operation that calculates how many hours are there in 180 minutes:\n",
        "total_mins = 180\n",
        "total_hrs = 180/60\n",
        "print(total_hrs)\n",
        "print(type(total_hrs))\n",
        "print(int(total_hrs), \"hours\")"
      ],
      "metadata": {
        "colab": {
          "base_uri": "https://localhost:8080/"
        },
        "id": "iX7tucrR_HeA",
        "outputId": "d72d55a1-27ad-4b57-e4de-78e5e03a04e6"
      },
      "execution_count": 15,
      "outputs": [
        {
          "output_type": "stream",
          "name": "stdout",
          "text": [
            "3.0\n",
            "<class 'float'>\n",
            "3 hours\n"
          ]
        }
      ]
    },
    {
      "cell_type": "code",
      "source": [
        "#Mathimatical Expressions\n",
        "print(30+3*20) #Python performs the munltiplcation first and adds 30 to the result\n",
        "print((30+2)*20) #Python prioritises the expressions enclosed in parentheses and then multiplies the result by 20"
      ],
      "metadata": {
        "colab": {
          "base_uri": "https://localhost:8080/"
        },
        "id": "DjkZwrAt_dyY",
        "outputId": "bbb01052-46ef-48eb-d0e6-d1ab9b3df641"
      },
      "execution_count": 16,
      "outputs": [
        {
          "output_type": "stream",
          "name": "stdout",
          "text": [
            "90\n",
            "640\n"
          ]
        }
      ]
    },
    {
      "cell_type": "code",
      "source": [
        "print(30+20-40)\n",
        "print((55-5)/10)\n",
        "print((6*10)/12)"
      ],
      "metadata": {
        "colab": {
          "base_uri": "https://localhost:8080/"
        },
        "id": "_1knDTq6CQlv",
        "outputId": "9c4cd788-4ad7-4500-df9a-e1616a0b5305"
      },
      "execution_count": 32,
      "outputs": [
        {
          "output_type": "stream",
          "name": "stdout",
          "text": [
            "10\n",
            "5.0\n",
            "5.0\n"
          ]
        }
      ]
    },
    {
      "cell_type": "markdown",
      "source": [
        "**Variables**: allows us to assign values to/ store values in variables and use them later on\n"
      ],
      "metadata": {
        "id": "ghngWv4WAehS"
      }
    },
    {
      "cell_type": "code",
      "source": [
        "x= 33+22+11\n",
        "print(x)\n",
        "print(type(x))"
      ],
      "metadata": {
        "colab": {
          "base_uri": "https://localhost:8080/"
        },
        "id": "qwuRx79jAZQ0",
        "outputId": "a7661f70-9c52-4f65-8a48-901aba1a9bd9"
      },
      "execution_count": 24,
      "outputs": [
        {
          "output_type": "stream",
          "name": "stdout",
          "text": [
            "66\n",
            "<class 'int'>\n"
          ]
        }
      ]
    },
    {
      "cell_type": "code",
      "source": [
        "y = x/3 #performing operations on x and saving the result to a new variable\n",
        "y"
      ],
      "metadata": {
        "colab": {
          "base_uri": "https://localhost:8080/"
        },
        "id": "Bqo-DAy-A89t",
        "outputId": "6b8212cb-5d91-4d9f-a595-45cd3a0b0de2"
      },
      "execution_count": 25,
      "outputs": [
        {
          "output_type": "execute_result",
          "data": {
            "text/plain": [
              "22.0"
            ]
          },
          "metadata": {},
          "execution_count": 25
        }
      ]
    },
    {
      "cell_type": "code",
      "source": [
        "x =x/4 #performing operations on x and saving the result to the existing variable, overwriting the previous value\n",
        "x"
      ],
      "metadata": {
        "colab": {
          "base_uri": "https://localhost:8080/"
        },
        "id": "zrq4o3HcBS9g",
        "outputId": "9da6b09f-1803-4d25-f912-45e05a575d66"
      },
      "execution_count": 26,
      "outputs": [
        {
          "output_type": "execute_result",
          "data": {
            "text/plain": [
              "16.5"
            ]
          },
          "metadata": {},
          "execution_count": 26
        }
      ]
    },
    {
      "cell_type": "code",
      "source": [
        "x=3+2*2 # (2*2)+3\n",
        "y=(3+2)*2\n",
        "z=x+y\n",
        "print(\"x=\",x)\n",
        "print(\"y=\",y)\n",
        "print(\"z=\",z)"
      ],
      "metadata": {
        "colab": {
          "base_uri": "https://localhost:8080/"
        },
        "id": "x6_D_P7fBiwC",
        "outputId": "69316ba6-a574-4454-9edf-362e63d2c448"
      },
      "execution_count": 38,
      "outputs": [
        {
          "output_type": "stream",
          "name": "stdout",
          "text": [
            "x= 7\n",
            "y= 10\n",
            "z= 17\n"
          ]
        }
      ]
    },
    {
      "cell_type": "markdown",
      "source": [],
      "metadata": {
        "id": "hYsvs7fAEfOE"
      }
    }
  ]
}