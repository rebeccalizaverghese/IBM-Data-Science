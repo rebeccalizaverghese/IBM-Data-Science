{
  "nbformat": 4,
  "nbformat_minor": 0,
  "metadata": {
    "colab": {
      "provenance": [],
      "authorship_tag": "ABX9TyPViFGOPJZgXyqx8itguwnC",
      "include_colab_link": true
    },
    "kernelspec": {
      "name": "python3",
      "display_name": "Python 3"
    },
    "language_info": {
      "name": "python"
    }
  },
  "cells": [
    {
      "cell_type": "markdown",
      "metadata": {
        "id": "view-in-github",
        "colab_type": "text"
      },
      "source": [
        "<a href=\"https://colab.research.google.com/github/rebeccalizaverghese/IBM-Data-Science/blob/main/6.3_Databases_and_SQL_for_Data_Science_with_Python.ipynb\" target=\"_parent\"><img src=\"https://colab.research.google.com/assets/colab-badge.svg\" alt=\"Open In Colab\"/></a>"
      ]
    },
    {
      "cell_type": "markdown",
      "source": [
        "Dataset - Chicago Public Schools - Progress Report Cards (2011-2012)"
      ],
      "metadata": {
        "id": "8HpUkGCYP7dc"
      }
    },
    {
      "cell_type": "code",
      "source": [
        "# Connect to Database\n",
        "import csv, sqlite3\n",
        "con = sqlite3.connect(\"RealWorldData.db\")\n",
        "cur = con.cursor()"
      ],
      "metadata": {
        "id": "GGITXrhbQIo7"
      },
      "execution_count": 1,
      "outputs": []
    },
    {
      "cell_type": "code",
      "source": [
        "%load_ext sql\n",
        "%sql sqlite:///RealWorldData.db"
      ],
      "metadata": {
        "id": "YmnzV2F_Qil5"
      },
      "execution_count": 2,
      "outputs": []
    },
    {
      "cell_type": "code",
      "source": [
        "# Store Dataset in a Table\n",
        "import pandas as pd\n",
        "df = pd.read_csv(\"https://cf-courses-data.s3.us.cloud-object-storage.appdomain.cloud/IBMDeveloperSkillsNetwork-DB0201EN-SkillsNetwork/labs/FinalModule_Coursera_V5/data/ChicagoPublicSchools.csv\")\n",
        "df.to_sql(\"Chicago_Public_Schools_Data\", con, if_exists='replace', index=False, method='multi')"
      ],
      "metadata": {
        "colab": {
          "base_uri": "https://localhost:8080/"
        },
        "id": "kFweT1zGQrWo",
        "outputId": "7a2022bf-cafd-4843-91e4-964cade8c5c6"
      },
      "execution_count": 3,
      "outputs": [
        {
          "output_type": "execute_result",
          "data": {
            "text/plain": [
              "566"
            ]
          },
          "metadata": {},
          "execution_count": 3
        }
      ]
    },
    {
      "cell_type": "code",
      "source": [
        "# Query the database system catalog to retreive table metadata\n",
        "# To get a list of tables in an SQLite3 database, we use sqlite_master system catalog\n",
        "%sql select name from sqlite_master where type=\"table\""
      ],
      "metadata": {
        "colab": {
          "base_uri": "https://localhost:8080/",
          "height": 96
        },
        "id": "vEnvSufnRqSn",
        "outputId": "3413bf4f-1eb6-4bf5-e18e-78c0e935d2cd"
      },
      "execution_count": 5,
      "outputs": [
        {
          "output_type": "stream",
          "name": "stdout",
          "text": [
            " * sqlite:///RealWorldData.db\n",
            "Done.\n"
          ]
        },
        {
          "output_type": "execute_result",
          "data": {
            "text/plain": [
              "[('Chicago_Public_Schools_Data',)]"
            ],
            "text/html": [
              "<table>\n",
              "    <thead>\n",
              "        <tr>\n",
              "            <th>name</th>\n",
              "        </tr>\n",
              "    </thead>\n",
              "    <tbody>\n",
              "        <tr>\n",
              "            <td>Chicago_Public_Schools_Data</td>\n",
              "        </tr>\n",
              "    </tbody>\n",
              "</table>"
            ]
          },
          "metadata": {},
          "execution_count": 5
        }
      ]
    },
    {
      "cell_type": "code",
      "source": [
        "# The SCHOOLS table contains a large number of columns. How many columns does this table have?\n",
        "%sql select count(name) as 'Schools_Table_Column_Count' from Pragma_Table_Info('Chicago_Public_Schools_Data');"
      ],
      "metadata": {
        "colab": {
          "base_uri": "https://localhost:8080/",
          "height": 96
        },
        "id": "s-IDy2T7SLsu",
        "outputId": "8cddf24c-dc05-4d8e-a66f-e96935797e6a"
      },
      "execution_count": 10,
      "outputs": [
        {
          "output_type": "stream",
          "name": "stdout",
          "text": [
            " * sqlite:///RealWorldData.db\n",
            "Done.\n"
          ]
        },
        {
          "output_type": "execute_result",
          "data": {
            "text/plain": [
              "[(78,)]"
            ],
            "text/html": [
              "<table>\n",
              "    <thead>\n",
              "        <tr>\n",
              "            <th>Schools_Table_Column_Count</th>\n",
              "        </tr>\n",
              "    </thead>\n",
              "    <tbody>\n",
              "        <tr>\n",
              "            <td>78</td>\n",
              "        </tr>\n",
              "    </tbody>\n",
              "</table>"
            ]
          },
          "metadata": {},
          "execution_count": 10
        }
      ]
    },
    {
      "cell_type": "code",
      "source": [
        "# Retreive the list of columns in Schools table and their column type (datatype) and length.\n",
        "%sql select name, type, length(type) from Pragma_Table_Info('Chicago_Public_Schools_Data')"
      ],
      "metadata": {
        "colab": {
          "base_uri": "https://localhost:8080/",
          "height": 1000
        },
        "id": "_fJpPOyXTHw_",
        "outputId": "1fefe9cb-b997-447d-9efc-7172250986c8"
      },
      "execution_count": 18,
      "outputs": [
        {
          "output_type": "stream",
          "name": "stdout",
          "text": [
            " * sqlite:///RealWorldData.db\n",
            "Done.\n"
          ]
        },
        {
          "output_type": "execute_result",
          "data": {
            "text/plain": [
              "[('School_ID', 'INTEGER', 7),\n",
              " ('NAME_OF_SCHOOL', 'TEXT', 4),\n",
              " ('Elementary, Middle, or High School', 'TEXT', 4),\n",
              " ('Street_Address', 'TEXT', 4),\n",
              " ('City', 'TEXT', 4),\n",
              " ('State', 'TEXT', 4),\n",
              " ('ZIP_Code', 'INTEGER', 7),\n",
              " ('Phone_Number', 'TEXT', 4),\n",
              " ('Link', 'TEXT', 4),\n",
              " ('Network_Manager', 'TEXT', 4),\n",
              " ('Collaborative_Name', 'TEXT', 4),\n",
              " ('Adequate_Yearly_Progress_Made_', 'TEXT', 4),\n",
              " ('Track_Schedule', 'TEXT', 4),\n",
              " ('CPS_Performance_Policy_Status', 'TEXT', 4),\n",
              " ('CPS_Performance_Policy_Level', 'TEXT', 4),\n",
              " ('HEALTHY_SCHOOL_CERTIFIED', 'TEXT', 4),\n",
              " ('Safety_Icon', 'TEXT', 4),\n",
              " ('SAFETY_SCORE', 'REAL', 4),\n",
              " ('Family_Involvement_Icon', 'TEXT', 4),\n",
              " ('Family_Involvement_Score', 'TEXT', 4),\n",
              " ('Environment_Icon', 'TEXT', 4),\n",
              " ('Environment_Score', 'REAL', 4),\n",
              " ('Instruction_Icon', 'TEXT', 4),\n",
              " ('Instruction_Score', 'REAL', 4),\n",
              " ('Leaders_Icon', 'TEXT', 4),\n",
              " ('Leaders_Score', 'TEXT', 4),\n",
              " ('Teachers_Icon', 'TEXT', 4),\n",
              " ('Teachers_Score', 'TEXT', 4),\n",
              " ('Parent_Engagement_Icon', 'TEXT', 4),\n",
              " ('Parent_Engagement_Score', 'TEXT', 4),\n",
              " ('Parent_Environment_Icon', 'TEXT', 4),\n",
              " ('Parent_Environment_Score', 'TEXT', 4),\n",
              " ('AVERAGE_STUDENT_ATTENDANCE', 'TEXT', 4),\n",
              " ('Rate_of_Misconducts__per_100_students_', 'REAL', 4),\n",
              " ('Average_Teacher_Attendance', 'TEXT', 4),\n",
              " ('Individualized_Education_Program_Compliance_Rate', 'TEXT', 4),\n",
              " ('Pk_2_Literacy__', 'TEXT', 4),\n",
              " ('Pk_2_Math__', 'TEXT', 4),\n",
              " ('Gr3_5_Grade_Level_Math__', 'TEXT', 4),\n",
              " ('Gr3_5_Grade_Level_Read__', 'TEXT', 4),\n",
              " ('Gr3_5_Keep_Pace_Read__', 'TEXT', 4),\n",
              " ('Gr3_5_Keep_Pace_Math__', 'TEXT', 4),\n",
              " ('Gr6_8_Grade_Level_Math__', 'TEXT', 4),\n",
              " ('Gr6_8_Grade_Level_Read__', 'TEXT', 4),\n",
              " ('Gr6_8_Keep_Pace_Math_', 'TEXT', 4),\n",
              " ('Gr6_8_Keep_Pace_Read__', 'TEXT', 4),\n",
              " ('Gr_8_Explore_Math__', 'TEXT', 4),\n",
              " ('Gr_8_Explore_Read__', 'TEXT', 4),\n",
              " ('ISAT_Exceeding_Math__', 'REAL', 4),\n",
              " ('ISAT_Exceeding_Reading__', 'REAL', 4),\n",
              " ('ISAT_Value_Add_Math', 'REAL', 4),\n",
              " ('ISAT_Value_Add_Read', 'REAL', 4),\n",
              " ('ISAT_Value_Add_Color_Math', 'TEXT', 4),\n",
              " ('ISAT_Value_Add_Color_Read', 'TEXT', 4),\n",
              " ('Students_Taking__Algebra__', 'TEXT', 4),\n",
              " ('Students_Passing__Algebra__', 'TEXT', 4),\n",
              " ('9th Grade EXPLORE (2009)', 'TEXT', 4),\n",
              " ('9th Grade EXPLORE (2010)', 'TEXT', 4),\n",
              " ('10th Grade PLAN (2009)', 'TEXT', 4),\n",
              " ('10th Grade PLAN (2010)', 'TEXT', 4),\n",
              " ('Net_Change_EXPLORE_and_PLAN', 'TEXT', 4),\n",
              " ('11th Grade Average ACT (2011)', 'TEXT', 4),\n",
              " ('Net_Change_PLAN_and_ACT', 'TEXT', 4),\n",
              " ('College_Eligibility__', 'TEXT', 4),\n",
              " ('Graduation_Rate__', 'TEXT', 4),\n",
              " ('College_Enrollment_Rate__', 'TEXT', 4),\n",
              " ('COLLEGE_ENROLLMENT', 'INTEGER', 7),\n",
              " ('General_Services_Route', 'INTEGER', 7),\n",
              " ('Freshman_on_Track_Rate__', 'TEXT', 4),\n",
              " ('X_COORDINATE', 'REAL', 4),\n",
              " ('Y_COORDINATE', 'REAL', 4),\n",
              " ('Latitude', 'REAL', 4),\n",
              " ('Longitude', 'REAL', 4),\n",
              " ('COMMUNITY_AREA_NUMBER', 'INTEGER', 7),\n",
              " ('COMMUNITY_AREA_NAME', 'TEXT', 4),\n",
              " ('Ward', 'INTEGER', 7),\n",
              " ('Police_District', 'INTEGER', 7),\n",
              " ('Location', 'TEXT', 4)]"
            ],
            "text/html": [
              "<table>\n",
              "    <thead>\n",
              "        <tr>\n",
              "            <th>name</th>\n",
              "            <th>type</th>\n",
              "            <th>length(type)</th>\n",
              "        </tr>\n",
              "    </thead>\n",
              "    <tbody>\n",
              "        <tr>\n",
              "            <td>School_ID</td>\n",
              "            <td>INTEGER</td>\n",
              "            <td>7</td>\n",
              "        </tr>\n",
              "        <tr>\n",
              "            <td>NAME_OF_SCHOOL</td>\n",
              "            <td>TEXT</td>\n",
              "            <td>4</td>\n",
              "        </tr>\n",
              "        <tr>\n",
              "            <td>Elementary, Middle, or High School</td>\n",
              "            <td>TEXT</td>\n",
              "            <td>4</td>\n",
              "        </tr>\n",
              "        <tr>\n",
              "            <td>Street_Address</td>\n",
              "            <td>TEXT</td>\n",
              "            <td>4</td>\n",
              "        </tr>\n",
              "        <tr>\n",
              "            <td>City</td>\n",
              "            <td>TEXT</td>\n",
              "            <td>4</td>\n",
              "        </tr>\n",
              "        <tr>\n",
              "            <td>State</td>\n",
              "            <td>TEXT</td>\n",
              "            <td>4</td>\n",
              "        </tr>\n",
              "        <tr>\n",
              "            <td>ZIP_Code</td>\n",
              "            <td>INTEGER</td>\n",
              "            <td>7</td>\n",
              "        </tr>\n",
              "        <tr>\n",
              "            <td>Phone_Number</td>\n",
              "            <td>TEXT</td>\n",
              "            <td>4</td>\n",
              "        </tr>\n",
              "        <tr>\n",
              "            <td>Link</td>\n",
              "            <td>TEXT</td>\n",
              "            <td>4</td>\n",
              "        </tr>\n",
              "        <tr>\n",
              "            <td>Network_Manager</td>\n",
              "            <td>TEXT</td>\n",
              "            <td>4</td>\n",
              "        </tr>\n",
              "        <tr>\n",
              "            <td>Collaborative_Name</td>\n",
              "            <td>TEXT</td>\n",
              "            <td>4</td>\n",
              "        </tr>\n",
              "        <tr>\n",
              "            <td>Adequate_Yearly_Progress_Made_</td>\n",
              "            <td>TEXT</td>\n",
              "            <td>4</td>\n",
              "        </tr>\n",
              "        <tr>\n",
              "            <td>Track_Schedule</td>\n",
              "            <td>TEXT</td>\n",
              "            <td>4</td>\n",
              "        </tr>\n",
              "        <tr>\n",
              "            <td>CPS_Performance_Policy_Status</td>\n",
              "            <td>TEXT</td>\n",
              "            <td>4</td>\n",
              "        </tr>\n",
              "        <tr>\n",
              "            <td>CPS_Performance_Policy_Level</td>\n",
              "            <td>TEXT</td>\n",
              "            <td>4</td>\n",
              "        </tr>\n",
              "        <tr>\n",
              "            <td>HEALTHY_SCHOOL_CERTIFIED</td>\n",
              "            <td>TEXT</td>\n",
              "            <td>4</td>\n",
              "        </tr>\n",
              "        <tr>\n",
              "            <td>Safety_Icon</td>\n",
              "            <td>TEXT</td>\n",
              "            <td>4</td>\n",
              "        </tr>\n",
              "        <tr>\n",
              "            <td>SAFETY_SCORE</td>\n",
              "            <td>REAL</td>\n",
              "            <td>4</td>\n",
              "        </tr>\n",
              "        <tr>\n",
              "            <td>Family_Involvement_Icon</td>\n",
              "            <td>TEXT</td>\n",
              "            <td>4</td>\n",
              "        </tr>\n",
              "        <tr>\n",
              "            <td>Family_Involvement_Score</td>\n",
              "            <td>TEXT</td>\n",
              "            <td>4</td>\n",
              "        </tr>\n",
              "        <tr>\n",
              "            <td>Environment_Icon</td>\n",
              "            <td>TEXT</td>\n",
              "            <td>4</td>\n",
              "        </tr>\n",
              "        <tr>\n",
              "            <td>Environment_Score</td>\n",
              "            <td>REAL</td>\n",
              "            <td>4</td>\n",
              "        </tr>\n",
              "        <tr>\n",
              "            <td>Instruction_Icon</td>\n",
              "            <td>TEXT</td>\n",
              "            <td>4</td>\n",
              "        </tr>\n",
              "        <tr>\n",
              "            <td>Instruction_Score</td>\n",
              "            <td>REAL</td>\n",
              "            <td>4</td>\n",
              "        </tr>\n",
              "        <tr>\n",
              "            <td>Leaders_Icon</td>\n",
              "            <td>TEXT</td>\n",
              "            <td>4</td>\n",
              "        </tr>\n",
              "        <tr>\n",
              "            <td>Leaders_Score</td>\n",
              "            <td>TEXT</td>\n",
              "            <td>4</td>\n",
              "        </tr>\n",
              "        <tr>\n",
              "            <td>Teachers_Icon</td>\n",
              "            <td>TEXT</td>\n",
              "            <td>4</td>\n",
              "        </tr>\n",
              "        <tr>\n",
              "            <td>Teachers_Score</td>\n",
              "            <td>TEXT</td>\n",
              "            <td>4</td>\n",
              "        </tr>\n",
              "        <tr>\n",
              "            <td>Parent_Engagement_Icon</td>\n",
              "            <td>TEXT</td>\n",
              "            <td>4</td>\n",
              "        </tr>\n",
              "        <tr>\n",
              "            <td>Parent_Engagement_Score</td>\n",
              "            <td>TEXT</td>\n",
              "            <td>4</td>\n",
              "        </tr>\n",
              "        <tr>\n",
              "            <td>Parent_Environment_Icon</td>\n",
              "            <td>TEXT</td>\n",
              "            <td>4</td>\n",
              "        </tr>\n",
              "        <tr>\n",
              "            <td>Parent_Environment_Score</td>\n",
              "            <td>TEXT</td>\n",
              "            <td>4</td>\n",
              "        </tr>\n",
              "        <tr>\n",
              "            <td>AVERAGE_STUDENT_ATTENDANCE</td>\n",
              "            <td>TEXT</td>\n",
              "            <td>4</td>\n",
              "        </tr>\n",
              "        <tr>\n",
              "            <td>Rate_of_Misconducts__per_100_students_</td>\n",
              "            <td>REAL</td>\n",
              "            <td>4</td>\n",
              "        </tr>\n",
              "        <tr>\n",
              "            <td>Average_Teacher_Attendance</td>\n",
              "            <td>TEXT</td>\n",
              "            <td>4</td>\n",
              "        </tr>\n",
              "        <tr>\n",
              "            <td>Individualized_Education_Program_Compliance_Rate</td>\n",
              "            <td>TEXT</td>\n",
              "            <td>4</td>\n",
              "        </tr>\n",
              "        <tr>\n",
              "            <td>Pk_2_Literacy__</td>\n",
              "            <td>TEXT</td>\n",
              "            <td>4</td>\n",
              "        </tr>\n",
              "        <tr>\n",
              "            <td>Pk_2_Math__</td>\n",
              "            <td>TEXT</td>\n",
              "            <td>4</td>\n",
              "        </tr>\n",
              "        <tr>\n",
              "            <td>Gr3_5_Grade_Level_Math__</td>\n",
              "            <td>TEXT</td>\n",
              "            <td>4</td>\n",
              "        </tr>\n",
              "        <tr>\n",
              "            <td>Gr3_5_Grade_Level_Read__</td>\n",
              "            <td>TEXT</td>\n",
              "            <td>4</td>\n",
              "        </tr>\n",
              "        <tr>\n",
              "            <td>Gr3_5_Keep_Pace_Read__</td>\n",
              "            <td>TEXT</td>\n",
              "            <td>4</td>\n",
              "        </tr>\n",
              "        <tr>\n",
              "            <td>Gr3_5_Keep_Pace_Math__</td>\n",
              "            <td>TEXT</td>\n",
              "            <td>4</td>\n",
              "        </tr>\n",
              "        <tr>\n",
              "            <td>Gr6_8_Grade_Level_Math__</td>\n",
              "            <td>TEXT</td>\n",
              "            <td>4</td>\n",
              "        </tr>\n",
              "        <tr>\n",
              "            <td>Gr6_8_Grade_Level_Read__</td>\n",
              "            <td>TEXT</td>\n",
              "            <td>4</td>\n",
              "        </tr>\n",
              "        <tr>\n",
              "            <td>Gr6_8_Keep_Pace_Math_</td>\n",
              "            <td>TEXT</td>\n",
              "            <td>4</td>\n",
              "        </tr>\n",
              "        <tr>\n",
              "            <td>Gr6_8_Keep_Pace_Read__</td>\n",
              "            <td>TEXT</td>\n",
              "            <td>4</td>\n",
              "        </tr>\n",
              "        <tr>\n",
              "            <td>Gr_8_Explore_Math__</td>\n",
              "            <td>TEXT</td>\n",
              "            <td>4</td>\n",
              "        </tr>\n",
              "        <tr>\n",
              "            <td>Gr_8_Explore_Read__</td>\n",
              "            <td>TEXT</td>\n",
              "            <td>4</td>\n",
              "        </tr>\n",
              "        <tr>\n",
              "            <td>ISAT_Exceeding_Math__</td>\n",
              "            <td>REAL</td>\n",
              "            <td>4</td>\n",
              "        </tr>\n",
              "        <tr>\n",
              "            <td>ISAT_Exceeding_Reading__</td>\n",
              "            <td>REAL</td>\n",
              "            <td>4</td>\n",
              "        </tr>\n",
              "        <tr>\n",
              "            <td>ISAT_Value_Add_Math</td>\n",
              "            <td>REAL</td>\n",
              "            <td>4</td>\n",
              "        </tr>\n",
              "        <tr>\n",
              "            <td>ISAT_Value_Add_Read</td>\n",
              "            <td>REAL</td>\n",
              "            <td>4</td>\n",
              "        </tr>\n",
              "        <tr>\n",
              "            <td>ISAT_Value_Add_Color_Math</td>\n",
              "            <td>TEXT</td>\n",
              "            <td>4</td>\n",
              "        </tr>\n",
              "        <tr>\n",
              "            <td>ISAT_Value_Add_Color_Read</td>\n",
              "            <td>TEXT</td>\n",
              "            <td>4</td>\n",
              "        </tr>\n",
              "        <tr>\n",
              "            <td>Students_Taking__Algebra__</td>\n",
              "            <td>TEXT</td>\n",
              "            <td>4</td>\n",
              "        </tr>\n",
              "        <tr>\n",
              "            <td>Students_Passing__Algebra__</td>\n",
              "            <td>TEXT</td>\n",
              "            <td>4</td>\n",
              "        </tr>\n",
              "        <tr>\n",
              "            <td>9th Grade EXPLORE (2009)</td>\n",
              "            <td>TEXT</td>\n",
              "            <td>4</td>\n",
              "        </tr>\n",
              "        <tr>\n",
              "            <td>9th Grade EXPLORE (2010)</td>\n",
              "            <td>TEXT</td>\n",
              "            <td>4</td>\n",
              "        </tr>\n",
              "        <tr>\n",
              "            <td>10th Grade PLAN (2009)</td>\n",
              "            <td>TEXT</td>\n",
              "            <td>4</td>\n",
              "        </tr>\n",
              "        <tr>\n",
              "            <td>10th Grade PLAN (2010)</td>\n",
              "            <td>TEXT</td>\n",
              "            <td>4</td>\n",
              "        </tr>\n",
              "        <tr>\n",
              "            <td>Net_Change_EXPLORE_and_PLAN</td>\n",
              "            <td>TEXT</td>\n",
              "            <td>4</td>\n",
              "        </tr>\n",
              "        <tr>\n",
              "            <td>11th Grade Average ACT (2011)</td>\n",
              "            <td>TEXT</td>\n",
              "            <td>4</td>\n",
              "        </tr>\n",
              "        <tr>\n",
              "            <td>Net_Change_PLAN_and_ACT</td>\n",
              "            <td>TEXT</td>\n",
              "            <td>4</td>\n",
              "        </tr>\n",
              "        <tr>\n",
              "            <td>College_Eligibility__</td>\n",
              "            <td>TEXT</td>\n",
              "            <td>4</td>\n",
              "        </tr>\n",
              "        <tr>\n",
              "            <td>Graduation_Rate__</td>\n",
              "            <td>TEXT</td>\n",
              "            <td>4</td>\n",
              "        </tr>\n",
              "        <tr>\n",
              "            <td>College_Enrollment_Rate__</td>\n",
              "            <td>TEXT</td>\n",
              "            <td>4</td>\n",
              "        </tr>\n",
              "        <tr>\n",
              "            <td>COLLEGE_ENROLLMENT</td>\n",
              "            <td>INTEGER</td>\n",
              "            <td>7</td>\n",
              "        </tr>\n",
              "        <tr>\n",
              "            <td>General_Services_Route</td>\n",
              "            <td>INTEGER</td>\n",
              "            <td>7</td>\n",
              "        </tr>\n",
              "        <tr>\n",
              "            <td>Freshman_on_Track_Rate__</td>\n",
              "            <td>TEXT</td>\n",
              "            <td>4</td>\n",
              "        </tr>\n",
              "        <tr>\n",
              "            <td>X_COORDINATE</td>\n",
              "            <td>REAL</td>\n",
              "            <td>4</td>\n",
              "        </tr>\n",
              "        <tr>\n",
              "            <td>Y_COORDINATE</td>\n",
              "            <td>REAL</td>\n",
              "            <td>4</td>\n",
              "        </tr>\n",
              "        <tr>\n",
              "            <td>Latitude</td>\n",
              "            <td>REAL</td>\n",
              "            <td>4</td>\n",
              "        </tr>\n",
              "        <tr>\n",
              "            <td>Longitude</td>\n",
              "            <td>REAL</td>\n",
              "            <td>4</td>\n",
              "        </tr>\n",
              "        <tr>\n",
              "            <td>COMMUNITY_AREA_NUMBER</td>\n",
              "            <td>INTEGER</td>\n",
              "            <td>7</td>\n",
              "        </tr>\n",
              "        <tr>\n",
              "            <td>COMMUNITY_AREA_NAME</td>\n",
              "            <td>TEXT</td>\n",
              "            <td>4</td>\n",
              "        </tr>\n",
              "        <tr>\n",
              "            <td>Ward</td>\n",
              "            <td>INTEGER</td>\n",
              "            <td>7</td>\n",
              "        </tr>\n",
              "        <tr>\n",
              "            <td>Police_District</td>\n",
              "            <td>INTEGER</td>\n",
              "            <td>7</td>\n",
              "        </tr>\n",
              "        <tr>\n",
              "            <td>Location</td>\n",
              "            <td>TEXT</td>\n",
              "            <td>4</td>\n",
              "        </tr>\n",
              "    </tbody>\n",
              "</table>"
            ]
          },
          "metadata": {},
          "execution_count": 18
        }
      ]
    },
    {
      "cell_type": "markdown",
      "source": [
        "**Problems**\n",
        "\n",
        "Problem1: How many Elementary Schools are in the dataset?"
      ],
      "metadata": {
        "id": "os00Iw2IUS7s"
      }
    },
    {
      "cell_type": "code",
      "source": [
        "%sql select count(*) as \"Count_of_Elementary_Schools\" from Chicago_Public_Schools_Data where \"Elementary, Middle, or High School\" = 'ES'"
      ],
      "metadata": {
        "colab": {
          "base_uri": "https://localhost:8080/",
          "height": 96
        },
        "id": "G1E0rw9_UJ9b",
        "outputId": "ff2eff6a-86d0-43af-a5de-8f36b78ddcd0"
      },
      "execution_count": 23,
      "outputs": [
        {
          "output_type": "stream",
          "name": "stdout",
          "text": [
            " * sqlite:///RealWorldData.db\n",
            "Done.\n"
          ]
        },
        {
          "output_type": "execute_result",
          "data": {
            "text/plain": [
              "[(462,)]"
            ],
            "text/html": [
              "<table>\n",
              "    <thead>\n",
              "        <tr>\n",
              "            <th>Count_of_Elementary_Schools</th>\n",
              "        </tr>\n",
              "    </thead>\n",
              "    <tbody>\n",
              "        <tr>\n",
              "            <td>462</td>\n",
              "        </tr>\n",
              "    </tbody>\n",
              "</table>"
            ]
          },
          "metadata": {},
          "execution_count": 23
        }
      ]
    },
    {
      "cell_type": "markdown",
      "source": [
        "Problem2: What is the highest Safety Score?"
      ],
      "metadata": {
        "id": "NJnW1Vg5WgkA"
      }
    },
    {
      "cell_type": "code",
      "source": [
        "%sql select Max(Safety_Score) as \"Max_Safety_Score\" from Chicago_Public_Schools_Data"
      ],
      "metadata": {
        "colab": {
          "base_uri": "https://localhost:8080/",
          "height": 96
        },
        "id": "6swwHELpUpZD",
        "outputId": "995bc075-30ca-42ba-87b4-4c9b7eacfa9b"
      },
      "execution_count": 24,
      "outputs": [
        {
          "output_type": "stream",
          "name": "stdout",
          "text": [
            " * sqlite:///RealWorldData.db\n",
            "Done.\n"
          ]
        },
        {
          "output_type": "execute_result",
          "data": {
            "text/plain": [
              "[(99.0,)]"
            ],
            "text/html": [
              "<table>\n",
              "    <thead>\n",
              "        <tr>\n",
              "            <th>Max_Safety_Score</th>\n",
              "        </tr>\n",
              "    </thead>\n",
              "    <tbody>\n",
              "        <tr>\n",
              "            <td>99.0</td>\n",
              "        </tr>\n",
              "    </tbody>\n",
              "</table>"
            ]
          },
          "metadata": {},
          "execution_count": 24
        }
      ]
    },
    {
      "cell_type": "markdown",
      "source": [
        "Problem3: Which Schools have the highest Safety Score?"
      ],
      "metadata": {
        "id": "qZxuDtMvW4Ce"
      }
    },
    {
      "cell_type": "code",
      "source": [
        "# We can use the backslash (\\) when we want to split long queries into multiple lines to make it improve readability.\n",
        "%sql select Name_of_School, Safety_Score from Chicago_Public_Schools_Data where \\\n",
        "Safety_Score = (select max(Safety_Score) from Chicago_Public_Schools_Data)"
      ],
      "metadata": {
        "colab": {
          "base_uri": "https://localhost:8080/",
          "height": 481
        },
        "id": "1CH5p2H_W0S7",
        "outputId": "a580134a-4045-4777-deba-6523bb6829a9"
      },
      "execution_count": 28,
      "outputs": [
        {
          "output_type": "stream",
          "name": "stdout",
          "text": [
            " * sqlite:///RealWorldData.db\n",
            "Done.\n"
          ]
        },
        {
          "output_type": "execute_result",
          "data": {
            "text/plain": [
              "[('Abraham Lincoln Elementary School', 99.0),\n",
              " ('Alexander Graham Bell Elementary School', 99.0),\n",
              " ('Annie Keller Elementary Gifted Magnet School', 99.0),\n",
              " ('Augustus H Burley Elementary School', 99.0),\n",
              " ('Edgar Allan Poe Elementary Classical School', 99.0),\n",
              " ('Edgebrook Elementary School', 99.0),\n",
              " ('Ellen Mitchell Elementary School', 99.0),\n",
              " ('James E McDade Elementary Classical School', 99.0),\n",
              " ('James G Blaine Elementary School', 99.0),\n",
              " ('LaSalle Elementary Language Academy', 99.0),\n",
              " ('Mary E Courtenay Elementary Language Arts Center', 99.0),\n",
              " ('Northside College Preparatory High School', 99.0),\n",
              " ('Northside Learning Center High School', 99.0),\n",
              " ('Norwood Park Elementary School', 99.0),\n",
              " ('Oriole Park Elementary School', 99.0),\n",
              " ('Sauganash Elementary School', 99.0),\n",
              " ('Stephen Decatur Classical Elementary School', 99.0),\n",
              " ('Talman Elementary School', 99.0),\n",
              " ('Wildwood Elementary School', 99.0)]"
            ],
            "text/html": [
              "<table>\n",
              "    <thead>\n",
              "        <tr>\n",
              "            <th>NAME_OF_SCHOOL</th>\n",
              "            <th>SAFETY_SCORE</th>\n",
              "        </tr>\n",
              "    </thead>\n",
              "    <tbody>\n",
              "        <tr>\n",
              "            <td>Abraham Lincoln Elementary School</td>\n",
              "            <td>99.0</td>\n",
              "        </tr>\n",
              "        <tr>\n",
              "            <td>Alexander Graham Bell Elementary School</td>\n",
              "            <td>99.0</td>\n",
              "        </tr>\n",
              "        <tr>\n",
              "            <td>Annie Keller Elementary Gifted Magnet School</td>\n",
              "            <td>99.0</td>\n",
              "        </tr>\n",
              "        <tr>\n",
              "            <td>Augustus H Burley Elementary School</td>\n",
              "            <td>99.0</td>\n",
              "        </tr>\n",
              "        <tr>\n",
              "            <td>Edgar Allan Poe Elementary Classical School</td>\n",
              "            <td>99.0</td>\n",
              "        </tr>\n",
              "        <tr>\n",
              "            <td>Edgebrook Elementary School</td>\n",
              "            <td>99.0</td>\n",
              "        </tr>\n",
              "        <tr>\n",
              "            <td>Ellen Mitchell Elementary School</td>\n",
              "            <td>99.0</td>\n",
              "        </tr>\n",
              "        <tr>\n",
              "            <td>James E McDade Elementary Classical School</td>\n",
              "            <td>99.0</td>\n",
              "        </tr>\n",
              "        <tr>\n",
              "            <td>James G Blaine Elementary School</td>\n",
              "            <td>99.0</td>\n",
              "        </tr>\n",
              "        <tr>\n",
              "            <td>LaSalle Elementary Language Academy</td>\n",
              "            <td>99.0</td>\n",
              "        </tr>\n",
              "        <tr>\n",
              "            <td>Mary E Courtenay Elementary Language Arts Center</td>\n",
              "            <td>99.0</td>\n",
              "        </tr>\n",
              "        <tr>\n",
              "            <td>Northside College Preparatory High School</td>\n",
              "            <td>99.0</td>\n",
              "        </tr>\n",
              "        <tr>\n",
              "            <td>Northside Learning Center High School</td>\n",
              "            <td>99.0</td>\n",
              "        </tr>\n",
              "        <tr>\n",
              "            <td>Norwood Park Elementary School</td>\n",
              "            <td>99.0</td>\n",
              "        </tr>\n",
              "        <tr>\n",
              "            <td>Oriole Park Elementary School</td>\n",
              "            <td>99.0</td>\n",
              "        </tr>\n",
              "        <tr>\n",
              "            <td>Sauganash Elementary School</td>\n",
              "            <td>99.0</td>\n",
              "        </tr>\n",
              "        <tr>\n",
              "            <td>Stephen Decatur Classical Elementary School</td>\n",
              "            <td>99.0</td>\n",
              "        </tr>\n",
              "        <tr>\n",
              "            <td>Talman Elementary School</td>\n",
              "            <td>99.0</td>\n",
              "        </tr>\n",
              "        <tr>\n",
              "            <td>Wildwood Elementary School</td>\n",
              "            <td>99.0</td>\n",
              "        </tr>\n",
              "    </tbody>\n",
              "</table>"
            ]
          },
          "metadata": {},
          "execution_count": 28
        }
      ]
    },
    {
      "cell_type": "markdown",
      "source": [
        "Problem4: What are the top 10 schools with the highest \"Average Student Attendance\"?"
      ],
      "metadata": {
        "id": "AVzN4iFLYjwG"
      }
    },
    {
      "cell_type": "code",
      "source": [
        "%sql select Name_of_School, Average_Student_Attendance from Chicago_Public_Schools_Data \\\n",
        "order by Average_Student_Attendance desc nulls last Limit 10"
      ],
      "metadata": {
        "colab": {
          "base_uri": "https://localhost:8080/",
          "height": 289
        },
        "id": "oyQtNcGvYvcP",
        "outputId": "0fa02f46-d4e4-4e67-fd8a-fbcfe7b9a784"
      },
      "execution_count": 37,
      "outputs": [
        {
          "output_type": "stream",
          "name": "stdout",
          "text": [
            " * sqlite:///RealWorldData.db\n",
            "Done.\n"
          ]
        },
        {
          "output_type": "execute_result",
          "data": {
            "text/plain": [
              "[('John Charles Haines Elementary School', '98.40%'),\n",
              " ('James Ward Elementary School', '97.80%'),\n",
              " ('Edgar Allan Poe Elementary Classical School', '97.60%'),\n",
              " ('Orozco Fine Arts & Sciences Elementary School', '97.60%'),\n",
              " ('Rachel Carson Elementary School', '97.60%'),\n",
              " ('Annie Keller Elementary Gifted Magnet School', '97.50%'),\n",
              " ('Andrew Jackson Elementary Language Academy', '97.40%'),\n",
              " ('Lenart Elementary Regional Gifted Center', '97.40%'),\n",
              " ('Disney II Magnet School', '97.30%'),\n",
              " ('John H Vanderpoel Elementary Magnet School', '97.20%')]"
            ],
            "text/html": [
              "<table>\n",
              "    <thead>\n",
              "        <tr>\n",
              "            <th>NAME_OF_SCHOOL</th>\n",
              "            <th>AVERAGE_STUDENT_ATTENDANCE</th>\n",
              "        </tr>\n",
              "    </thead>\n",
              "    <tbody>\n",
              "        <tr>\n",
              "            <td>John Charles Haines Elementary School</td>\n",
              "            <td>98.40%</td>\n",
              "        </tr>\n",
              "        <tr>\n",
              "            <td>James Ward Elementary School</td>\n",
              "            <td>97.80%</td>\n",
              "        </tr>\n",
              "        <tr>\n",
              "            <td>Edgar Allan Poe Elementary Classical School</td>\n",
              "            <td>97.60%</td>\n",
              "        </tr>\n",
              "        <tr>\n",
              "            <td>Orozco Fine Arts &amp; Sciences Elementary School</td>\n",
              "            <td>97.60%</td>\n",
              "        </tr>\n",
              "        <tr>\n",
              "            <td>Rachel Carson Elementary School</td>\n",
              "            <td>97.60%</td>\n",
              "        </tr>\n",
              "        <tr>\n",
              "            <td>Annie Keller Elementary Gifted Magnet School</td>\n",
              "            <td>97.50%</td>\n",
              "        </tr>\n",
              "        <tr>\n",
              "            <td>Andrew Jackson Elementary Language Academy</td>\n",
              "            <td>97.40%</td>\n",
              "        </tr>\n",
              "        <tr>\n",
              "            <td>Lenart Elementary Regional Gifted Center</td>\n",
              "            <td>97.40%</td>\n",
              "        </tr>\n",
              "        <tr>\n",
              "            <td>Disney II Magnet School</td>\n",
              "            <td>97.30%</td>\n",
              "        </tr>\n",
              "        <tr>\n",
              "            <td>John H Vanderpoel Elementary Magnet School</td>\n",
              "            <td>97.20%</td>\n",
              "        </tr>\n",
              "    </tbody>\n",
              "</table>"
            ]
          },
          "metadata": {},
          "execution_count": 37
        }
      ]
    },
    {
      "cell_type": "markdown",
      "source": [
        "Problem5: Retrieve the list of 5 Schools with the lowest Average Student Attendance sorted in ascending order based on attendance"
      ],
      "metadata": {
        "id": "1JxXXVXCZ3df"
      }
    },
    {
      "cell_type": "code",
      "source": [
        "%sql select Name_of_School, Average_Student_Attendance from Chicago_Public_Schools_Data \\\n",
        "order by Average_Student_Attendance Limit 5"
      ],
      "metadata": {
        "colab": {
          "base_uri": "https://localhost:8080/",
          "height": 182
        },
        "id": "ggLAPN9MZSyM",
        "outputId": "023306a7-ea21-492e-e97a-871fccbc1fe2"
      },
      "execution_count": 39,
      "outputs": [
        {
          "output_type": "stream",
          "name": "stdout",
          "text": [
            " * sqlite:///RealWorldData.db\n",
            "Done.\n"
          ]
        },
        {
          "output_type": "execute_result",
          "data": {
            "text/plain": [
              "[('Velma F Thomas Early Childhood Center', None),\n",
              " ('Richard T Crane Technical Preparatory High School', '57.90%'),\n",
              " ('Barbara Vick Early Childhood & Family Center', '60.90%'),\n",
              " ('Dyett High School', '62.50%'),\n",
              " ('Wendell Phillips Academy High School', '63.00%')]"
            ],
            "text/html": [
              "<table>\n",
              "    <thead>\n",
              "        <tr>\n",
              "            <th>NAME_OF_SCHOOL</th>\n",
              "            <th>AVERAGE_STUDENT_ATTENDANCE</th>\n",
              "        </tr>\n",
              "    </thead>\n",
              "    <tbody>\n",
              "        <tr>\n",
              "            <td>Velma F Thomas Early Childhood Center</td>\n",
              "            <td>None</td>\n",
              "        </tr>\n",
              "        <tr>\n",
              "            <td>Richard T Crane Technical Preparatory High School</td>\n",
              "            <td>57.90%</td>\n",
              "        </tr>\n",
              "        <tr>\n",
              "            <td>Barbara Vick Early Childhood &amp; Family Center</td>\n",
              "            <td>60.90%</td>\n",
              "        </tr>\n",
              "        <tr>\n",
              "            <td>Dyett High School</td>\n",
              "            <td>62.50%</td>\n",
              "        </tr>\n",
              "        <tr>\n",
              "            <td>Wendell Phillips Academy High School</td>\n",
              "            <td>63.00%</td>\n",
              "        </tr>\n",
              "    </tbody>\n",
              "</table>"
            ]
          },
          "metadata": {},
          "execution_count": 39
        }
      ]
    },
    {
      "cell_type": "markdown",
      "source": [
        "Problem6: Remove the '%' sign from the above result set for Average Student Attendance column"
      ],
      "metadata": {
        "id": "ab7YzYh6abex"
      }
    },
    {
      "cell_type": "code",
      "source": [
        "# Use replace() function to replace '%' with ''\n",
        "%sql select Name_of_School, Replace(Average_Student_Attendance, '%', '') from Chicago_Public_Schools_Data \\\n",
        "order by Average_Student_Attendance \\\n",
        "Limit 5"
      ],
      "metadata": {
        "colab": {
          "base_uri": "https://localhost:8080/",
          "height": 217
        },
        "id": "0mjGzXxNaTRB",
        "outputId": "6ef47d67-8666-4fd5-a418-faa1da31e4e1"
      },
      "execution_count": 41,
      "outputs": [
        {
          "output_type": "stream",
          "name": "stdout",
          "text": [
            " * sqlite:///RealWorldData.db\n",
            "Done.\n"
          ]
        },
        {
          "output_type": "execute_result",
          "data": {
            "text/plain": [
              "[('Velma F Thomas Early Childhood Center', None),\n",
              " ('Richard T Crane Technical Preparatory High School', '57.90'),\n",
              " ('Barbara Vick Early Childhood & Family Center', '60.90'),\n",
              " ('Dyett High School', '62.50'),\n",
              " ('Wendell Phillips Academy High School', '63.00')]"
            ],
            "text/html": [
              "<table>\n",
              "    <thead>\n",
              "        <tr>\n",
              "            <th>NAME_OF_SCHOOL</th>\n",
              "            <th>Replace(Average_Student_Attendance, &#x27;%&#x27; , &#x27;&#x27; )</th>\n",
              "        </tr>\n",
              "    </thead>\n",
              "    <tbody>\n",
              "        <tr>\n",
              "            <td>Velma F Thomas Early Childhood Center</td>\n",
              "            <td>None</td>\n",
              "        </tr>\n",
              "        <tr>\n",
              "            <td>Richard T Crane Technical Preparatory High School</td>\n",
              "            <td>57.90</td>\n",
              "        </tr>\n",
              "        <tr>\n",
              "            <td>Barbara Vick Early Childhood &amp; Family Center</td>\n",
              "            <td>60.90</td>\n",
              "        </tr>\n",
              "        <tr>\n",
              "            <td>Dyett High School</td>\n",
              "            <td>62.50</td>\n",
              "        </tr>\n",
              "        <tr>\n",
              "            <td>Wendell Phillips Academy High School</td>\n",
              "            <td>63.00</td>\n",
              "        </tr>\n",
              "    </tbody>\n",
              "</table>"
            ]
          },
          "metadata": {},
          "execution_count": 41
        }
      ]
    },
    {
      "cell_type": "markdown",
      "source": [
        "Problem7: Which Schools have Average Student Attendance lower than 70%?"
      ],
      "metadata": {
        "id": "rw5AsKwTbZQA"
      }
    },
    {
      "cell_type": "code",
      "source": [
        "# The datatype of the \"Average_Student_Attendance\" column is varchar.\n",
        "#So you cannot use it as is in the where clause for a numeric comparison.\n",
        "#First use the CAST() function to cast it as a DECIMAL or DOUBLE\n",
        "#e.g. CAST(\"Column_Name\" as DOUBLE)\n",
        "\n",
        "%sql select Name_of_School, Average_Student_Attendance from Chicago_Public_Schools_Data \\\n",
        "where Cast(Replace(Average_Student_Attendance, '%', '') as DOUBLE) < 70 \\\n",
        "order by Average_Student_Attendance"
      ],
      "metadata": {
        "colab": {
          "base_uri": "https://localhost:8080/",
          "height": 246
        },
        "id": "pz3Z9m2Ka8z2",
        "outputId": "16802df5-2d5e-492a-eb85-7a0a42c8e14f"
      },
      "execution_count": 44,
      "outputs": [
        {
          "output_type": "stream",
          "name": "stdout",
          "text": [
            " * sqlite:///RealWorldData.db\n",
            "Done.\n"
          ]
        },
        {
          "output_type": "execute_result",
          "data": {
            "text/plain": [
              "[('Richard T Crane Technical Preparatory High School', '57.90%'),\n",
              " ('Barbara Vick Early Childhood & Family Center', '60.90%'),\n",
              " ('Dyett High School', '62.50%'),\n",
              " ('Wendell Phillips Academy High School', '63.00%'),\n",
              " ('Orr Academy High School', '66.30%'),\n",
              " ('Manley Career Academy High School', '66.80%'),\n",
              " ('Chicago Vocational Career Academy High School', '68.80%'),\n",
              " ('Roberto Clemente Community Academy High School', '69.60%')]"
            ],
            "text/html": [
              "<table>\n",
              "    <thead>\n",
              "        <tr>\n",
              "            <th>NAME_OF_SCHOOL</th>\n",
              "            <th>AVERAGE_STUDENT_ATTENDANCE</th>\n",
              "        </tr>\n",
              "    </thead>\n",
              "    <tbody>\n",
              "        <tr>\n",
              "            <td>Richard T Crane Technical Preparatory High School</td>\n",
              "            <td>57.90%</td>\n",
              "        </tr>\n",
              "        <tr>\n",
              "            <td>Barbara Vick Early Childhood &amp; Family Center</td>\n",
              "            <td>60.90%</td>\n",
              "        </tr>\n",
              "        <tr>\n",
              "            <td>Dyett High School</td>\n",
              "            <td>62.50%</td>\n",
              "        </tr>\n",
              "        <tr>\n",
              "            <td>Wendell Phillips Academy High School</td>\n",
              "            <td>63.00%</td>\n",
              "        </tr>\n",
              "        <tr>\n",
              "            <td>Orr Academy High School</td>\n",
              "            <td>66.30%</td>\n",
              "        </tr>\n",
              "        <tr>\n",
              "            <td>Manley Career Academy High School</td>\n",
              "            <td>66.80%</td>\n",
              "        </tr>\n",
              "        <tr>\n",
              "            <td>Chicago Vocational Career Academy High School</td>\n",
              "            <td>68.80%</td>\n",
              "        </tr>\n",
              "        <tr>\n",
              "            <td>Roberto Clemente Community Academy High School</td>\n",
              "            <td>69.60%</td>\n",
              "        </tr>\n",
              "    </tbody>\n",
              "</table>"
            ]
          },
          "metadata": {},
          "execution_count": 44
        }
      ]
    },
    {
      "cell_type": "markdown",
      "source": [
        "Problem8: Get the total College Enrollment for each Community Area"
      ],
      "metadata": {
        "id": "j_THQxY-culA"
      }
    },
    {
      "cell_type": "code",
      "source": [
        "%sql select SUM(College_Enrollment) as 'Total_Enrollment', Community_Area_Name from Chicago_Public_Schools_Data \\\n",
        "group by Community_Area_Name"
      ],
      "metadata": {
        "colab": {
          "base_uri": "https://localhost:8080/",
          "height": 1000
        },
        "id": "EHtIN1x1crZd",
        "outputId": "c89211a4-fd25-4465-df92-61e9b9f5ad14"
      },
      "execution_count": 46,
      "outputs": [
        {
          "output_type": "stream",
          "name": "stdout",
          "text": [
            " * sqlite:///RealWorldData.db\n",
            "Done.\n"
          ]
        },
        {
          "output_type": "execute_result",
          "data": {
            "text/plain": [
              "[(6864, 'ALBANY PARK'),\n",
              " (4823, 'ARCHER HEIGHTS'),\n",
              " (1458, 'ARMOUR SQUARE'),\n",
              " (6483, 'ASHBURN'),\n",
              " (4175, 'AUBURN GRESHAM'),\n",
              " (10933, 'AUSTIN'),\n",
              " (1522, 'AVALON PARK'),\n",
              " (3640, 'AVONDALE'),\n",
              " (14386, 'BELMONT CRAGIN'),\n",
              " (1636, 'BEVERLY'),\n",
              " (3167, 'BRIDGEPORT'),\n",
              " (9647, 'BRIGHTON PARK'),\n",
              " (549, 'BURNSIDE'),\n",
              " (1568, 'CALUMET HEIGHTS'),\n",
              " (5042, 'CHATHAM'),\n",
              " (7086, 'CHICAGO LAWN'),\n",
              " (2085, 'CLEARING'),\n",
              " (4670, 'DOUGLAS'),\n",
              " (4568, 'DUNNING'),\n",
              " (5337, 'EAST GARFIELD PARK'),\n",
              " (5305, 'EAST SIDE'),\n",
              " (4600, 'EDGEWATER'),\n",
              " (910, 'EDISON PARK'),\n",
              " (6832, 'ENGLEWOOD'),\n",
              " (1431, 'FOREST GLEN'),\n",
              " (531, 'FULLER PARK'),\n",
              " (9915, 'GAGE PARK'),\n",
              " (4552, 'GARFIELD RIDGE'),\n",
              " (2809, 'GRAND BOULEVARD'),\n",
              " (4051, 'GREATER GRAND CROSSING'),\n",
              " (963, 'HEGEWISCH'),\n",
              " (3975, 'HERMOSA'),\n",
              " (8620, 'HUMBOLDT PARK'),\n",
              " (1930, 'HYDE PARK'),\n",
              " (7764, 'IRVING PARK'),\n",
              " (1755, 'JEFFERSON PARK'),\n",
              " (4287, 'KENWOOD'),\n",
              " (7055, 'LAKE VIEW'),\n",
              " (5615, 'LINCOLN PARK'),\n",
              " (4132, 'LINCOLN SQUARE'),\n",
              " (7351, 'LOGAN SQUARE'),\n",
              " (871, 'LOOP'),\n",
              " (7257, 'LOWER WEST SIDE'),\n",
              " (1552, 'MCKINLEY PARK'),\n",
              " (1317, 'MONTCLARE'),\n",
              " (3271, 'MORGAN PARK'),\n",
              " (2091, 'MOUNT GREENWOOD'),\n",
              " (3362, 'NEAR NORTH SIDE'),\n",
              " (1378, 'NEAR SOUTH SIDE'),\n",
              " (7975, 'NEAR WEST SIDE'),\n",
              " (7922, 'NEW CITY'),\n",
              " (7541, 'NORTH CENTER'),\n",
              " (5146, 'NORTH LAWNDALE'),\n",
              " (4210, 'NORTH PARK'),\n",
              " (6469, 'NORWOOD PARK'),\n",
              " (140, 'OAKLAND'),\n",
              " (786, 'OHARE'),\n",
              " (6954, 'PORTAGE PARK'),\n",
              " (1620, 'PULLMAN'),\n",
              " (1547, 'RIVERDALE'),\n",
              " (4068, 'ROGERS PARK'),\n",
              " (7020, 'ROSELAND'),\n",
              " (4043, 'SOUTH CHICAGO'),\n",
              " (1859, 'SOUTH DEERING'),\n",
              " (14793, 'SOUTH LAWNDALE'),\n",
              " (4543, 'SOUTH SHORE'),\n",
              " (4388, 'UPTOWN'),\n",
              " (4006, 'WASHINGTON HEIGHTS'),\n",
              " (2648, 'WASHINGTON PARK'),\n",
              " (3700, 'WEST ELSDON'),\n",
              " (5946, 'WEST ENGLEWOOD'),\n",
              " (2622, 'WEST GARFIELD PARK'),\n",
              " (4207, 'WEST LAWN'),\n",
              " (3240, 'WEST PULLMAN'),\n",
              " (8197, 'WEST RIDGE'),\n",
              " (9429, 'WEST TOWN'),\n",
              " (4206, 'WOODLAWN')]"
            ],
            "text/html": [
              "<table>\n",
              "    <thead>\n",
              "        <tr>\n",
              "            <th>Total_Enrollment</th>\n",
              "            <th>COMMUNITY_AREA_NAME</th>\n",
              "        </tr>\n",
              "    </thead>\n",
              "    <tbody>\n",
              "        <tr>\n",
              "            <td>6864</td>\n",
              "            <td>ALBANY PARK</td>\n",
              "        </tr>\n",
              "        <tr>\n",
              "            <td>4823</td>\n",
              "            <td>ARCHER HEIGHTS</td>\n",
              "        </tr>\n",
              "        <tr>\n",
              "            <td>1458</td>\n",
              "            <td>ARMOUR SQUARE</td>\n",
              "        </tr>\n",
              "        <tr>\n",
              "            <td>6483</td>\n",
              "            <td>ASHBURN</td>\n",
              "        </tr>\n",
              "        <tr>\n",
              "            <td>4175</td>\n",
              "            <td>AUBURN GRESHAM</td>\n",
              "        </tr>\n",
              "        <tr>\n",
              "            <td>10933</td>\n",
              "            <td>AUSTIN</td>\n",
              "        </tr>\n",
              "        <tr>\n",
              "            <td>1522</td>\n",
              "            <td>AVALON PARK</td>\n",
              "        </tr>\n",
              "        <tr>\n",
              "            <td>3640</td>\n",
              "            <td>AVONDALE</td>\n",
              "        </tr>\n",
              "        <tr>\n",
              "            <td>14386</td>\n",
              "            <td>BELMONT CRAGIN</td>\n",
              "        </tr>\n",
              "        <tr>\n",
              "            <td>1636</td>\n",
              "            <td>BEVERLY</td>\n",
              "        </tr>\n",
              "        <tr>\n",
              "            <td>3167</td>\n",
              "            <td>BRIDGEPORT</td>\n",
              "        </tr>\n",
              "        <tr>\n",
              "            <td>9647</td>\n",
              "            <td>BRIGHTON PARK</td>\n",
              "        </tr>\n",
              "        <tr>\n",
              "            <td>549</td>\n",
              "            <td>BURNSIDE</td>\n",
              "        </tr>\n",
              "        <tr>\n",
              "            <td>1568</td>\n",
              "            <td>CALUMET HEIGHTS</td>\n",
              "        </tr>\n",
              "        <tr>\n",
              "            <td>5042</td>\n",
              "            <td>CHATHAM</td>\n",
              "        </tr>\n",
              "        <tr>\n",
              "            <td>7086</td>\n",
              "            <td>CHICAGO LAWN</td>\n",
              "        </tr>\n",
              "        <tr>\n",
              "            <td>2085</td>\n",
              "            <td>CLEARING</td>\n",
              "        </tr>\n",
              "        <tr>\n",
              "            <td>4670</td>\n",
              "            <td>DOUGLAS</td>\n",
              "        </tr>\n",
              "        <tr>\n",
              "            <td>4568</td>\n",
              "            <td>DUNNING</td>\n",
              "        </tr>\n",
              "        <tr>\n",
              "            <td>5337</td>\n",
              "            <td>EAST GARFIELD PARK</td>\n",
              "        </tr>\n",
              "        <tr>\n",
              "            <td>5305</td>\n",
              "            <td>EAST SIDE</td>\n",
              "        </tr>\n",
              "        <tr>\n",
              "            <td>4600</td>\n",
              "            <td>EDGEWATER</td>\n",
              "        </tr>\n",
              "        <tr>\n",
              "            <td>910</td>\n",
              "            <td>EDISON PARK</td>\n",
              "        </tr>\n",
              "        <tr>\n",
              "            <td>6832</td>\n",
              "            <td>ENGLEWOOD</td>\n",
              "        </tr>\n",
              "        <tr>\n",
              "            <td>1431</td>\n",
              "            <td>FOREST GLEN</td>\n",
              "        </tr>\n",
              "        <tr>\n",
              "            <td>531</td>\n",
              "            <td>FULLER PARK</td>\n",
              "        </tr>\n",
              "        <tr>\n",
              "            <td>9915</td>\n",
              "            <td>GAGE PARK</td>\n",
              "        </tr>\n",
              "        <tr>\n",
              "            <td>4552</td>\n",
              "            <td>GARFIELD RIDGE</td>\n",
              "        </tr>\n",
              "        <tr>\n",
              "            <td>2809</td>\n",
              "            <td>GRAND BOULEVARD</td>\n",
              "        </tr>\n",
              "        <tr>\n",
              "            <td>4051</td>\n",
              "            <td>GREATER GRAND CROSSING</td>\n",
              "        </tr>\n",
              "        <tr>\n",
              "            <td>963</td>\n",
              "            <td>HEGEWISCH</td>\n",
              "        </tr>\n",
              "        <tr>\n",
              "            <td>3975</td>\n",
              "            <td>HERMOSA</td>\n",
              "        </tr>\n",
              "        <tr>\n",
              "            <td>8620</td>\n",
              "            <td>HUMBOLDT PARK</td>\n",
              "        </tr>\n",
              "        <tr>\n",
              "            <td>1930</td>\n",
              "            <td>HYDE PARK</td>\n",
              "        </tr>\n",
              "        <tr>\n",
              "            <td>7764</td>\n",
              "            <td>IRVING PARK</td>\n",
              "        </tr>\n",
              "        <tr>\n",
              "            <td>1755</td>\n",
              "            <td>JEFFERSON PARK</td>\n",
              "        </tr>\n",
              "        <tr>\n",
              "            <td>4287</td>\n",
              "            <td>KENWOOD</td>\n",
              "        </tr>\n",
              "        <tr>\n",
              "            <td>7055</td>\n",
              "            <td>LAKE VIEW</td>\n",
              "        </tr>\n",
              "        <tr>\n",
              "            <td>5615</td>\n",
              "            <td>LINCOLN PARK</td>\n",
              "        </tr>\n",
              "        <tr>\n",
              "            <td>4132</td>\n",
              "            <td>LINCOLN SQUARE</td>\n",
              "        </tr>\n",
              "        <tr>\n",
              "            <td>7351</td>\n",
              "            <td>LOGAN SQUARE</td>\n",
              "        </tr>\n",
              "        <tr>\n",
              "            <td>871</td>\n",
              "            <td>LOOP</td>\n",
              "        </tr>\n",
              "        <tr>\n",
              "            <td>7257</td>\n",
              "            <td>LOWER WEST SIDE</td>\n",
              "        </tr>\n",
              "        <tr>\n",
              "            <td>1552</td>\n",
              "            <td>MCKINLEY PARK</td>\n",
              "        </tr>\n",
              "        <tr>\n",
              "            <td>1317</td>\n",
              "            <td>MONTCLARE</td>\n",
              "        </tr>\n",
              "        <tr>\n",
              "            <td>3271</td>\n",
              "            <td>MORGAN PARK</td>\n",
              "        </tr>\n",
              "        <tr>\n",
              "            <td>2091</td>\n",
              "            <td>MOUNT GREENWOOD</td>\n",
              "        </tr>\n",
              "        <tr>\n",
              "            <td>3362</td>\n",
              "            <td>NEAR NORTH SIDE</td>\n",
              "        </tr>\n",
              "        <tr>\n",
              "            <td>1378</td>\n",
              "            <td>NEAR SOUTH SIDE</td>\n",
              "        </tr>\n",
              "        <tr>\n",
              "            <td>7975</td>\n",
              "            <td>NEAR WEST SIDE</td>\n",
              "        </tr>\n",
              "        <tr>\n",
              "            <td>7922</td>\n",
              "            <td>NEW CITY</td>\n",
              "        </tr>\n",
              "        <tr>\n",
              "            <td>7541</td>\n",
              "            <td>NORTH CENTER</td>\n",
              "        </tr>\n",
              "        <tr>\n",
              "            <td>5146</td>\n",
              "            <td>NORTH LAWNDALE</td>\n",
              "        </tr>\n",
              "        <tr>\n",
              "            <td>4210</td>\n",
              "            <td>NORTH PARK</td>\n",
              "        </tr>\n",
              "        <tr>\n",
              "            <td>6469</td>\n",
              "            <td>NORWOOD PARK</td>\n",
              "        </tr>\n",
              "        <tr>\n",
              "            <td>140</td>\n",
              "            <td>OAKLAND</td>\n",
              "        </tr>\n",
              "        <tr>\n",
              "            <td>786</td>\n",
              "            <td>OHARE</td>\n",
              "        </tr>\n",
              "        <tr>\n",
              "            <td>6954</td>\n",
              "            <td>PORTAGE PARK</td>\n",
              "        </tr>\n",
              "        <tr>\n",
              "            <td>1620</td>\n",
              "            <td>PULLMAN</td>\n",
              "        </tr>\n",
              "        <tr>\n",
              "            <td>1547</td>\n",
              "            <td>RIVERDALE</td>\n",
              "        </tr>\n",
              "        <tr>\n",
              "            <td>4068</td>\n",
              "            <td>ROGERS PARK</td>\n",
              "        </tr>\n",
              "        <tr>\n",
              "            <td>7020</td>\n",
              "            <td>ROSELAND</td>\n",
              "        </tr>\n",
              "        <tr>\n",
              "            <td>4043</td>\n",
              "            <td>SOUTH CHICAGO</td>\n",
              "        </tr>\n",
              "        <tr>\n",
              "            <td>1859</td>\n",
              "            <td>SOUTH DEERING</td>\n",
              "        </tr>\n",
              "        <tr>\n",
              "            <td>14793</td>\n",
              "            <td>SOUTH LAWNDALE</td>\n",
              "        </tr>\n",
              "        <tr>\n",
              "            <td>4543</td>\n",
              "            <td>SOUTH SHORE</td>\n",
              "        </tr>\n",
              "        <tr>\n",
              "            <td>4388</td>\n",
              "            <td>UPTOWN</td>\n",
              "        </tr>\n",
              "        <tr>\n",
              "            <td>4006</td>\n",
              "            <td>WASHINGTON HEIGHTS</td>\n",
              "        </tr>\n",
              "        <tr>\n",
              "            <td>2648</td>\n",
              "            <td>WASHINGTON PARK</td>\n",
              "        </tr>\n",
              "        <tr>\n",
              "            <td>3700</td>\n",
              "            <td>WEST ELSDON</td>\n",
              "        </tr>\n",
              "        <tr>\n",
              "            <td>5946</td>\n",
              "            <td>WEST ENGLEWOOD</td>\n",
              "        </tr>\n",
              "        <tr>\n",
              "            <td>2622</td>\n",
              "            <td>WEST GARFIELD PARK</td>\n",
              "        </tr>\n",
              "        <tr>\n",
              "            <td>4207</td>\n",
              "            <td>WEST LAWN</td>\n",
              "        </tr>\n",
              "        <tr>\n",
              "            <td>3240</td>\n",
              "            <td>WEST PULLMAN</td>\n",
              "        </tr>\n",
              "        <tr>\n",
              "            <td>8197</td>\n",
              "            <td>WEST RIDGE</td>\n",
              "        </tr>\n",
              "        <tr>\n",
              "            <td>9429</td>\n",
              "            <td>WEST TOWN</td>\n",
              "        </tr>\n",
              "        <tr>\n",
              "            <td>4206</td>\n",
              "            <td>WOODLAWN</td>\n",
              "        </tr>\n",
              "    </tbody>\n",
              "</table>"
            ]
          },
          "metadata": {},
          "execution_count": 46
        }
      ]
    },
    {
      "cell_type": "markdown",
      "source": [
        "Problem9: Get the 5 Community Areas with the least total College Enrollment sorted in ascending order"
      ],
      "metadata": {
        "id": "TkVW689ddkjm"
      }
    },
    {
      "cell_type": "code",
      "source": [
        "%sql select SUM(College_Enrollment) as 'Total_Enrollment', Community_Area_Name from Chicago_Public_Schools_Data \\\n",
        "group by Community_Area_Name \\\n",
        "order by Total_Enrollment \\\n",
        "Limit 5"
      ],
      "metadata": {
        "colab": {
          "base_uri": "https://localhost:8080/",
          "height": 182
        },
        "id": "wXMT9i7TdbM4",
        "outputId": "a6dbbea3-1872-459d-ff44-31be7af7be9c"
      },
      "execution_count": 48,
      "outputs": [
        {
          "output_type": "stream",
          "name": "stdout",
          "text": [
            " * sqlite:///RealWorldData.db\n",
            "Done.\n"
          ]
        },
        {
          "output_type": "execute_result",
          "data": {
            "text/plain": [
              "[(140, 'OAKLAND'),\n",
              " (531, 'FULLER PARK'),\n",
              " (549, 'BURNSIDE'),\n",
              " (786, 'OHARE'),\n",
              " (871, 'LOOP')]"
            ],
            "text/html": [
              "<table>\n",
              "    <thead>\n",
              "        <tr>\n",
              "            <th>Total_Enrollment</th>\n",
              "            <th>COMMUNITY_AREA_NAME</th>\n",
              "        </tr>\n",
              "    </thead>\n",
              "    <tbody>\n",
              "        <tr>\n",
              "            <td>140</td>\n",
              "            <td>OAKLAND</td>\n",
              "        </tr>\n",
              "        <tr>\n",
              "            <td>531</td>\n",
              "            <td>FULLER PARK</td>\n",
              "        </tr>\n",
              "        <tr>\n",
              "            <td>549</td>\n",
              "            <td>BURNSIDE</td>\n",
              "        </tr>\n",
              "        <tr>\n",
              "            <td>786</td>\n",
              "            <td>OHARE</td>\n",
              "        </tr>\n",
              "        <tr>\n",
              "            <td>871</td>\n",
              "            <td>LOOP</td>\n",
              "        </tr>\n",
              "    </tbody>\n",
              "</table>"
            ]
          },
          "metadata": {},
          "execution_count": 48
        }
      ]
    },
    {
      "cell_type": "markdown",
      "source": [
        "Problem10: List 5 schools with lowest safety score"
      ],
      "metadata": {
        "id": "T5APtUuqeBSO"
      }
    },
    {
      "cell_type": "code",
      "source": [
        "%sql select Name_of_School, Safety_Score from Chicago_Public_Schools_Data \\\n",
        "where safety_score != 'None' \\\n",
        "order by Safety_Score Limit 5"
      ],
      "metadata": {
        "colab": {
          "base_uri": "https://localhost:8080/",
          "height": 182
        },
        "id": "sLlUXiBFdzKC",
        "outputId": "1888f25e-7267-44fc-a5b1-b7aa42713adf"
      },
      "execution_count": 49,
      "outputs": [
        {
          "output_type": "stream",
          "name": "stdout",
          "text": [
            " * sqlite:///RealWorldData.db\n",
            "Done.\n"
          ]
        },
        {
          "output_type": "execute_result",
          "data": {
            "text/plain": [
              "[('Edmond Burke Elementary School', 1.0),\n",
              " (\"Luke O'Toole Elementary School\", 5.0),\n",
              " ('George W Tilton Elementary School', 6.0),\n",
              " ('Foster Park Elementary School', 11.0),\n",
              " ('Emil G Hirsch Metropolitan High School', 13.0)]"
            ],
            "text/html": [
              "<table>\n",
              "    <thead>\n",
              "        <tr>\n",
              "            <th>NAME_OF_SCHOOL</th>\n",
              "            <th>SAFETY_SCORE</th>\n",
              "        </tr>\n",
              "    </thead>\n",
              "    <tbody>\n",
              "        <tr>\n",
              "            <td>Edmond Burke Elementary School</td>\n",
              "            <td>1.0</td>\n",
              "        </tr>\n",
              "        <tr>\n",
              "            <td>Luke O&#x27;Toole Elementary School</td>\n",
              "            <td>5.0</td>\n",
              "        </tr>\n",
              "        <tr>\n",
              "            <td>George W Tilton Elementary School</td>\n",
              "            <td>6.0</td>\n",
              "        </tr>\n",
              "        <tr>\n",
              "            <td>Foster Park Elementary School</td>\n",
              "            <td>11.0</td>\n",
              "        </tr>\n",
              "        <tr>\n",
              "            <td>Emil G Hirsch Metropolitan High School</td>\n",
              "            <td>13.0</td>\n",
              "        </tr>\n",
              "    </tbody>\n",
              "</table>"
            ]
          },
          "metadata": {},
          "execution_count": 49
        }
      ]
    },
    {
      "cell_type": "markdown",
      "source": [
        "Problem11: Get the hardship index for the community area of the school which has College Enrollment of 4368"
      ],
      "metadata": {
        "id": "9kFGCqxUelIo"
      }
    },
    {
      "cell_type": "code",
      "source": [
        "df1 = pd.read_csv(\"https://cf-courses-data.s3.us.cloud-object-storage.appdomain.cloud/IBMDeveloperSkillsNetwork-DB0201EN-SkillsNetwork/labs/FinalModule_Coursera_V5/data/ChicagoCensusData.csv\")\n",
        "df1.to_sql(\"CENSUS_DATA\", con, if_exists='replace', index=False,method=\"multi\")\n",
        "\n",
        "%sql select hardship_index from Census_Data CD, Chicago_Public_Schools_Data CPSD \\\n",
        "where CD.community_area_number = CPSD.community_area_number and college_enrollment = 4368"
      ],
      "metadata": {
        "colab": {
          "base_uri": "https://localhost:8080/",
          "height": 96
        },
        "id": "yFosDgoZed60",
        "outputId": "f595be2e-4936-44d9-9de8-95e9b1486662"
      },
      "execution_count": 54,
      "outputs": [
        {
          "output_type": "stream",
          "name": "stdout",
          "text": [
            " * sqlite:///RealWorldData.db\n",
            "Done.\n"
          ]
        },
        {
          "output_type": "execute_result",
          "data": {
            "text/plain": [
              "[(6.0,)]"
            ],
            "text/html": [
              "<table>\n",
              "    <thead>\n",
              "        <tr>\n",
              "            <th>HARDSHIP_INDEX</th>\n",
              "        </tr>\n",
              "    </thead>\n",
              "    <tbody>\n",
              "        <tr>\n",
              "            <td>6.0</td>\n",
              "        </tr>\n",
              "    </tbody>\n",
              "</table>"
            ]
          },
          "metadata": {},
          "execution_count": 54
        }
      ]
    },
    {
      "cell_type": "markdown",
      "source": [
        "Problem12: Get the hardship index for the community area which has the highest value for College Enrollment"
      ],
      "metadata": {
        "id": "N4_TU6JGgGq5"
      }
    },
    {
      "cell_type": "code",
      "source": [
        "%sql select community_area_number, Community_Area_Name, hardship_index from Census_Data \\\n",
        "where community_area_number in \\\n",
        "(select community_area_number from Chicago_Public_Schools_Data order by college_enrollment desc limit 1)"
      ],
      "metadata": {
        "colab": {
          "base_uri": "https://localhost:8080/",
          "height": 96
        },
        "id": "Tc3KYtDMfDOx",
        "outputId": "c0c2604c-10e0-448d-ab00-37be05d0935c"
      },
      "execution_count": 58,
      "outputs": [
        {
          "output_type": "stream",
          "name": "stdout",
          "text": [
            " * sqlite:///RealWorldData.db\n",
            "Done.\n"
          ]
        },
        {
          "output_type": "execute_result",
          "data": {
            "text/plain": [
              "[(28.0, 'Near West Side', 15.0)]"
            ],
            "text/html": [
              "<table>\n",
              "    <thead>\n",
              "        <tr>\n",
              "            <th>COMMUNITY_AREA_NUMBER</th>\n",
              "            <th>COMMUNITY_AREA_NAME</th>\n",
              "            <th>HARDSHIP_INDEX</th>\n",
              "        </tr>\n",
              "    </thead>\n",
              "    <tbody>\n",
              "        <tr>\n",
              "            <td>28.0</td>\n",
              "            <td>Near West Side</td>\n",
              "            <td>15.0</td>\n",
              "        </tr>\n",
              "    </tbody>\n",
              "</table>"
            ]
          },
          "metadata": {},
          "execution_count": 58
        }
      ]
    }
  ]
}