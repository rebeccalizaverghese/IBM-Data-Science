{
  "nbformat": 4,
  "nbformat_minor": 0,
  "metadata": {
    "colab": {
      "provenance": [],
      "authorship_tag": "ABX9TyOjG4GIOc+Is3SVvX5PwR12",
      "include_colab_link": true
    },
    "kernelspec": {
      "name": "python3",
      "display_name": "Python 3"
    },
    "language_info": {
      "name": "python"
    }
  },
  "cells": [
    {
      "cell_type": "markdown",
      "metadata": {
        "id": "view-in-github",
        "colab_type": "text"
      },
      "source": [
        "<a href=\"https://colab.research.google.com/github/rebeccalizaverghese/IBM-Data-Science/blob/main/6.4_Final_Assessment.ipynb\" target=\"_parent\"><img src=\"https://colab.research.google.com/assets/colab-badge.svg\" alt=\"Open In Colab\"/></a>"
      ]
    },
    {
      "cell_type": "markdown",
      "source": [
        "### **Final Assessment**"
      ],
      "metadata": {
        "id": "1WhD4n9jl2k_"
      }
    },
    {
      "cell_type": "code",
      "execution_count": 20,
      "metadata": {
        "id": "Gvo6_T3_lxDK"
      },
      "outputs": [],
      "source": [
        "import csv, sqlite3\n",
        "con = sqlite3.connect(\"FinalDB.db\")\n",
        "cur = con.cursor()"
      ]
    },
    {
      "cell_type": "code",
      "source": [
        "%load_ext sql\n",
        "%sql sqlite:///FinalDB.db"
      ],
      "metadata": {
        "colab": {
          "base_uri": "https://localhost:8080/"
        },
        "id": "CpIaTXtKmpYG",
        "outputId": "378a4725-911d-43e4-aa4d-61f9877de5b0"
      },
      "execution_count": 21,
      "outputs": [
        {
          "output_type": "stream",
          "name": "stdout",
          "text": [
            "The sql extension is already loaded. To reload it, use:\n",
            "  %reload_ext sql\n"
          ]
        }
      ]
    },
    {
      "cell_type": "code",
      "source": [
        "import pandas as pd\n",
        "#Chicago Census Data\n",
        "df = pd.read_csv(\"https://cf-courses-data.s3.us.cloud-object-storage.appdomain.cloud/IBMDeveloperSkillsNetwork-DB0201EN-SkillsNetwork/labs/FinalModule_Coursera_V5/data/ChicagoCensusData.csv?utm_medium=Exinfluencer&utm_source=Exinfluencer&utm_content=000026UJ&utm_term=10006555&utm_id=NA-SkillsNetwork-Channel-SkillsNetworkCoursesIBMDeveloperSkillsNetworkDB0201ENSkillsNetwork20127838-2021-01-01\")\n",
        "df.to_sql(\"Census_Data\", con, if_exists='replace', index=False, method='multi')"
      ],
      "metadata": {
        "colab": {
          "base_uri": "https://localhost:8080/"
        },
        "id": "WypfzIg2m3Gd",
        "outputId": "1d0f402c-f3a4-408b-94a3-bbd78f1de98b"
      },
      "execution_count": 22,
      "outputs": [
        {
          "output_type": "execute_result",
          "data": {
            "text/plain": [
              "78"
            ]
          },
          "metadata": {},
          "execution_count": 22
        }
      ]
    },
    {
      "cell_type": "code",
      "source": [
        "#Chicago Public School Data\n",
        "df1 = pd.read_csv(\"https://cf-courses-data.s3.us.cloud-object-storage.appdomain.cloud/IBMDeveloperSkillsNetwork-DB0201EN-SkillsNetwork/labs/FinalModule_Coursera_V5/data/ChicagoPublicSchools.csv?utm_medium=Exinfluencer&utm_source=Exinfluencer&utm_content=000026UJ&utm_term=10006555&utm_id=NA-SkillsNetwork-Channel-SkillsNetworkCoursesIBMDeveloperSkillsNetworkDB0201ENSkillsNetwork20127838-2021-01-01\")\n",
        "df1.to_sql(\"Chicago_Public_School_Data\", con, if_exists='replace', index=False, method='multi')"
      ],
      "metadata": {
        "colab": {
          "base_uri": "https://localhost:8080/"
        },
        "id": "U2wBLR4snZ9g",
        "outputId": "1677c3c0-b632-4067-dfa1-216844d1e69d"
      },
      "execution_count": 23,
      "outputs": [
        {
          "output_type": "execute_result",
          "data": {
            "text/plain": [
              "566"
            ]
          },
          "metadata": {},
          "execution_count": 23
        }
      ]
    },
    {
      "cell_type": "code",
      "source": [
        "#Chicago Crime Data\n",
        "df2 = pd.read_csv(\"https://cf-courses-data.s3.us.cloud-object-storage.appdomain.cloud/IBMDeveloperSkillsNetwork-DB0201EN-SkillsNetwork/labs/FinalModule_Coursera_V5/data/ChicagoCrimeData.csv?utm_medium=Exinfluencer&utm_source=Exinfluencer&utm_content=000026UJ&utm_term=10006555&utm_id=NA-SkillsNetwork-Channel-SkillsNetworkCoursesIBMDeveloperSkillsNetworkDB0201ENSkillsNetwork20127838-2021-01-01\")\n",
        "df2.to_sql(\"Chicago_Crime_Data\", con, if_exists='replace', index=False, method='multi')"
      ],
      "metadata": {
        "colab": {
          "base_uri": "https://localhost:8080/"
        },
        "id": "D6bSByFdnvjW",
        "outputId": "47ae946e-e87f-4839-e9ce-09605ee4ca81"
      },
      "execution_count": 24,
      "outputs": [
        {
          "output_type": "execute_result",
          "data": {
            "text/plain": [
              "533"
            ]
          },
          "metadata": {},
          "execution_count": 24
        }
      ]
    },
    {
      "cell_type": "code",
      "source": [
        "%sql select name, type, length(type) from Pragma_Table_Info('Census_Data')"
      ],
      "metadata": {
        "colab": {
          "base_uri": "https://localhost:8080/",
          "height": 267
        },
        "id": "06ao2-GhpEM3",
        "outputId": "ace26257-e5cd-4a37-8f96-9be6b9d367c5"
      },
      "execution_count": 25,
      "outputs": [
        {
          "output_type": "stream",
          "name": "stdout",
          "text": [
            " * sqlite:///FinalDB.db\n",
            "Done.\n"
          ]
        },
        {
          "output_type": "execute_result",
          "data": {
            "text/plain": [
              "[('COMMUNITY_AREA_NUMBER', 'REAL', 4),\n",
              " ('COMMUNITY_AREA_NAME', 'TEXT', 4),\n",
              " ('PERCENT_OF_HOUSING_CROWDED', 'REAL', 4),\n",
              " ('PERCENT_HOUSEHOLDS_BELOW_POVERTY', 'REAL', 4),\n",
              " ('PERCENT_AGED_16__UNEMPLOYED', 'REAL', 4),\n",
              " ('PERCENT_AGED_25__WITHOUT_HIGH_SCHOOL_DIPLOMA', 'REAL', 4),\n",
              " ('PERCENT_AGED_UNDER_18_OR_OVER_64', 'REAL', 4),\n",
              " ('PER_CAPITA_INCOME', 'INTEGER', 7),\n",
              " ('HARDSHIP_INDEX', 'REAL', 4)]"
            ],
            "text/html": [
              "<table>\n",
              "    <thead>\n",
              "        <tr>\n",
              "            <th>name</th>\n",
              "            <th>type</th>\n",
              "            <th>length(type)</th>\n",
              "        </tr>\n",
              "    </thead>\n",
              "    <tbody>\n",
              "        <tr>\n",
              "            <td>COMMUNITY_AREA_NUMBER</td>\n",
              "            <td>REAL</td>\n",
              "            <td>4</td>\n",
              "        </tr>\n",
              "        <tr>\n",
              "            <td>COMMUNITY_AREA_NAME</td>\n",
              "            <td>TEXT</td>\n",
              "            <td>4</td>\n",
              "        </tr>\n",
              "        <tr>\n",
              "            <td>PERCENT_OF_HOUSING_CROWDED</td>\n",
              "            <td>REAL</td>\n",
              "            <td>4</td>\n",
              "        </tr>\n",
              "        <tr>\n",
              "            <td>PERCENT_HOUSEHOLDS_BELOW_POVERTY</td>\n",
              "            <td>REAL</td>\n",
              "            <td>4</td>\n",
              "        </tr>\n",
              "        <tr>\n",
              "            <td>PERCENT_AGED_16__UNEMPLOYED</td>\n",
              "            <td>REAL</td>\n",
              "            <td>4</td>\n",
              "        </tr>\n",
              "        <tr>\n",
              "            <td>PERCENT_AGED_25__WITHOUT_HIGH_SCHOOL_DIPLOMA</td>\n",
              "            <td>REAL</td>\n",
              "            <td>4</td>\n",
              "        </tr>\n",
              "        <tr>\n",
              "            <td>PERCENT_AGED_UNDER_18_OR_OVER_64</td>\n",
              "            <td>REAL</td>\n",
              "            <td>4</td>\n",
              "        </tr>\n",
              "        <tr>\n",
              "            <td>PER_CAPITA_INCOME</td>\n",
              "            <td>INTEGER</td>\n",
              "            <td>7</td>\n",
              "        </tr>\n",
              "        <tr>\n",
              "            <td>HARDSHIP_INDEX</td>\n",
              "            <td>REAL</td>\n",
              "            <td>4</td>\n",
              "        </tr>\n",
              "    </tbody>\n",
              "</table>"
            ]
          },
          "metadata": {},
          "execution_count": 25
        }
      ]
    },
    {
      "cell_type": "code",
      "source": [
        "%sql select name, type, length(type) from Pragma_Table_Info('Chicago_Public_School_Data')"
      ],
      "metadata": {
        "colab": {
          "base_uri": "https://localhost:8080/",
          "height": 1000
        },
        "id": "V1zkMaoFpiN2",
        "outputId": "b1a93b40-9631-4bb6-dba8-8804827ca20e"
      },
      "execution_count": 26,
      "outputs": [
        {
          "output_type": "stream",
          "name": "stdout",
          "text": [
            " * sqlite:///FinalDB.db\n",
            "Done.\n"
          ]
        },
        {
          "output_type": "execute_result",
          "data": {
            "text/plain": [
              "[('School_ID', 'INTEGER', 7),\n",
              " ('NAME_OF_SCHOOL', 'TEXT', 4),\n",
              " ('Elementary, Middle, or High School', 'TEXT', 4),\n",
              " ('Street_Address', 'TEXT', 4),\n",
              " ('City', 'TEXT', 4),\n",
              " ('State', 'TEXT', 4),\n",
              " ('ZIP_Code', 'INTEGER', 7),\n",
              " ('Phone_Number', 'TEXT', 4),\n",
              " ('Link', 'TEXT', 4),\n",
              " ('Network_Manager', 'TEXT', 4),\n",
              " ('Collaborative_Name', 'TEXT', 4),\n",
              " ('Adequate_Yearly_Progress_Made_', 'TEXT', 4),\n",
              " ('Track_Schedule', 'TEXT', 4),\n",
              " ('CPS_Performance_Policy_Status', 'TEXT', 4),\n",
              " ('CPS_Performance_Policy_Level', 'TEXT', 4),\n",
              " ('HEALTHY_SCHOOL_CERTIFIED', 'TEXT', 4),\n",
              " ('Safety_Icon', 'TEXT', 4),\n",
              " ('SAFETY_SCORE', 'REAL', 4),\n",
              " ('Family_Involvement_Icon', 'TEXT', 4),\n",
              " ('Family_Involvement_Score', 'TEXT', 4),\n",
              " ('Environment_Icon', 'TEXT', 4),\n",
              " ('Environment_Score', 'REAL', 4),\n",
              " ('Instruction_Icon', 'TEXT', 4),\n",
              " ('Instruction_Score', 'REAL', 4),\n",
              " ('Leaders_Icon', 'TEXT', 4),\n",
              " ('Leaders_Score', 'TEXT', 4),\n",
              " ('Teachers_Icon', 'TEXT', 4),\n",
              " ('Teachers_Score', 'TEXT', 4),\n",
              " ('Parent_Engagement_Icon', 'TEXT', 4),\n",
              " ('Parent_Engagement_Score', 'TEXT', 4),\n",
              " ('Parent_Environment_Icon', 'TEXT', 4),\n",
              " ('Parent_Environment_Score', 'TEXT', 4),\n",
              " ('AVERAGE_STUDENT_ATTENDANCE', 'TEXT', 4),\n",
              " ('Rate_of_Misconducts__per_100_students_', 'REAL', 4),\n",
              " ('Average_Teacher_Attendance', 'TEXT', 4),\n",
              " ('Individualized_Education_Program_Compliance_Rate', 'TEXT', 4),\n",
              " ('Pk_2_Literacy__', 'TEXT', 4),\n",
              " ('Pk_2_Math__', 'TEXT', 4),\n",
              " ('Gr3_5_Grade_Level_Math__', 'TEXT', 4),\n",
              " ('Gr3_5_Grade_Level_Read__', 'TEXT', 4),\n",
              " ('Gr3_5_Keep_Pace_Read__', 'TEXT', 4),\n",
              " ('Gr3_5_Keep_Pace_Math__', 'TEXT', 4),\n",
              " ('Gr6_8_Grade_Level_Math__', 'TEXT', 4),\n",
              " ('Gr6_8_Grade_Level_Read__', 'TEXT', 4),\n",
              " ('Gr6_8_Keep_Pace_Math_', 'TEXT', 4),\n",
              " ('Gr6_8_Keep_Pace_Read__', 'TEXT', 4),\n",
              " ('Gr_8_Explore_Math__', 'TEXT', 4),\n",
              " ('Gr_8_Explore_Read__', 'TEXT', 4),\n",
              " ('ISAT_Exceeding_Math__', 'REAL', 4),\n",
              " ('ISAT_Exceeding_Reading__', 'REAL', 4),\n",
              " ('ISAT_Value_Add_Math', 'REAL', 4),\n",
              " ('ISAT_Value_Add_Read', 'REAL', 4),\n",
              " ('ISAT_Value_Add_Color_Math', 'TEXT', 4),\n",
              " ('ISAT_Value_Add_Color_Read', 'TEXT', 4),\n",
              " ('Students_Taking__Algebra__', 'TEXT', 4),\n",
              " ('Students_Passing__Algebra__', 'TEXT', 4),\n",
              " ('9th Grade EXPLORE (2009)', 'TEXT', 4),\n",
              " ('9th Grade EXPLORE (2010)', 'TEXT', 4),\n",
              " ('10th Grade PLAN (2009)', 'TEXT', 4),\n",
              " ('10th Grade PLAN (2010)', 'TEXT', 4),\n",
              " ('Net_Change_EXPLORE_and_PLAN', 'TEXT', 4),\n",
              " ('11th Grade Average ACT (2011)', 'TEXT', 4),\n",
              " ('Net_Change_PLAN_and_ACT', 'TEXT', 4),\n",
              " ('College_Eligibility__', 'TEXT', 4),\n",
              " ('Graduation_Rate__', 'TEXT', 4),\n",
              " ('College_Enrollment_Rate__', 'TEXT', 4),\n",
              " ('COLLEGE_ENROLLMENT', 'INTEGER', 7),\n",
              " ('General_Services_Route', 'INTEGER', 7),\n",
              " ('Freshman_on_Track_Rate__', 'TEXT', 4),\n",
              " ('X_COORDINATE', 'REAL', 4),\n",
              " ('Y_COORDINATE', 'REAL', 4),\n",
              " ('Latitude', 'REAL', 4),\n",
              " ('Longitude', 'REAL', 4),\n",
              " ('COMMUNITY_AREA_NUMBER', 'INTEGER', 7),\n",
              " ('COMMUNITY_AREA_NAME', 'TEXT', 4),\n",
              " ('Ward', 'INTEGER', 7),\n",
              " ('Police_District', 'INTEGER', 7),\n",
              " ('Location', 'TEXT', 4)]"
            ],
            "text/html": [
              "<table>\n",
              "    <thead>\n",
              "        <tr>\n",
              "            <th>name</th>\n",
              "            <th>type</th>\n",
              "            <th>length(type)</th>\n",
              "        </tr>\n",
              "    </thead>\n",
              "    <tbody>\n",
              "        <tr>\n",
              "            <td>School_ID</td>\n",
              "            <td>INTEGER</td>\n",
              "            <td>7</td>\n",
              "        </tr>\n",
              "        <tr>\n",
              "            <td>NAME_OF_SCHOOL</td>\n",
              "            <td>TEXT</td>\n",
              "            <td>4</td>\n",
              "        </tr>\n",
              "        <tr>\n",
              "            <td>Elementary, Middle, or High School</td>\n",
              "            <td>TEXT</td>\n",
              "            <td>4</td>\n",
              "        </tr>\n",
              "        <tr>\n",
              "            <td>Street_Address</td>\n",
              "            <td>TEXT</td>\n",
              "            <td>4</td>\n",
              "        </tr>\n",
              "        <tr>\n",
              "            <td>City</td>\n",
              "            <td>TEXT</td>\n",
              "            <td>4</td>\n",
              "        </tr>\n",
              "        <tr>\n",
              "            <td>State</td>\n",
              "            <td>TEXT</td>\n",
              "            <td>4</td>\n",
              "        </tr>\n",
              "        <tr>\n",
              "            <td>ZIP_Code</td>\n",
              "            <td>INTEGER</td>\n",
              "            <td>7</td>\n",
              "        </tr>\n",
              "        <tr>\n",
              "            <td>Phone_Number</td>\n",
              "            <td>TEXT</td>\n",
              "            <td>4</td>\n",
              "        </tr>\n",
              "        <tr>\n",
              "            <td>Link</td>\n",
              "            <td>TEXT</td>\n",
              "            <td>4</td>\n",
              "        </tr>\n",
              "        <tr>\n",
              "            <td>Network_Manager</td>\n",
              "            <td>TEXT</td>\n",
              "            <td>4</td>\n",
              "        </tr>\n",
              "        <tr>\n",
              "            <td>Collaborative_Name</td>\n",
              "            <td>TEXT</td>\n",
              "            <td>4</td>\n",
              "        </tr>\n",
              "        <tr>\n",
              "            <td>Adequate_Yearly_Progress_Made_</td>\n",
              "            <td>TEXT</td>\n",
              "            <td>4</td>\n",
              "        </tr>\n",
              "        <tr>\n",
              "            <td>Track_Schedule</td>\n",
              "            <td>TEXT</td>\n",
              "            <td>4</td>\n",
              "        </tr>\n",
              "        <tr>\n",
              "            <td>CPS_Performance_Policy_Status</td>\n",
              "            <td>TEXT</td>\n",
              "            <td>4</td>\n",
              "        </tr>\n",
              "        <tr>\n",
              "            <td>CPS_Performance_Policy_Level</td>\n",
              "            <td>TEXT</td>\n",
              "            <td>4</td>\n",
              "        </tr>\n",
              "        <tr>\n",
              "            <td>HEALTHY_SCHOOL_CERTIFIED</td>\n",
              "            <td>TEXT</td>\n",
              "            <td>4</td>\n",
              "        </tr>\n",
              "        <tr>\n",
              "            <td>Safety_Icon</td>\n",
              "            <td>TEXT</td>\n",
              "            <td>4</td>\n",
              "        </tr>\n",
              "        <tr>\n",
              "            <td>SAFETY_SCORE</td>\n",
              "            <td>REAL</td>\n",
              "            <td>4</td>\n",
              "        </tr>\n",
              "        <tr>\n",
              "            <td>Family_Involvement_Icon</td>\n",
              "            <td>TEXT</td>\n",
              "            <td>4</td>\n",
              "        </tr>\n",
              "        <tr>\n",
              "            <td>Family_Involvement_Score</td>\n",
              "            <td>TEXT</td>\n",
              "            <td>4</td>\n",
              "        </tr>\n",
              "        <tr>\n",
              "            <td>Environment_Icon</td>\n",
              "            <td>TEXT</td>\n",
              "            <td>4</td>\n",
              "        </tr>\n",
              "        <tr>\n",
              "            <td>Environment_Score</td>\n",
              "            <td>REAL</td>\n",
              "            <td>4</td>\n",
              "        </tr>\n",
              "        <tr>\n",
              "            <td>Instruction_Icon</td>\n",
              "            <td>TEXT</td>\n",
              "            <td>4</td>\n",
              "        </tr>\n",
              "        <tr>\n",
              "            <td>Instruction_Score</td>\n",
              "            <td>REAL</td>\n",
              "            <td>4</td>\n",
              "        </tr>\n",
              "        <tr>\n",
              "            <td>Leaders_Icon</td>\n",
              "            <td>TEXT</td>\n",
              "            <td>4</td>\n",
              "        </tr>\n",
              "        <tr>\n",
              "            <td>Leaders_Score</td>\n",
              "            <td>TEXT</td>\n",
              "            <td>4</td>\n",
              "        </tr>\n",
              "        <tr>\n",
              "            <td>Teachers_Icon</td>\n",
              "            <td>TEXT</td>\n",
              "            <td>4</td>\n",
              "        </tr>\n",
              "        <tr>\n",
              "            <td>Teachers_Score</td>\n",
              "            <td>TEXT</td>\n",
              "            <td>4</td>\n",
              "        </tr>\n",
              "        <tr>\n",
              "            <td>Parent_Engagement_Icon</td>\n",
              "            <td>TEXT</td>\n",
              "            <td>4</td>\n",
              "        </tr>\n",
              "        <tr>\n",
              "            <td>Parent_Engagement_Score</td>\n",
              "            <td>TEXT</td>\n",
              "            <td>4</td>\n",
              "        </tr>\n",
              "        <tr>\n",
              "            <td>Parent_Environment_Icon</td>\n",
              "            <td>TEXT</td>\n",
              "            <td>4</td>\n",
              "        </tr>\n",
              "        <tr>\n",
              "            <td>Parent_Environment_Score</td>\n",
              "            <td>TEXT</td>\n",
              "            <td>4</td>\n",
              "        </tr>\n",
              "        <tr>\n",
              "            <td>AVERAGE_STUDENT_ATTENDANCE</td>\n",
              "            <td>TEXT</td>\n",
              "            <td>4</td>\n",
              "        </tr>\n",
              "        <tr>\n",
              "            <td>Rate_of_Misconducts__per_100_students_</td>\n",
              "            <td>REAL</td>\n",
              "            <td>4</td>\n",
              "        </tr>\n",
              "        <tr>\n",
              "            <td>Average_Teacher_Attendance</td>\n",
              "            <td>TEXT</td>\n",
              "            <td>4</td>\n",
              "        </tr>\n",
              "        <tr>\n",
              "            <td>Individualized_Education_Program_Compliance_Rate</td>\n",
              "            <td>TEXT</td>\n",
              "            <td>4</td>\n",
              "        </tr>\n",
              "        <tr>\n",
              "            <td>Pk_2_Literacy__</td>\n",
              "            <td>TEXT</td>\n",
              "            <td>4</td>\n",
              "        </tr>\n",
              "        <tr>\n",
              "            <td>Pk_2_Math__</td>\n",
              "            <td>TEXT</td>\n",
              "            <td>4</td>\n",
              "        </tr>\n",
              "        <tr>\n",
              "            <td>Gr3_5_Grade_Level_Math__</td>\n",
              "            <td>TEXT</td>\n",
              "            <td>4</td>\n",
              "        </tr>\n",
              "        <tr>\n",
              "            <td>Gr3_5_Grade_Level_Read__</td>\n",
              "            <td>TEXT</td>\n",
              "            <td>4</td>\n",
              "        </tr>\n",
              "        <tr>\n",
              "            <td>Gr3_5_Keep_Pace_Read__</td>\n",
              "            <td>TEXT</td>\n",
              "            <td>4</td>\n",
              "        </tr>\n",
              "        <tr>\n",
              "            <td>Gr3_5_Keep_Pace_Math__</td>\n",
              "            <td>TEXT</td>\n",
              "            <td>4</td>\n",
              "        </tr>\n",
              "        <tr>\n",
              "            <td>Gr6_8_Grade_Level_Math__</td>\n",
              "            <td>TEXT</td>\n",
              "            <td>4</td>\n",
              "        </tr>\n",
              "        <tr>\n",
              "            <td>Gr6_8_Grade_Level_Read__</td>\n",
              "            <td>TEXT</td>\n",
              "            <td>4</td>\n",
              "        </tr>\n",
              "        <tr>\n",
              "            <td>Gr6_8_Keep_Pace_Math_</td>\n",
              "            <td>TEXT</td>\n",
              "            <td>4</td>\n",
              "        </tr>\n",
              "        <tr>\n",
              "            <td>Gr6_8_Keep_Pace_Read__</td>\n",
              "            <td>TEXT</td>\n",
              "            <td>4</td>\n",
              "        </tr>\n",
              "        <tr>\n",
              "            <td>Gr_8_Explore_Math__</td>\n",
              "            <td>TEXT</td>\n",
              "            <td>4</td>\n",
              "        </tr>\n",
              "        <tr>\n",
              "            <td>Gr_8_Explore_Read__</td>\n",
              "            <td>TEXT</td>\n",
              "            <td>4</td>\n",
              "        </tr>\n",
              "        <tr>\n",
              "            <td>ISAT_Exceeding_Math__</td>\n",
              "            <td>REAL</td>\n",
              "            <td>4</td>\n",
              "        </tr>\n",
              "        <tr>\n",
              "            <td>ISAT_Exceeding_Reading__</td>\n",
              "            <td>REAL</td>\n",
              "            <td>4</td>\n",
              "        </tr>\n",
              "        <tr>\n",
              "            <td>ISAT_Value_Add_Math</td>\n",
              "            <td>REAL</td>\n",
              "            <td>4</td>\n",
              "        </tr>\n",
              "        <tr>\n",
              "            <td>ISAT_Value_Add_Read</td>\n",
              "            <td>REAL</td>\n",
              "            <td>4</td>\n",
              "        </tr>\n",
              "        <tr>\n",
              "            <td>ISAT_Value_Add_Color_Math</td>\n",
              "            <td>TEXT</td>\n",
              "            <td>4</td>\n",
              "        </tr>\n",
              "        <tr>\n",
              "            <td>ISAT_Value_Add_Color_Read</td>\n",
              "            <td>TEXT</td>\n",
              "            <td>4</td>\n",
              "        </tr>\n",
              "        <tr>\n",
              "            <td>Students_Taking__Algebra__</td>\n",
              "            <td>TEXT</td>\n",
              "            <td>4</td>\n",
              "        </tr>\n",
              "        <tr>\n",
              "            <td>Students_Passing__Algebra__</td>\n",
              "            <td>TEXT</td>\n",
              "            <td>4</td>\n",
              "        </tr>\n",
              "        <tr>\n",
              "            <td>9th Grade EXPLORE (2009)</td>\n",
              "            <td>TEXT</td>\n",
              "            <td>4</td>\n",
              "        </tr>\n",
              "        <tr>\n",
              "            <td>9th Grade EXPLORE (2010)</td>\n",
              "            <td>TEXT</td>\n",
              "            <td>4</td>\n",
              "        </tr>\n",
              "        <tr>\n",
              "            <td>10th Grade PLAN (2009)</td>\n",
              "            <td>TEXT</td>\n",
              "            <td>4</td>\n",
              "        </tr>\n",
              "        <tr>\n",
              "            <td>10th Grade PLAN (2010)</td>\n",
              "            <td>TEXT</td>\n",
              "            <td>4</td>\n",
              "        </tr>\n",
              "        <tr>\n",
              "            <td>Net_Change_EXPLORE_and_PLAN</td>\n",
              "            <td>TEXT</td>\n",
              "            <td>4</td>\n",
              "        </tr>\n",
              "        <tr>\n",
              "            <td>11th Grade Average ACT (2011)</td>\n",
              "            <td>TEXT</td>\n",
              "            <td>4</td>\n",
              "        </tr>\n",
              "        <tr>\n",
              "            <td>Net_Change_PLAN_and_ACT</td>\n",
              "            <td>TEXT</td>\n",
              "            <td>4</td>\n",
              "        </tr>\n",
              "        <tr>\n",
              "            <td>College_Eligibility__</td>\n",
              "            <td>TEXT</td>\n",
              "            <td>4</td>\n",
              "        </tr>\n",
              "        <tr>\n",
              "            <td>Graduation_Rate__</td>\n",
              "            <td>TEXT</td>\n",
              "            <td>4</td>\n",
              "        </tr>\n",
              "        <tr>\n",
              "            <td>College_Enrollment_Rate__</td>\n",
              "            <td>TEXT</td>\n",
              "            <td>4</td>\n",
              "        </tr>\n",
              "        <tr>\n",
              "            <td>COLLEGE_ENROLLMENT</td>\n",
              "            <td>INTEGER</td>\n",
              "            <td>7</td>\n",
              "        </tr>\n",
              "        <tr>\n",
              "            <td>General_Services_Route</td>\n",
              "            <td>INTEGER</td>\n",
              "            <td>7</td>\n",
              "        </tr>\n",
              "        <tr>\n",
              "            <td>Freshman_on_Track_Rate__</td>\n",
              "            <td>TEXT</td>\n",
              "            <td>4</td>\n",
              "        </tr>\n",
              "        <tr>\n",
              "            <td>X_COORDINATE</td>\n",
              "            <td>REAL</td>\n",
              "            <td>4</td>\n",
              "        </tr>\n",
              "        <tr>\n",
              "            <td>Y_COORDINATE</td>\n",
              "            <td>REAL</td>\n",
              "            <td>4</td>\n",
              "        </tr>\n",
              "        <tr>\n",
              "            <td>Latitude</td>\n",
              "            <td>REAL</td>\n",
              "            <td>4</td>\n",
              "        </tr>\n",
              "        <tr>\n",
              "            <td>Longitude</td>\n",
              "            <td>REAL</td>\n",
              "            <td>4</td>\n",
              "        </tr>\n",
              "        <tr>\n",
              "            <td>COMMUNITY_AREA_NUMBER</td>\n",
              "            <td>INTEGER</td>\n",
              "            <td>7</td>\n",
              "        </tr>\n",
              "        <tr>\n",
              "            <td>COMMUNITY_AREA_NAME</td>\n",
              "            <td>TEXT</td>\n",
              "            <td>4</td>\n",
              "        </tr>\n",
              "        <tr>\n",
              "            <td>Ward</td>\n",
              "            <td>INTEGER</td>\n",
              "            <td>7</td>\n",
              "        </tr>\n",
              "        <tr>\n",
              "            <td>Police_District</td>\n",
              "            <td>INTEGER</td>\n",
              "            <td>7</td>\n",
              "        </tr>\n",
              "        <tr>\n",
              "            <td>Location</td>\n",
              "            <td>TEXT</td>\n",
              "            <td>4</td>\n",
              "        </tr>\n",
              "    </tbody>\n",
              "</table>"
            ]
          },
          "metadata": {},
          "execution_count": 26
        }
      ]
    },
    {
      "cell_type": "code",
      "source": [
        "%sql select name, type, length(type) from Pragma_Table_Info('Chicago_Crime_Data')"
      ],
      "metadata": {
        "colab": {
          "base_uri": "https://localhost:8080/",
          "height": 524
        },
        "id": "dWrfDDhEqLnC",
        "outputId": "0395ec6c-e7e1-4245-ef19-16846c9c82c7"
      },
      "execution_count": 27,
      "outputs": [
        {
          "output_type": "stream",
          "name": "stdout",
          "text": [
            " * sqlite:///FinalDB.db\n",
            "Done.\n"
          ]
        },
        {
          "output_type": "execute_result",
          "data": {
            "text/plain": [
              "[('ID', 'INTEGER', 7),\n",
              " ('CASE_NUMBER', 'TEXT', 4),\n",
              " ('DATE', 'TEXT', 4),\n",
              " ('BLOCK', 'TEXT', 4),\n",
              " ('IUCR', 'TEXT', 4),\n",
              " ('PRIMARY_TYPE', 'TEXT', 4),\n",
              " ('DESCRIPTION', 'TEXT', 4),\n",
              " ('LOCATION_DESCRIPTION', 'TEXT', 4),\n",
              " ('ARREST', 'INTEGER', 7),\n",
              " ('DOMESTIC', 'INTEGER', 7),\n",
              " ('BEAT', 'INTEGER', 7),\n",
              " ('DISTRICT', 'INTEGER', 7),\n",
              " ('WARD', 'REAL', 4),\n",
              " ('COMMUNITY_AREA_NUMBER', 'REAL', 4),\n",
              " ('FBICODE', 'TEXT', 4),\n",
              " ('X_COORDINATE', 'REAL', 4),\n",
              " ('Y_COORDINATE', 'REAL', 4),\n",
              " ('YEAR', 'INTEGER', 7),\n",
              " ('LATITUDE', 'REAL', 4),\n",
              " ('LONGITUDE', 'REAL', 4),\n",
              " ('LOCATION', 'TEXT', 4)]"
            ],
            "text/html": [
              "<table>\n",
              "    <thead>\n",
              "        <tr>\n",
              "            <th>name</th>\n",
              "            <th>type</th>\n",
              "            <th>length(type)</th>\n",
              "        </tr>\n",
              "    </thead>\n",
              "    <tbody>\n",
              "        <tr>\n",
              "            <td>ID</td>\n",
              "            <td>INTEGER</td>\n",
              "            <td>7</td>\n",
              "        </tr>\n",
              "        <tr>\n",
              "            <td>CASE_NUMBER</td>\n",
              "            <td>TEXT</td>\n",
              "            <td>4</td>\n",
              "        </tr>\n",
              "        <tr>\n",
              "            <td>DATE</td>\n",
              "            <td>TEXT</td>\n",
              "            <td>4</td>\n",
              "        </tr>\n",
              "        <tr>\n",
              "            <td>BLOCK</td>\n",
              "            <td>TEXT</td>\n",
              "            <td>4</td>\n",
              "        </tr>\n",
              "        <tr>\n",
              "            <td>IUCR</td>\n",
              "            <td>TEXT</td>\n",
              "            <td>4</td>\n",
              "        </tr>\n",
              "        <tr>\n",
              "            <td>PRIMARY_TYPE</td>\n",
              "            <td>TEXT</td>\n",
              "            <td>4</td>\n",
              "        </tr>\n",
              "        <tr>\n",
              "            <td>DESCRIPTION</td>\n",
              "            <td>TEXT</td>\n",
              "            <td>4</td>\n",
              "        </tr>\n",
              "        <tr>\n",
              "            <td>LOCATION_DESCRIPTION</td>\n",
              "            <td>TEXT</td>\n",
              "            <td>4</td>\n",
              "        </tr>\n",
              "        <tr>\n",
              "            <td>ARREST</td>\n",
              "            <td>INTEGER</td>\n",
              "            <td>7</td>\n",
              "        </tr>\n",
              "        <tr>\n",
              "            <td>DOMESTIC</td>\n",
              "            <td>INTEGER</td>\n",
              "            <td>7</td>\n",
              "        </tr>\n",
              "        <tr>\n",
              "            <td>BEAT</td>\n",
              "            <td>INTEGER</td>\n",
              "            <td>7</td>\n",
              "        </tr>\n",
              "        <tr>\n",
              "            <td>DISTRICT</td>\n",
              "            <td>INTEGER</td>\n",
              "            <td>7</td>\n",
              "        </tr>\n",
              "        <tr>\n",
              "            <td>WARD</td>\n",
              "            <td>REAL</td>\n",
              "            <td>4</td>\n",
              "        </tr>\n",
              "        <tr>\n",
              "            <td>COMMUNITY_AREA_NUMBER</td>\n",
              "            <td>REAL</td>\n",
              "            <td>4</td>\n",
              "        </tr>\n",
              "        <tr>\n",
              "            <td>FBICODE</td>\n",
              "            <td>TEXT</td>\n",
              "            <td>4</td>\n",
              "        </tr>\n",
              "        <tr>\n",
              "            <td>X_COORDINATE</td>\n",
              "            <td>REAL</td>\n",
              "            <td>4</td>\n",
              "        </tr>\n",
              "        <tr>\n",
              "            <td>Y_COORDINATE</td>\n",
              "            <td>REAL</td>\n",
              "            <td>4</td>\n",
              "        </tr>\n",
              "        <tr>\n",
              "            <td>YEAR</td>\n",
              "            <td>INTEGER</td>\n",
              "            <td>7</td>\n",
              "        </tr>\n",
              "        <tr>\n",
              "            <td>LATITUDE</td>\n",
              "            <td>REAL</td>\n",
              "            <td>4</td>\n",
              "        </tr>\n",
              "        <tr>\n",
              "            <td>LONGITUDE</td>\n",
              "            <td>REAL</td>\n",
              "            <td>4</td>\n",
              "        </tr>\n",
              "        <tr>\n",
              "            <td>LOCATION</td>\n",
              "            <td>TEXT</td>\n",
              "            <td>4</td>\n",
              "        </tr>\n",
              "    </tbody>\n",
              "</table>"
            ]
          },
          "metadata": {},
          "execution_count": 27
        }
      ]
    },
    {
      "cell_type": "markdown",
      "source": [
        "**PROBLEMS**\n",
        "Problem1: Find the total number of crimes recorded in the CRIME table."
      ],
      "metadata": {
        "id": "QwUqVRy4opIr"
      }
    },
    {
      "cell_type": "code",
      "source": [
        "%sql select count(*) as \"Total_Number_of_Crimes\" from Chicago_Crime_Data"
      ],
      "metadata": {
        "colab": {
          "base_uri": "https://localhost:8080/",
          "height": 96
        },
        "id": "DhPZa8AJoV38",
        "outputId": "beca8b72-fb97-4514-ba71-3bf9e1b1071f"
      },
      "execution_count": 16,
      "outputs": [
        {
          "output_type": "stream",
          "name": "stdout",
          "text": [
            " * sqlite:///FinalDB.db\n",
            "Done.\n"
          ]
        },
        {
          "output_type": "execute_result",
          "data": {
            "text/plain": [
              "[(533,)]"
            ],
            "text/html": [
              "<table>\n",
              "    <thead>\n",
              "        <tr>\n",
              "            <th>Total_Number_of_Crimes</th>\n",
              "        </tr>\n",
              "    </thead>\n",
              "    <tbody>\n",
              "        <tr>\n",
              "            <td>533</td>\n",
              "        </tr>\n",
              "    </tbody>\n",
              "</table>"
            ]
          },
          "metadata": {},
          "execution_count": 16
        }
      ]
    },
    {
      "cell_type": "markdown",
      "source": [
        "Problem2: List community area names and numbers with per capita income less than 11000."
      ],
      "metadata": {
        "id": "2zrKYR5Hq6qt"
      }
    },
    {
      "cell_type": "code",
      "source": [
        "%sql select community_area_name, community_area_number, per_capita_income from Census_Data \\\n",
        "where per_capita_income <11000"
      ],
      "metadata": {
        "colab": {
          "base_uri": "https://localhost:8080/",
          "height": 160
        },
        "id": "tDF_BfFUq6Mx",
        "outputId": "f78c4085-8bc8-48bc-a13c-3536489d4fb8"
      },
      "execution_count": 18,
      "outputs": [
        {
          "output_type": "stream",
          "name": "stdout",
          "text": [
            " * sqlite:///FinalDB.db\n",
            "Done.\n"
          ]
        },
        {
          "output_type": "execute_result",
          "data": {
            "text/plain": [
              "[('West Garfield Park', 26.0, 10934),\n",
              " ('South Lawndale', 30.0, 10402),\n",
              " ('Fuller Park', 37.0, 10432),\n",
              " ('Riverdale', 54.0, 8201)]"
            ],
            "text/html": [
              "<table>\n",
              "    <thead>\n",
              "        <tr>\n",
              "            <th>COMMUNITY_AREA_NAME</th>\n",
              "            <th>COMMUNITY_AREA_NUMBER</th>\n",
              "            <th>PER_CAPITA_INCOME</th>\n",
              "        </tr>\n",
              "    </thead>\n",
              "    <tbody>\n",
              "        <tr>\n",
              "            <td>West Garfield Park</td>\n",
              "            <td>26.0</td>\n",
              "            <td>10934</td>\n",
              "        </tr>\n",
              "        <tr>\n",
              "            <td>South Lawndale</td>\n",
              "            <td>30.0</td>\n",
              "            <td>10402</td>\n",
              "        </tr>\n",
              "        <tr>\n",
              "            <td>Fuller Park</td>\n",
              "            <td>37.0</td>\n",
              "            <td>10432</td>\n",
              "        </tr>\n",
              "        <tr>\n",
              "            <td>Riverdale</td>\n",
              "            <td>54.0</td>\n",
              "            <td>8201</td>\n",
              "        </tr>\n",
              "    </tbody>\n",
              "</table>"
            ]
          },
          "metadata": {},
          "execution_count": 18
        }
      ]
    },
    {
      "cell_type": "markdown",
      "source": [
        "Problem3: List all case numbers for crimes involving minors?(children are not considered minors for the purposes of crime analysis)"
      ],
      "metadata": {
        "id": "8psOT3OirjDK"
      }
    },
    {
      "cell_type": "code",
      "source": [
        "%sql select * from Chicago_Crime_Data where Description LIKE \"%MINOR%\""
      ],
      "metadata": {
        "colab": {
          "base_uri": "https://localhost:8080/",
          "height": 259
        },
        "id": "NmqDIFlko6Uo",
        "outputId": "7e437e9c-a8fa-46c7-ff1c-a7ce99819f32"
      },
      "execution_count": 84,
      "outputs": [
        {
          "output_type": "stream",
          "name": "stdout",
          "text": [
            " * sqlite:///FinalDB.db\n",
            "Done.\n"
          ]
        },
        {
          "output_type": "execute_result",
          "data": {
            "text/plain": [
              "[(3987219, 'HL266884', '2005-03-31', '024XX N CLARK ST', '2210', 'LIQUOR LAW VIOLATION', 'SELL/GIVE/DEL LIQUOR TO MINOR', 'CONVENIENCE STORE', 1, 0, 2333, 19, 43.0, 7.0, '22', 1172680.0, 1916483.0, 2005, 41.92626872, -87.64089934, '(41.926268719, -87.640899336)'),\n",
              " (3266814, 'HK238408', '2004-03-13', '093XX S STONY ISLAND AVE', '2230', 'LIQUOR LAW VIOLATION', 'ILLEGAL CONSUMPTION BY MINOR', 'ALLEY', 1, 0, 413, 4, 8.0, 48.0, '22', 1188539.0, 1843379.0, 2004, 41.72530099, -87.58496589, '(41.72530099, -87.584965887)')]"
            ],
            "text/html": [
              "<table>\n",
              "    <thead>\n",
              "        <tr>\n",
              "            <th>ID</th>\n",
              "            <th>CASE_NUMBER</th>\n",
              "            <th>DATE</th>\n",
              "            <th>BLOCK</th>\n",
              "            <th>IUCR</th>\n",
              "            <th>PRIMARY_TYPE</th>\n",
              "            <th>DESCRIPTION</th>\n",
              "            <th>LOCATION_DESCRIPTION</th>\n",
              "            <th>ARREST</th>\n",
              "            <th>DOMESTIC</th>\n",
              "            <th>BEAT</th>\n",
              "            <th>DISTRICT</th>\n",
              "            <th>WARD</th>\n",
              "            <th>COMMUNITY_AREA_NUMBER</th>\n",
              "            <th>FBICODE</th>\n",
              "            <th>X_COORDINATE</th>\n",
              "            <th>Y_COORDINATE</th>\n",
              "            <th>YEAR</th>\n",
              "            <th>LATITUDE</th>\n",
              "            <th>LONGITUDE</th>\n",
              "            <th>LOCATION</th>\n",
              "        </tr>\n",
              "    </thead>\n",
              "    <tbody>\n",
              "        <tr>\n",
              "            <td>3987219</td>\n",
              "            <td>HL266884</td>\n",
              "            <td>2005-03-31</td>\n",
              "            <td>024XX N CLARK ST</td>\n",
              "            <td>2210</td>\n",
              "            <td>LIQUOR LAW VIOLATION</td>\n",
              "            <td>SELL/GIVE/DEL LIQUOR TO MINOR</td>\n",
              "            <td>CONVENIENCE STORE</td>\n",
              "            <td>1</td>\n",
              "            <td>0</td>\n",
              "            <td>2333</td>\n",
              "            <td>19</td>\n",
              "            <td>43.0</td>\n",
              "            <td>7.0</td>\n",
              "            <td>22</td>\n",
              "            <td>1172680.0</td>\n",
              "            <td>1916483.0</td>\n",
              "            <td>2005</td>\n",
              "            <td>41.92626872</td>\n",
              "            <td>-87.64089934</td>\n",
              "            <td>(41.926268719, -87.640899336)</td>\n",
              "        </tr>\n",
              "        <tr>\n",
              "            <td>3266814</td>\n",
              "            <td>HK238408</td>\n",
              "            <td>2004-03-13</td>\n",
              "            <td>093XX S STONY ISLAND AVE</td>\n",
              "            <td>2230</td>\n",
              "            <td>LIQUOR LAW VIOLATION</td>\n",
              "            <td>ILLEGAL CONSUMPTION BY MINOR</td>\n",
              "            <td>ALLEY</td>\n",
              "            <td>1</td>\n",
              "            <td>0</td>\n",
              "            <td>413</td>\n",
              "            <td>4</td>\n",
              "            <td>8.0</td>\n",
              "            <td>48.0</td>\n",
              "            <td>22</td>\n",
              "            <td>1188539.0</td>\n",
              "            <td>1843379.0</td>\n",
              "            <td>2004</td>\n",
              "            <td>41.72530099</td>\n",
              "            <td>-87.58496589</td>\n",
              "            <td>(41.72530099, -87.584965887)</td>\n",
              "        </tr>\n",
              "    </tbody>\n",
              "</table>"
            ]
          },
          "metadata": {},
          "execution_count": 84
        }
      ]
    },
    {
      "cell_type": "markdown",
      "source": [
        "Problem4: List all kidnapping crimes involving a child?"
      ],
      "metadata": {
        "id": "CO09bF4wzrB-"
      }
    },
    {
      "cell_type": "code",
      "source": [
        "%sql select * from Chicago_Crime_Data where Description LIKE \"%CHILD%\""
      ],
      "metadata": {
        "colab": {
          "base_uri": "https://localhost:8080/",
          "height": 281
        },
        "id": "StIg1QezvvRS",
        "outputId": "f9b882be-f792-4296-f372-eecfddf3241e"
      },
      "execution_count": 93,
      "outputs": [
        {
          "output_type": "stream",
          "name": "stdout",
          "text": [
            " * sqlite:///FinalDB.db\n",
            "Done.\n"
          ]
        },
        {
          "output_type": "execute_result",
          "data": {
            "text/plain": [
              "[(5766654, 'HN567387', '2007-09-02', '026XX W BELMONT AVE', '1754', 'OFFENSE INVOLVING CHILDREN', 'AGG SEX ASSLT OF CHILD FAM MBR', 'CHURCH/SYNAGOGUE/PLACE OF WORSHIP', 0, 0, 1411, 14, 1.0, 21.0, '2', 1158166.0, 1921161.0, 2007, 41.93941471, -87.69410322, '(41.939414712, -87.694103222)'),\n",
              " (6986273, 'HR391350', '2009-06-23', '015XX S KOLIN AVE', '1753', 'OFFENSE INVOLVING CHILDREN', 'SEX ASSLT OF CHILD BY FAM MBR', 'APARTMENT', 0, 1, 1012, 10, 24.0, 29.0, '2', 1147638.0, 1892092.0, 2009, 41.85985521, -87.73354382, '(41.859855212, -87.733543816)'),\n",
              " (5276766, 'HN144152', '2007-01-26', '050XX W VAN BUREN ST', '1792', 'KIDNAPPING', 'CHILD ABDUCTION/STRANGER', 'STREET', 0, 0, 1533, 15, 29.0, 25.0, '20', 1143050.0, 1897546.0, 2007, 41.87490841, -87.75024931, '(41.874908413, -87.750249307)')]"
            ],
            "text/html": [
              "<table>\n",
              "    <thead>\n",
              "        <tr>\n",
              "            <th>ID</th>\n",
              "            <th>CASE_NUMBER</th>\n",
              "            <th>DATE</th>\n",
              "            <th>BLOCK</th>\n",
              "            <th>IUCR</th>\n",
              "            <th>PRIMARY_TYPE</th>\n",
              "            <th>DESCRIPTION</th>\n",
              "            <th>LOCATION_DESCRIPTION</th>\n",
              "            <th>ARREST</th>\n",
              "            <th>DOMESTIC</th>\n",
              "            <th>BEAT</th>\n",
              "            <th>DISTRICT</th>\n",
              "            <th>WARD</th>\n",
              "            <th>COMMUNITY_AREA_NUMBER</th>\n",
              "            <th>FBICODE</th>\n",
              "            <th>X_COORDINATE</th>\n",
              "            <th>Y_COORDINATE</th>\n",
              "            <th>YEAR</th>\n",
              "            <th>LATITUDE</th>\n",
              "            <th>LONGITUDE</th>\n",
              "            <th>LOCATION</th>\n",
              "        </tr>\n",
              "    </thead>\n",
              "    <tbody>\n",
              "        <tr>\n",
              "            <td>5766654</td>\n",
              "            <td>HN567387</td>\n",
              "            <td>2007-09-02</td>\n",
              "            <td>026XX W BELMONT AVE</td>\n",
              "            <td>1754</td>\n",
              "            <td>OFFENSE INVOLVING CHILDREN</td>\n",
              "            <td>AGG SEX ASSLT OF CHILD FAM MBR</td>\n",
              "            <td>CHURCH/SYNAGOGUE/PLACE OF WORSHIP</td>\n",
              "            <td>0</td>\n",
              "            <td>0</td>\n",
              "            <td>1411</td>\n",
              "            <td>14</td>\n",
              "            <td>1.0</td>\n",
              "            <td>21.0</td>\n",
              "            <td>2</td>\n",
              "            <td>1158166.0</td>\n",
              "            <td>1921161.0</td>\n",
              "            <td>2007</td>\n",
              "            <td>41.93941471</td>\n",
              "            <td>-87.69410322</td>\n",
              "            <td>(41.939414712, -87.694103222)</td>\n",
              "        </tr>\n",
              "        <tr>\n",
              "            <td>6986273</td>\n",
              "            <td>HR391350</td>\n",
              "            <td>2009-06-23</td>\n",
              "            <td>015XX S KOLIN AVE</td>\n",
              "            <td>1753</td>\n",
              "            <td>OFFENSE INVOLVING CHILDREN</td>\n",
              "            <td>SEX ASSLT OF CHILD BY FAM MBR</td>\n",
              "            <td>APARTMENT</td>\n",
              "            <td>0</td>\n",
              "            <td>1</td>\n",
              "            <td>1012</td>\n",
              "            <td>10</td>\n",
              "            <td>24.0</td>\n",
              "            <td>29.0</td>\n",
              "            <td>2</td>\n",
              "            <td>1147638.0</td>\n",
              "            <td>1892092.0</td>\n",
              "            <td>2009</td>\n",
              "            <td>41.85985521</td>\n",
              "            <td>-87.73354382</td>\n",
              "            <td>(41.859855212, -87.733543816)</td>\n",
              "        </tr>\n",
              "        <tr>\n",
              "            <td>5276766</td>\n",
              "            <td>HN144152</td>\n",
              "            <td>2007-01-26</td>\n",
              "            <td>050XX W VAN BUREN ST</td>\n",
              "            <td>1792</td>\n",
              "            <td>KIDNAPPING</td>\n",
              "            <td>CHILD ABDUCTION/STRANGER</td>\n",
              "            <td>STREET</td>\n",
              "            <td>0</td>\n",
              "            <td>0</td>\n",
              "            <td>1533</td>\n",
              "            <td>15</td>\n",
              "            <td>29.0</td>\n",
              "            <td>25.0</td>\n",
              "            <td>20</td>\n",
              "            <td>1143050.0</td>\n",
              "            <td>1897546.0</td>\n",
              "            <td>2007</td>\n",
              "            <td>41.87490841</td>\n",
              "            <td>-87.75024931</td>\n",
              "            <td>(41.874908413, -87.750249307)</td>\n",
              "        </tr>\n",
              "    </tbody>\n",
              "</table>"
            ]
          },
          "metadata": {},
          "execution_count": 93
        }
      ]
    },
    {
      "cell_type": "markdown",
      "source": [
        "Problem5: List the kind of crimes that were recorded at schools. (No repetitions)"
      ],
      "metadata": {
        "id": "7kIp3TTd0FyJ"
      }
    },
    {
      "cell_type": "code",
      "source": [
        "%sql select distinct(Primary_Type) from Chicago_Crime_Data \\\n",
        "where location_description like '%school%'"
      ],
      "metadata": {
        "colab": {
          "base_uri": "https://localhost:8080/",
          "height": 203
        },
        "id": "uEF1dqKtz7Gk",
        "outputId": "d372c2c1-5a4a-4216-8b14-29a6a6ce8e4b"
      },
      "execution_count": 87,
      "outputs": [
        {
          "output_type": "stream",
          "name": "stdout",
          "text": [
            " * sqlite:///FinalDB.db\n",
            "Done.\n"
          ]
        },
        {
          "output_type": "execute_result",
          "data": {
            "text/plain": [
              "[('BATTERY',),\n",
              " ('CRIMINAL DAMAGE',),\n",
              " ('NARCOTICS',),\n",
              " ('ASSAULT',),\n",
              " ('CRIMINAL TRESPASS',),\n",
              " ('PUBLIC PEACE VIOLATION',)]"
            ],
            "text/html": [
              "<table>\n",
              "    <thead>\n",
              "        <tr>\n",
              "            <th>PRIMARY_TYPE</th>\n",
              "        </tr>\n",
              "    </thead>\n",
              "    <tbody>\n",
              "        <tr>\n",
              "            <td>BATTERY</td>\n",
              "        </tr>\n",
              "        <tr>\n",
              "            <td>CRIMINAL DAMAGE</td>\n",
              "        </tr>\n",
              "        <tr>\n",
              "            <td>NARCOTICS</td>\n",
              "        </tr>\n",
              "        <tr>\n",
              "            <td>ASSAULT</td>\n",
              "        </tr>\n",
              "        <tr>\n",
              "            <td>CRIMINAL TRESPASS</td>\n",
              "        </tr>\n",
              "        <tr>\n",
              "            <td>PUBLIC PEACE VIOLATION</td>\n",
              "        </tr>\n",
              "    </tbody>\n",
              "</table>"
            ]
          },
          "metadata": {},
          "execution_count": 87
        }
      ]
    },
    {
      "cell_type": "markdown",
      "source": [
        "Problem6: List the type of schools along with the average safety score for each type."
      ],
      "metadata": {
        "id": "u4k3RAEX1MOI"
      }
    },
    {
      "cell_type": "code",
      "source": [
        "%sql select (\"Elementary, Middle, or High School\"), avg(Safety_Score) from Chicago_Public_School_Data \\\n",
        "where \"Elementary, Middle, or High School\" = 'ES'"
      ],
      "metadata": {
        "colab": {
          "base_uri": "https://localhost:8080/",
          "height": 96
        },
        "id": "79KmjMjU0Rpc",
        "outputId": "f51363d0-a4ec-4de3-e72a-6a04356f46ab"
      },
      "execution_count": 57,
      "outputs": [
        {
          "output_type": "stream",
          "name": "stdout",
          "text": [
            " * sqlite:///FinalDB.db\n",
            "Done.\n"
          ]
        },
        {
          "output_type": "execute_result",
          "data": {
            "text/plain": [
              "[('ES', 49.52038369304557)]"
            ],
            "text/html": [
              "<table>\n",
              "    <thead>\n",
              "        <tr>\n",
              "            <th>Elementary, Middle, or High School</th>\n",
              "            <th>avg(Safety_Score)</th>\n",
              "        </tr>\n",
              "    </thead>\n",
              "    <tbody>\n",
              "        <tr>\n",
              "            <td>ES</td>\n",
              "            <td>49.52038369304557</td>\n",
              "        </tr>\n",
              "    </tbody>\n",
              "</table>"
            ]
          },
          "metadata": {},
          "execution_count": 57
        }
      ]
    },
    {
      "cell_type": "code",
      "source": [
        "%sql select (\"Elementary, Middle, or High School\"), avg(Safety_Score) from Chicago_Public_School_Data \\\n",
        "where \"Elementary, Middle, or High School\" = 'MS'"
      ],
      "metadata": {
        "colab": {
          "base_uri": "https://localhost:8080/",
          "height": 96
        },
        "id": "Qy2hNn6G14Hl",
        "outputId": "bfc2bfe1-2252-46af-87cc-2d69062fdd6f"
      },
      "execution_count": 56,
      "outputs": [
        {
          "output_type": "stream",
          "name": "stdout",
          "text": [
            " * sqlite:///FinalDB.db\n",
            "Done.\n"
          ]
        },
        {
          "output_type": "execute_result",
          "data": {
            "text/plain": [
              "[('MS', 48.0)]"
            ],
            "text/html": [
              "<table>\n",
              "    <thead>\n",
              "        <tr>\n",
              "            <th>Elementary, Middle, or High School</th>\n",
              "            <th>avg(Safety_Score)</th>\n",
              "        </tr>\n",
              "    </thead>\n",
              "    <tbody>\n",
              "        <tr>\n",
              "            <td>MS</td>\n",
              "            <td>48.0</td>\n",
              "        </tr>\n",
              "    </tbody>\n",
              "</table>"
            ]
          },
          "metadata": {},
          "execution_count": 56
        }
      ]
    },
    {
      "cell_type": "code",
      "source": [
        "%sql select (\"Elementary, Middle, or High School\"), avg(Safety_Score) from Chicago_Public_School_Data \\\n",
        "where \"Elementary, Middle, or High School\" = 'HS'"
      ],
      "metadata": {
        "colab": {
          "base_uri": "https://localhost:8080/",
          "height": 96
        },
        "id": "o5vvoCj848yZ",
        "outputId": "50ba2b73-f4b6-4216-f0c5-97bc7959db2e"
      },
      "execution_count": 58,
      "outputs": [
        {
          "output_type": "stream",
          "name": "stdout",
          "text": [
            " * sqlite:///FinalDB.db\n",
            "Done.\n"
          ]
        },
        {
          "output_type": "execute_result",
          "data": {
            "text/plain": [
              "[('HS', 49.62352941176471)]"
            ],
            "text/html": [
              "<table>\n",
              "    <thead>\n",
              "        <tr>\n",
              "            <th>Elementary, Middle, or High School</th>\n",
              "            <th>avg(Safety_Score)</th>\n",
              "        </tr>\n",
              "    </thead>\n",
              "    <tbody>\n",
              "        <tr>\n",
              "            <td>HS</td>\n",
              "            <td>49.62352941176471</td>\n",
              "        </tr>\n",
              "    </tbody>\n",
              "</table>"
            ]
          },
          "metadata": {},
          "execution_count": 58
        }
      ]
    },
    {
      "cell_type": "markdown",
      "source": [
        "Problem7: List 5 community areas with highest % of households below poverty line"
      ],
      "metadata": {
        "id": "Tykkhrr_5HyV"
      }
    },
    {
      "cell_type": "code",
      "source": [
        "%sql select community_area_name, community_area_number, PERCENT_HOUSEHOLDS_BELOW_POVERTY from Census_Data \\\n",
        "order by PERCENT_HOUSEHOLDS_BELOW_POVERTY desc limit 5"
      ],
      "metadata": {
        "colab": {
          "base_uri": "https://localhost:8080/",
          "height": 182
        },
        "id": "cyIfiZNq4_3b",
        "outputId": "195e1c42-9e3a-49a3-90a4-3b572ea945f8"
      },
      "execution_count": 64,
      "outputs": [
        {
          "output_type": "stream",
          "name": "stdout",
          "text": [
            " * sqlite:///FinalDB.db\n",
            "Done.\n"
          ]
        },
        {
          "output_type": "execute_result",
          "data": {
            "text/plain": [
              "[('Riverdale', 54.0, 56.5),\n",
              " ('Fuller Park', 37.0, 51.2),\n",
              " ('Englewood', 68.0, 46.6),\n",
              " ('North Lawndale', 29.0, 43.1),\n",
              " ('East Garfield Park', 27.0, 42.4)]"
            ],
            "text/html": [
              "<table>\n",
              "    <thead>\n",
              "        <tr>\n",
              "            <th>COMMUNITY_AREA_NAME</th>\n",
              "            <th>COMMUNITY_AREA_NUMBER</th>\n",
              "            <th>PERCENT_HOUSEHOLDS_BELOW_POVERTY</th>\n",
              "        </tr>\n",
              "    </thead>\n",
              "    <tbody>\n",
              "        <tr>\n",
              "            <td>Riverdale</td>\n",
              "            <td>54.0</td>\n",
              "            <td>56.5</td>\n",
              "        </tr>\n",
              "        <tr>\n",
              "            <td>Fuller Park</td>\n",
              "            <td>37.0</td>\n",
              "            <td>51.2</td>\n",
              "        </tr>\n",
              "        <tr>\n",
              "            <td>Englewood</td>\n",
              "            <td>68.0</td>\n",
              "            <td>46.6</td>\n",
              "        </tr>\n",
              "        <tr>\n",
              "            <td>North Lawndale</td>\n",
              "            <td>29.0</td>\n",
              "            <td>43.1</td>\n",
              "        </tr>\n",
              "        <tr>\n",
              "            <td>East Garfield Park</td>\n",
              "            <td>27.0</td>\n",
              "            <td>42.4</td>\n",
              "        </tr>\n",
              "    </tbody>\n",
              "</table>"
            ]
          },
          "metadata": {},
          "execution_count": 64
        }
      ]
    },
    {
      "cell_type": "markdown",
      "source": [
        "Problem8: Which community area is most crime prone? Display the coumminty area number only."
      ],
      "metadata": {
        "id": "yc70gWAt6rVx"
      }
    },
    {
      "cell_type": "code",
      "source": [
        "%sql select community_area_number, count(Primary_Type) as \"Count_Crimes\" from Chicago_Crime_Data \\\n",
        "group by community_area_number having count(Primary_Type) = 43\n"
      ],
      "metadata": {
        "colab": {
          "base_uri": "https://localhost:8080/",
          "height": 118
        },
        "id": "YIQSV_YB6GNE",
        "outputId": "b44486ed-7dfc-448a-d819-a85228efc061"
      },
      "execution_count": 130,
      "outputs": [
        {
          "output_type": "stream",
          "name": "stdout",
          "text": [
            " * sqlite:///FinalDB.db\n",
            "Done.\n"
          ]
        },
        {
          "output_type": "execute_result",
          "data": {
            "text/plain": [
              "[(None, 43), (25.0, 43)]"
            ],
            "text/html": [
              "<table>\n",
              "    <thead>\n",
              "        <tr>\n",
              "            <th>COMMUNITY_AREA_NUMBER</th>\n",
              "            <th>Count_Crimes</th>\n",
              "        </tr>\n",
              "    </thead>\n",
              "    <tbody>\n",
              "        <tr>\n",
              "            <td>None</td>\n",
              "            <td>43</td>\n",
              "        </tr>\n",
              "        <tr>\n",
              "            <td>25.0</td>\n",
              "            <td>43</td>\n",
              "        </tr>\n",
              "    </tbody>\n",
              "</table>"
            ]
          },
          "metadata": {},
          "execution_count": 130
        }
      ]
    },
    {
      "cell_type": "markdown",
      "source": [
        "Problem9: Use a sub-query to find the name of the community area with highest hardship index"
      ],
      "metadata": {
        "id": "fSiQtmH--Aec"
      }
    },
    {
      "cell_type": "code",
      "source": [
        "%sql select community_area_name from Census_Data \\\n",
        " where hardship_index in (select max(hardship_index) from Census_Data);"
      ],
      "metadata": {
        "colab": {
          "base_uri": "https://localhost:8080/",
          "height": 96
        },
        "id": "9xzVobjT7_XM",
        "outputId": "9d93640f-9fee-4a82-b856-86e1546fd72b"
      },
      "execution_count": 90,
      "outputs": [
        {
          "output_type": "stream",
          "name": "stdout",
          "text": [
            " * sqlite:///FinalDB.db\n",
            "Done.\n"
          ]
        },
        {
          "output_type": "execute_result",
          "data": {
            "text/plain": [
              "[('Riverdale',)]"
            ],
            "text/html": [
              "<table>\n",
              "    <thead>\n",
              "        <tr>\n",
              "            <th>COMMUNITY_AREA_NAME</th>\n",
              "        </tr>\n",
              "    </thead>\n",
              "    <tbody>\n",
              "        <tr>\n",
              "            <td>Riverdale</td>\n",
              "        </tr>\n",
              "    </tbody>\n",
              "</table>"
            ]
          },
          "metadata": {},
          "execution_count": 90
        }
      ]
    },
    {
      "cell_type": "markdown",
      "source": [
        "10: Use a sub-query to determine the Community Area Name with most number of crimes?"
      ],
      "metadata": {
        "id": "iuXrwaWN-pJu"
      }
    },
    {
      "cell_type": "code",
      "source": [
        "%sql select community_area_name from Census_Data as CD, Chicago_Crime_Data as CCD \\\n",
        " where CD.community_area_number = CCD.community_area_number and CCD.community_area_number = 25.0 limit 1\n"
      ],
      "metadata": {
        "colab": {
          "base_uri": "https://localhost:8080/",
          "height": 96
        },
        "id": "uAilj1PN-msj",
        "outputId": "2e0cf59c-7299-4022-cb42-ad85ee43d3ea"
      },
      "execution_count": 120,
      "outputs": [
        {
          "output_type": "stream",
          "name": "stdout",
          "text": [
            " * sqlite:///FinalDB.db\n",
            "Done.\n"
          ]
        },
        {
          "output_type": "execute_result",
          "data": {
            "text/plain": [
              "[('Austin',)]"
            ],
            "text/html": [
              "<table>\n",
              "    <thead>\n",
              "        <tr>\n",
              "            <th>COMMUNITY_AREA_NAME</th>\n",
              "        </tr>\n",
              "    </thead>\n",
              "    <tbody>\n",
              "        <tr>\n",
              "            <td>Austin</td>\n",
              "        </tr>\n",
              "    </tbody>\n",
              "</table>"
            ]
          },
          "metadata": {},
          "execution_count": 120
        }
      ]
    }
  ]
}