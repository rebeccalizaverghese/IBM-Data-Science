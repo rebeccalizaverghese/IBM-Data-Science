{
  "nbformat": 4,
  "nbformat_minor": 0,
  "metadata": {
    "colab": {
      "provenance": [],
      "authorship_tag": "ABX9TyN/pjYu+x16wx9m/TzsWr6v",
      "include_colab_link": true
    },
    "kernelspec": {
      "name": "python3",
      "display_name": "Python 3"
    },
    "language_info": {
      "name": "python"
    }
  },
  "cells": [
    {
      "cell_type": "markdown",
      "metadata": {
        "id": "view-in-github",
        "colab_type": "text"
      },
      "source": [
        "<a href=\"https://colab.research.google.com/github/rebeccalizaverghese/IBM-Data-Science/blob/main/3.3_Python_Programming_Fundamentals.ipynb\" target=\"_parent\"><img src=\"https://colab.research.google.com/assets/colab-badge.svg\" alt=\"Open In Colab\"/></a>"
      ]
    },
    {
      "cell_type": "markdown",
      "source": [
        "##### **Objects and Classes**\n",
        "Object: An object is a fundamental unit in Python that represents a real-world entity or concept An object is an instance of a particular type. Each data type (int/float/str/bool/list/dict) is an object.\n",
        "\n",
        "Class: An instance of an object is the realisation of a class. It is a blueprint/ template that defines the structure and behaviour that its objects will have. In order to create classes in python, we use the \"class\" keyword.\n",
        "\n",
        "Methods: They are functions that every instance of a class/ type provides, which allows us to interact with and make changes to the object."
      ],
      "metadata": {
        "id": "1YxkLrJVjA9r"
      }
    },
    {
      "cell_type": "code",
      "execution_count": 16,
      "metadata": {
        "id": "g6yCJ9HVi77s"
      },
      "outputs": [],
      "source": [
        "#Import library to draw object\n",
        "import matplotlib.pyplot as plt\n",
        "%matplotlib inline"
      ]
    },
    {
      "cell_type": "code",
      "source": [
        "class circle(object):\n",
        "  #constructor\n",
        "  def __init__(self,radius,color): #- the function (__init__) is a constructor -> it is a special function that tells python that you are making a new class\n",
        "    self.radius = radius #- the ‘self’ parameter refers to the newly created instance of the class - it is like a box that contains the object attributes\n",
        "    self.color = color\n",
        "\n",
        "redcircle = circle(10, 'red')"
      ],
      "metadata": {
        "id": "0YLIopfijr8B"
      },
      "execution_count": 17,
      "outputs": []
    },
    {
      "cell_type": "code",
      "source": [
        "print(\"The radius of the circle is: \",redcircle.radius)\n",
        "print (\"The color of the circle is: \", redcircle.color)"
      ],
      "metadata": {
        "colab": {
          "base_uri": "https://localhost:8080/"
        },
        "id": "C8uen6hOmthN",
        "outputId": "a6723102-f1a6-4faf-dec4-2cf167a594a1"
      },
      "execution_count": 18,
      "outputs": [
        {
          "output_type": "stream",
          "name": "stdout",
          "text": [
            "The radius of the circle is:  10\n",
            "The color of the circle is:  red\n"
          ]
        }
      ]
    },
    {
      "cell_type": "code",
      "source": [
        "dir(redcircle) #use dir command to get a list of the object's method"
      ],
      "metadata": {
        "colab": {
          "base_uri": "https://localhost:8080/"
        },
        "id": "iOoudHZaoBNp",
        "outputId": "413e4757-e57d-4841-80fc-30d6cc88fe45"
      },
      "execution_count": 19,
      "outputs": [
        {
          "output_type": "execute_result",
          "data": {
            "text/plain": [
              "['__class__',\n",
              " '__delattr__',\n",
              " '__dict__',\n",
              " '__dir__',\n",
              " '__doc__',\n",
              " '__eq__',\n",
              " '__format__',\n",
              " '__ge__',\n",
              " '__getattribute__',\n",
              " '__gt__',\n",
              " '__hash__',\n",
              " '__init__',\n",
              " '__init_subclass__',\n",
              " '__le__',\n",
              " '__lt__',\n",
              " '__module__',\n",
              " '__ne__',\n",
              " '__new__',\n",
              " '__reduce__',\n",
              " '__reduce_ex__',\n",
              " '__repr__',\n",
              " '__setattr__',\n",
              " '__sizeof__',\n",
              " '__str__',\n",
              " '__subclasshook__',\n",
              " '__weakref__',\n",
              " 'color',\n",
              " 'radius']"
            ]
          },
          "metadata": {},
          "execution_count": 19
        }
      ]
    },
    {
      "cell_type": "code",
      "source": [
        "#to change object attributes\n",
        "redcircle.color = \"blue\"\n",
        "redcircle.color"
      ],
      "metadata": {
        "colab": {
          "base_uri": "https://localhost:8080/",
          "height": 35
        },
        "id": "7_ZhlaTloX8k",
        "outputId": "66fdfb6f-8a11-4d4a-b2ac-bdc90a35822d"
      },
      "execution_count": 20,
      "outputs": [
        {
          "output_type": "execute_result",
          "data": {
            "text/plain": [
              "'blue'"
            ],
            "application/vnd.google.colaboratory.intrinsic+json": {
              "type": "string"
            }
          },
          "metadata": {},
          "execution_count": 20
        }
      ]
    },
    {
      "cell_type": "code",
      "source": [
        "import matplotlib.pyplot as plt\n",
        "%matplotlib inline\n",
        "class circle(object):\n",
        "\n",
        "  def __init__(self,radius,color):\n",
        "    self.radius = radius\n",
        "    self.color = color\n",
        "\n",
        "  #Method\n",
        "  def add_radius(self,r):\n",
        "    self.radius = self.radius + r\n",
        "    return(self.radius)\n",
        "\n",
        "\n",
        "  #Method\n",
        "  def drawcircle(self):\n",
        "    plt.gca().add_patch(plt.circle((0,0), radius=self.radius,fc=self.color))\n",
        "    plt.axis('scaled')\n",
        "    plt.show()\n"
      ],
      "metadata": {
        "id": "KgGxRV_Ym6HX"
      },
      "execution_count": 28,
      "outputs": []
    },
    {
      "cell_type": "code",
      "source": [
        "c1 = circle(10,'red')\n",
        "print(\"The radius of circle =\", c1.radius)\n",
        "#To change the object attribute radius\n",
        "c1.add_radius(2)\n",
        "print(\"The radius of circle, after using add_radius method, is \", c1.radius)"
      ],
      "metadata": {
        "colab": {
          "base_uri": "https://localhost:8080/"
        },
        "id": "m0w8Qj9zn7vv",
        "outputId": "2c6f2284-4648-46f8-b411-fcdae71364aa"
      },
      "execution_count": 36,
      "outputs": [
        {
          "output_type": "stream",
          "name": "stdout",
          "text": [
            "The radius of circle = 10\n",
            "The radius of circle, after using add_radius method, is  12\n"
          ]
        }
      ]
    },
    {
      "cell_type": "code",
      "source": [
        "# Rectangle\n",
        "class rectangle(object):\n",
        "  def __init__(self,height=3,width=2,color='r'):\n",
        "    self.height = height\n",
        "    self.width = width\n",
        "    self.color = color\n",
        "\n",
        "  def drawrectangle(self):\n",
        "    plt.gca().add_patch(plt.Rectangle((0, 0), self.width, self.height ,fc=self.color))\n",
        "    plt.axis('scaled')\n",
        "    plt.show()"
      ],
      "metadata": {
        "id": "zWA0gAPpovzy"
      },
      "execution_count": 42,
      "outputs": []
    },
    {
      "cell_type": "code",
      "source": [
        "rect1 = rectangle(2,3,'blue')\n",
        "print(\"height= \", rect1.height)\n",
        "print(\"width= \", rect1.width)\n",
        "print(\"color= \", rect1.color)"
      ],
      "metadata": {
        "colab": {
          "base_uri": "https://localhost:8080/"
        },
        "id": "suBApQYLrQgj",
        "outputId": "ae4d4e46-b97d-4d06-9f45-6366aacaebfa"
      },
      "execution_count": 44,
      "outputs": [
        {
          "output_type": "stream",
          "name": "stdout",
          "text": [
            "height=  2\n",
            "width=  3\n",
            "color=  blue\n"
          ]
        }
      ]
    },
    {
      "cell_type": "code",
      "source": [
        "#Car dealership inventory management system\n",
        "class vehicle(object):\n",
        "  color = 'white'\n",
        "  def __init__(self,max_speed,mileage):\n",
        "    self.max_speed = max_speed\n",
        "    self.mileage = mileage\n",
        "    self.seating_capacity = None\n",
        "\n",
        "  def assign_seating_capacity(self, seating_capacity):\n",
        "    self.seating_capacity = seating_capacity\n",
        "\n",
        "  def display_properties(self):\n",
        "    print(\"Properties of the vehicle: \")\n",
        "    print(\"Color: \", self.color)\n",
        "    print(\"Maximum Speed: \", self.max_speed, \"kmph\")\n",
        "    print(\"Mileage: \", self.mileage, \"kmph\")\n",
        "    print(\"Seating Capacity: \", self.seating_capacity)"
      ],
      "metadata": {
        "id": "CiaHWpBPsP1u"
      },
      "execution_count": 54,
      "outputs": []
    },
    {
      "cell_type": "code",
      "source": [
        "car1 = vehicle(200, 20)\n",
        "car1.assign_seating_capacity(5)\n",
        "car1.display_properties()"
      ],
      "metadata": {
        "colab": {
          "base_uri": "https://localhost:8080/"
        },
        "id": "JsoRRerEtFrm",
        "outputId": "1f916ca1-7397-486d-df2a-cd5a573b039a"
      },
      "execution_count": 55,
      "outputs": [
        {
          "output_type": "stream",
          "name": "stdout",
          "text": [
            "Properties of the vehicle: \n",
            "Color:  white\n",
            "Maximum Speed:  200 kmph\n",
            "Mileage:  20 kmph\n",
            "Seating Capacity:  5\n"
          ]
        }
      ]
    },
    {
      "cell_type": "code",
      "source": [
        "car2 = vehicle(180, 25)\n",
        "car2.assign_seating_capacity(4)\n",
        "car2.display_properties()"
      ],
      "metadata": {
        "colab": {
          "base_uri": "https://localhost:8080/"
        },
        "id": "VViNeaA5umbZ",
        "outputId": "3344bef2-3f9d-4b3b-e888-3c4d356c74b5"
      },
      "execution_count": 56,
      "outputs": [
        {
          "output_type": "stream",
          "name": "stdout",
          "text": [
            "Properties of the vehicle: \n",
            "Color:  white\n",
            "Maximum Speed:  180 kmph\n",
            "Mileage:  25 kmph\n",
            "Seating Capacity:  4\n"
          ]
        }
      ]
    }
  ]
}