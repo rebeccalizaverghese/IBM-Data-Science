{
  "nbformat": 4,
  "nbformat_minor": 0,
  "metadata": {
    "colab": {
      "provenance": [],
      "authorship_tag": "ABX9TyMqznzNXd/iZLrvlvcyXpvC",
      "include_colab_link": true
    },
    "kernelspec": {
      "name": "python3",
      "display_name": "Python 3"
    },
    "language_info": {
      "name": "python"
    }
  },
  "cells": [
    {
      "cell_type": "markdown",
      "metadata": {
        "id": "view-in-github",
        "colab_type": "text"
      },
      "source": [
        "<a href=\"https://colab.research.google.com/github/rebeccalizaverghese/IBM-Data-Science/blob/main/1.3_Python_Basics_String_Operations.ipynb\" target=\"_parent\"><img src=\"https://colab.research.google.com/assets/colab-badge.svg\" alt=\"Open In Colab\"/></a>"
      ]
    },
    {
      "cell_type": "markdown",
      "source": [
        "###String Operations\n",
        "\n",
        "String is an ordered sequence of characters contained within two single(' ')/double (\" \") quotes. It includes spaces, digits or special characters and can be assigned to another variable."
      ],
      "metadata": {
        "id": "m0c6hfPzL67H"
      }
    },
    {
      "cell_type": "code",
      "source": [
        "'Hello, All!'"
      ],
      "metadata": {
        "colab": {
          "base_uri": "https://localhost:8080/",
          "height": 35
        },
        "id": "OPvdpPkENRNV",
        "outputId": "c534ff23-f7f3-4a3a-fddd-4e2486917e39"
      },
      "execution_count": 4,
      "outputs": [
        {
          "output_type": "execute_result",
          "data": {
            "text/plain": [
              "'Hello, All!'"
            ],
            "application/vnd.google.colaboratory.intrinsic+json": {
              "type": "string"
            }
          },
          "metadata": {},
          "execution_count": 4
        }
      ]
    },
    {
      "cell_type": "code",
      "source": [
        "print(\"Michael Jackson\")\n",
        "print('1 2 3 4 5 6')\n",
        "print('!@#345^&*_+$%')"
      ],
      "metadata": {
        "colab": {
          "base_uri": "https://localhost:8080/"
        },
        "id": "Uvwg1R5sMe58",
        "outputId": "e5917c44-5b6d-4d54-d4df-97f402fe912f"
      },
      "execution_count": 5,
      "outputs": [
        {
          "output_type": "stream",
          "name": "stdout",
          "text": [
            "Michael Jackson\n",
            "1 2 3 4 5 6\n",
            "!@#345^&*_+$%\n"
          ]
        }
      ]
    },
    {
      "cell_type": "code",
      "source": [
        "#Assigning a string to a variable\n",
        "name = \"Michael Jackson\"\n",
        "name"
      ],
      "metadata": {
        "colab": {
          "base_uri": "https://localhost:8080/",
          "height": 35
        },
        "id": "-c8GbEZYM1b-",
        "outputId": "c68dd2b7-0034-47bf-9f93-e759f877d209"
      },
      "execution_count": 7,
      "outputs": [
        {
          "output_type": "execute_result",
          "data": {
            "text/plain": [
              "'Michael Jackson'"
            ],
            "application/vnd.google.colaboratory.intrinsic+json": {
              "type": "string"
            }
          },
          "metadata": {},
          "execution_count": 7
        }
      ]
    },
    {
      "cell_type": "code",
      "source": [
        "#Indexing\n",
        "# A string is an ordered sequence - each element in the sequence can be accessed using an index represented by an array of positive/ negative numbers.\n",
        "name = \"Annabel Jackson\"\n",
        "print(name[0]) #Positive indexing starts at zero, therefore the first index is on the index zero\n",
        "print(name[8])\n",
        "print(name[3])\n",
        "print(name[13])\n",
        "print(name[-1]) #Negative indexing counts the elements from the end of the string, therefore the last element is given by -1\n",
        "print(name[-7])\n",
        "print(name[-15])"
      ],
      "metadata": {
        "colab": {
          "base_uri": "https://localhost:8080/"
        },
        "id": "H6eJ9WBuNcR1",
        "outputId": "74a6d4a8-0467-40a2-9b30-210e5c352be5"
      },
      "execution_count": 15,
      "outputs": [
        {
          "output_type": "stream",
          "name": "stdout",
          "text": [
            "A\n",
            "J\n",
            "a\n",
            "o\n",
            "n\n",
            "J\n",
            "A\n"
          ]
        }
      ]
    },
    {
      "cell_type": "code",
      "source": [
        "len(name) #len commands allows us to find the length of the string, i.e., the total number of elements"
      ],
      "metadata": {
        "colab": {
          "base_uri": "https://localhost:8080/"
        },
        "id": "SHWiY9nxOII4",
        "outputId": "b5803a0d-f9c8-44ef-e4c3-3b5ccf98e4bd"
      },
      "execution_count": 16,
      "outputs": [
        {
          "output_type": "execute_result",
          "data": {
            "text/plain": [
              "15"
            ]
          },
          "metadata": {},
          "execution_count": 16
        }
      ]
    },
    {
      "cell_type": "code",
      "source": [
        "len(\"Python\")"
      ],
      "metadata": {
        "colab": {
          "base_uri": "https://localhost:8080/"
        },
        "id": "N5oaHvS8UOGi",
        "outputId": "da8ff593-2170-40b6-c265-bbde63419122"
      },
      "execution_count": 18,
      "outputs": [
        {
          "output_type": "execute_result",
          "data": {
            "text/plain": [
              "6"
            ]
          },
          "metadata": {},
          "execution_count": 18
        }
      ]
    },
    {
      "cell_type": "code",
      "source": [
        "#Slicing - it allows us to obtain multiple characters from a string\n",
        "  #variable[n1:n2] where the first number (n1) means the index (start at n1) and the second number (n2) means the length from the index to the to the last element desired\n",
        "print(name[0:3]) #from index 0 upto 3 elements\n",
        "print(name[4:7], name[8:15])"
      ],
      "metadata": {
        "colab": {
          "base_uri": "https://localhost:8080/"
        },
        "id": "1CalZEDkURLY",
        "outputId": "7bcbeba3-eff0-439a-d0aa-42949d776dd4"
      },
      "execution_count": 27,
      "outputs": [
        {
          "output_type": "stream",
          "name": "stdout",
          "text": [
            "Ann\n",
            "bel Jackson\n"
          ]
        }
      ]
    },
    {
      "cell_type": "code",
      "source": [
        "#Stride - variable(::n) where the ::n indicates that every nth element is selected\n",
        "print(name[::2]) # every 2nd value is selected - elements on index 1, 3, 5, 7....\n",
        "print(name[::3]) # every 3rd value is selected - elements on index 1, 4, 6, 8..."
      ],
      "metadata": {
        "colab": {
          "base_uri": "https://localhost:8080/"
        },
        "id": "4-EJTjFmVbS9",
        "outputId": "0240a68d-c111-4ed2-fdef-2dcab227ec00"
      },
      "execution_count": 29,
      "outputs": [
        {
          "output_type": "stream",
          "name": "stdout",
          "text": [
            "AnblJcsn\n",
            "Aalas\n"
          ]
        }
      ]
    },
    {
      "cell_type": "code",
      "source": [
        "#incorporating slicing with stride - variable[n1:n2:n] - where every element from n1 to n2 and an interval of n between the elements\n",
        "print(name[0:5:3])\n",
        "print(name[8:15:2])"
      ],
      "metadata": {
        "colab": {
          "base_uri": "https://localhost:8080/"
        },
        "id": "zbIR7pFzYOip",
        "outputId": "6be0dc07-f961-4e87-e790-5852328d71cd"
      },
      "execution_count": 31,
      "outputs": [
        {
          "output_type": "stream",
          "name": "stdout",
          "text": [
            "Aa\n",
            "Jcsn\n"
          ]
        }
      ]
    },
    {
      "cell_type": "code",
      "source": [
        "# Concatenate Strings - we can concatenate or combine strings using the (+) symbols and the result is a new string which is the combination of both\n",
        "full_name = name[0:3]+name[7:15]\n",
        "print(full_name)\n",
        "print(full_name+\" is the topper of her class!\")"
      ],
      "metadata": {
        "colab": {
          "base_uri": "https://localhost:8080/"
        },
        "id": "XtnmL-HPZcL1",
        "outputId": "27723bd2-31bd-43d4-ccc4-0e7c78ba19d2"
      },
      "execution_count": 43,
      "outputs": [
        {
          "output_type": "stream",
          "name": "stdout",
          "text": [
            "Ann Jackson\n",
            "Ann Jackson is the topper of her class!\n"
          ]
        }
      ]
    },
    {
      "cell_type": "code",
      "source": [
        "#Replicating values of a string - multiply the variable by the number of times you would like to replicate it with\n",
        "print(full_name*3)\n",
        "print(5*name[7:15])\n",
        "print(2* \" Hello\")"
      ],
      "metadata": {
        "colab": {
          "base_uri": "https://localhost:8080/"
        },
        "id": "PTUy6l6naGkt",
        "outputId": "c165a064-b55c-4f91-8ad4-68480386db31"
      },
      "execution_count": 49,
      "outputs": [
        {
          "output_type": "stream",
          "name": "stdout",
          "text": [
            "Ann JacksonAnn JacksonAnn Jackson\n",
            " Jackson Jackson Jackson Jackson Jackson\n",
            " Hello Hello\n"
          ]
        }
      ]
    },
    {
      "cell_type": "code",
      "source": [
        "#Escape sequences\n",
        "print(\"Katie \\n is the topper of her class\") #(\\n) new line - output is given in a new line after the \\n is entered\n",
        "print(\"Can I order a Pizza \\t please\") #(\\t) tab - provides a tab/ space where the \\t is\n",
        "print(\"Katie scored \\\\ the highest.\") # (\\\\) used to provide a backslash in the string\n",
        "print(r\"Katie scored \\ the highest\") # can provide a backslash in the string by placing a \"r\" before the string"
      ],
      "metadata": {
        "colab": {
          "base_uri": "https://localhost:8080/"
        },
        "id": "IzhWw9-ca1zt",
        "outputId": "e1495f62-2788-4f9a-e463-8dd6707e32c0"
      },
      "execution_count": 57,
      "outputs": [
        {
          "output_type": "stream",
          "name": "stdout",
          "text": [
            "Katie \n",
            " is the topper of her class\n",
            "Can I order a Pizza \t please\n",
            "Katie scored \\ the highest.\n",
            "Katie scored \\ the highest\n"
          ]
        }
      ]
    },
    {
      "cell_type": "code",
      "source": [
        "#String Manipulation Operations - operations used to manipulate the data\n",
        "a = \"Comedy is the most preferred genre.\"\n",
        "b = a.upper() #converts all characters to upper case\n",
        "print(b)\n",
        "c = b.lower() #converts all characters to lower case\n",
        "print(c)\n",
        "d = a.replace(\"Comedy\", \"RomCom\") #replaces one word with another => variable.replace(\"v1\", \"v2\") - v1: Changed variable || v2: Original Variable\n",
        "print(d)"
      ],
      "metadata": {
        "colab": {
          "base_uri": "https://localhost:8080/"
        },
        "id": "USnMc8HRbdS3",
        "outputId": "24969629-836a-4352-d1c0-cff70d8b4add"
      },
      "execution_count": 71,
      "outputs": [
        {
          "output_type": "stream",
          "name": "stdout",
          "text": [
            "COMEDY IS THE MOST PREFERRED GENRE.\n",
            "comedy is the most preferred genre.\n",
            "RomCom is the most preferred genre.\n"
          ]
        }
      ]
    },
    {
      "cell_type": "code",
      "source": [
        "print(name.upper())\n",
        "print(name.lower())\n",
        "print(full_name.replace(\"Jackson\", \"Smith\"))"
      ],
      "metadata": {
        "colab": {
          "base_uri": "https://localhost:8080/"
        },
        "id": "BMyy8lS2dCjy",
        "outputId": "c7b4da56-2482-4ce0-c467-fad02587fa54"
      },
      "execution_count": 70,
      "outputs": [
        {
          "output_type": "stream",
          "name": "stdout",
          "text": [
            "ANNABEL JACKSON\n",
            "annabel jackson\n",
            "Ann Smith\n"
          ]
        }
      ]
    },
    {
      "cell_type": "code",
      "source": [
        "# To find substring in a string - variable.find(\"substring\") - returns the index of the first element in sequence\n",
        "print(full_name.find(\"Jack\")) # full_name = Ann Jackson => \"J\" is 4th index\n",
        "print(name.find(\"bel\")) # name = Annabel Jackson => \"bel\" is 4rd index\n"
      ],
      "metadata": {
        "colab": {
          "base_uri": "https://localhost:8080/"
        },
        "id": "QDSh6XP4dhg6",
        "outputId": "7d0321af-cf70-4ae4-9383-3cba3dd97117"
      },
      "execution_count": 73,
      "outputs": [
        {
          "output_type": "stream",
          "name": "stdout",
          "text": [
            "4\n",
            "4\n"
          ]
        }
      ]
    },
    {
      "cell_type": "code",
      "source": [
        "#Split - splits the string at the specified separator and returns a list\n",
        "n = \"Michael Jackson\"\n",
        "split_string = n.split()\n",
        "print(split_string)\n",
        "print(full_name.split())"
      ],
      "metadata": {
        "colab": {
          "base_uri": "https://localhost:8080/"
        },
        "id": "1G1Q6MIoe8WY",
        "outputId": "07481a57-ec78-4066-fd0a-54ca49835c8a"
      },
      "execution_count": 75,
      "outputs": [
        {
          "output_type": "stream",
          "name": "stdout",
          "text": [
            "['Michael', 'Jackson']\n",
            "['Ann', 'Jackson']\n"
          ]
        }
      ]
    },
    {
      "cell_type": "code",
      "source": [
        "#RegEx - Regular Expression - tool for matching and handling strings - provides several functions for working with regular expressions\n",
        " #Python provides a built-in module called (re) which allows you to work with regular expressions - this module needs to be imported first\n",
        "import re"
      ],
      "metadata": {
        "id": "SLuE5eANgPej"
      },
      "execution_count": 77,
      "outputs": []
    },
    {
      "cell_type": "code",
      "source": [
        "s1 = \"Nancy is the best detective in the world\"\n",
        "pattern = r\"Nancy\" #define the pattern to search for\n",
        "result = re.search(pattern, s1) #use search() function to search for the pattern in the string\n",
        "\n",
        "#to check if result was found\n",
        "if result:\n",
        "  print(\"Pattern found!\", result)\n",
        "else:\n",
        "  print(\"Pattern not found!\")"
      ],
      "metadata": {
        "colab": {
          "base_uri": "https://localhost:8080/"
        },
        "id": "fBeOWoyxgz-x",
        "outputId": "96015330-36a6-4725-db81-d254b74d7204"
      },
      "execution_count": 78,
      "outputs": [
        {
          "output_type": "stream",
          "name": "stdout",
          "text": [
            "Pattern found! <re.Match object; span=(0, 5), match='Nancy'>\n"
          ]
        }
      ]
    },
    {
      "cell_type": "code",
      "source": [
        "s1 = \"Nancy is the best detective in the world\"\n",
        "pattern = r\"Beth\"\n",
        "result = re.search(pattern, s1)\n",
        "\n",
        "if result:\n",
        "  print(\"Pattern found!\", result)\n",
        "else:\n",
        "  print(\"Pattern not found!\")"
      ],
      "metadata": {
        "colab": {
          "base_uri": "https://localhost:8080/"
        },
        "id": "zf9hZE_OhqVC",
        "outputId": "9df64d82-bb58-4a31-bc6c-80243c9a4d0f"
      },
      "execution_count": 79,
      "outputs": [
        {
          "output_type": "stream",
          "name": "stdout",
          "text": [
            "Pattern not found!\n"
          ]
        }
      ]
    },
    {
      "cell_type": "code",
      "source": [
        "s2 = \"Tailor Swift is the best singer and songer writer in the world!\"\n",
        "# use findall() function to find all occurnances of a particular word/phrase in the string\n",
        "result = re.findall(\"in\",s2)\n",
        "print(result)\n",
        "result1 = re.findall(\"as\",s2)\n",
        "print(result1)"
      ],
      "metadata": {
        "colab": {
          "base_uri": "https://localhost:8080/"
        },
        "id": "lDN2p2KSh4Hb",
        "outputId": "b985d7bd-fb7b-46fd-dd21-404d59d4ff33"
      },
      "execution_count": 83,
      "outputs": [
        {
          "output_type": "stream",
          "name": "stdout",
          "text": [
            "['in', 'in']\n",
            "[]\n"
          ]
        }
      ]
    },
    {
      "cell_type": "code",
      "source": [
        "split_array = re.split(\"\\s\", s2) #split function is used to split the string by the \"\\s\"\n",
        "print(split_array) #the split_array contains all the substrings, split by whitespace characters"
      ],
      "metadata": {
        "colab": {
          "base_uri": "https://localhost:8080/"
        },
        "id": "wPsClm0jiTWk",
        "outputId": "b30b9924-66ff-41b2-eb99-40109d7d82fd"
      },
      "execution_count": 87,
      "outputs": [
        {
          "output_type": "stream",
          "name": "stdout",
          "text": [
            "['Tailor', 'Swift', 'is', 'the', 'best', 'singer', 'and', 'songer', 'writer', 'in', 'the', 'world!']\n"
          ]
        }
      ]
    },
    {
      "cell_type": "code",
      "source": [],
      "metadata": {
        "id": "xfS4zEe6jGtG"
      },
      "execution_count": null,
      "outputs": []
    }
  ]
}