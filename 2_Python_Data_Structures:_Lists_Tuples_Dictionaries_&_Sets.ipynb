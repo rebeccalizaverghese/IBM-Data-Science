{
  "cells": [
    {
      "cell_type": "markdown",
      "metadata": {
        "id": "view-in-github",
        "colab_type": "text"
      },
      "source": [
        "<a href=\"https://colab.research.google.com/github/rebeccalizaverghese/IBM-Data-Science/blob/main/2.Python_Data_Structures%3A_Lists_Tuples_Dictionaries_%26_Sets.ipynb\" target=\"_parent\"><img src=\"https://colab.research.google.com/assets/colab-badge.svg\" alt=\"Open In Colab\"/></a>"
      ]
    },
    {
      "cell_type": "code",
      "execution_count": null,
      "metadata": {
        "id": "kRji4aCCcWyQ"
      },
      "outputs": [],
      "source": []
    },
    {
      "cell_type": "markdown",
      "metadata": {
        "id": "8smZCNzdc0KX"
      },
      "source": [
        "###Python Data Structures\n",
        "#####Lists [ ]\n",
        "Lists are an ordered sequence of different data types (strings, floats, integers) that is represented with square brackets. They are mutable, i.e., the elements within the list can be changed/ replaced/ added on."
      ]
    },
    {
      "cell_type": "code",
      "execution_count": null,
      "metadata": {
        "colab": {
          "base_uri": "https://localhost:8080/"
        },
        "id": "-8C9quXTdwuZ",
        "outputId": "d69611c9-a9fa-4348-86e0-608847f8d598"
      },
      "outputs": [
        {
          "name": "stdout",
          "output_type": "stream",
          "text": [
            "['Michael Jackson', 33.3, 1982]\n",
            "<class 'list'>\n"
          ]
        }
      ],
      "source": [
        "L = [\"Michael Jackson\", 33.3, 1982]\n",
        "print(L)\n",
        "print(type(L))"
      ]
    },
    {
      "cell_type": "code",
      "execution_count": null,
      "metadata": {
        "colab": {
          "base_uri": "https://localhost:8080/"
        },
        "id": "rBz2oHCqeWFP",
        "outputId": "ccd2f52b-05f4-4397-8c9e-f56743423973"
      },
      "outputs": [
        {
          "name": "stdout",
          "output_type": "stream",
          "text": [
            "the same element using positive and negative indexing:\n",
            " Positive (L[0])= Michael Jackson \n",
            " Negative (L[-3])= Michael Jackson\n",
            "the same element using positive and negative indexing:\n",
            " Positive (L[1])= 33.3 \n",
            " Negative (L[-2])= 33.3\n",
            "the same element using positive and negative indexing:\n",
            " Positive (L[2])= 1982 \n",
            " Negative (L[-1])= 1982\n"
          ]
        }
      ],
      "source": [
        "#Index - the address of each element within a list is called an index - it is used to access and refer to items within a list\n",
        "print(\"the same element using positive and negative indexing:\\n Positive (L[0])=\", L[0], \"\\n Negative (L[-3])=\", L[-3])\n",
        "print(\"the same element using positive and negative indexing:\\n Positive (L[1])=\", L[1], \"\\n Negative (L[-2])=\", L[-2])\n",
        "print(\"the same element using positive and negative indexing:\\n Positive (L[2])=\", L[2], \"\\n Negative (L[-1])=\", L[-1])"
      ]
    },
    {
      "cell_type": "code",
      "execution_count": null,
      "metadata": {
        "colab": {
          "base_uri": "https://localhost:8080/"
        },
        "id": "F2cWMOc7fINn",
        "outputId": "3d32d6c1-d677-4978-88c5-7ab740a7de7f"
      },
      "outputs": [
        {
          "data": {
            "text/plain": [
              "['Michael Jackson', 33.3, 1982, [1, 2], ('A', 1)]"
            ]
          },
          "execution_count": 3,
          "metadata": {},
          "output_type": "execute_result"
        }
      ],
      "source": [
        "#Nested list - we can nest other lists, nest tuples and other data structures within a list\n",
        "L1 = [\"Michael Jackson\", 33.3, 1982, [1, 2], (\"A\", 1)]\n",
        "L1"
      ]
    },
    {
      "cell_type": "code",
      "execution_count": null,
      "metadata": {
        "colab": {
          "base_uri": "https://localhost:8080/"
        },
        "id": "ezZPw-GQf1uK",
        "outputId": "2ccfd919-33de-4002-bcd3-04d0896abde2"
      },
      "outputs": [
        {
          "name": "stdout",
          "output_type": "stream",
          "text": [
            "concatenated_L = ['Michael Jackson', 33.3, 1982, 'MJ', 1]\n",
            "Sliced_L1= ['Michael Jackson', 33.3, 1982]\n",
            "Sliced_L2= ['MJ', 1]\n",
            "extended list = ['Michael Jackson', 33.3, 1982, 'pop', 10]\n",
            "appended list = ['Michael Jackson', 33.3, 1982, [1, 2], ('A', 1), ['pop', 10]]\n"
          ]
        }
      ],
      "source": [
        "#List Operations:\n",
        "#Concatenate: - combine or add to list us the (+) symbol\n",
        "concatenated_L = L + [\"MJ\", 1]\n",
        "print(\"concatenated_L =\", concatenated_L)\n",
        "#Slicing :- to select specific elements within the list\n",
        "sliced_L1 = concatenated_L[0:3] # when we want first three elements in the list\n",
        "print(\"Sliced_L1=\", sliced_L1)\n",
        "sliced_L2 = concatenated_L[3:5] # when we want last two elements in the list\n",
        "print(\"Sliced_L2=\", sliced_L2)\n",
        "#Extend: - to add new elements to the list\n",
        "L.extend([\"pop\", 10])\n",
        "print(\"extended list =\", L)\n",
        "#Append - to add a single new element to the list\n",
        "L1.append([\"pop\", 10]) # the two elements are treated as a nested list\n",
        "print(\"appended list =\", L1)"
      ]
    },
    {
      "cell_type": "code",
      "execution_count": null,
      "metadata": {
        "colab": {
          "base_uri": "https://localhost:8080/"
        },
        "id": "I5SvzT2wgpop",
        "outputId": "ec097aed-ac14-4cd2-baf6-3fe9904417c2"
      },
      "outputs": [
        {
          "name": "stdout",
          "output_type": "stream",
          "text": [
            "['1 year', 365, 'twelve months', '30 days', 4]\n",
            "['1 year', 365, 'twelve months', '30 days', 4, [7, '24 hours']]\n"
          ]
        }
      ],
      "source": [
        "#each time we apply a method, the list changes\n",
        "list = [\"1 year\", 365, \"twelve months\"]\n",
        "list.extend([\"30 days\", 4])\n",
        "print(list)\n",
        "list.append([7, \"24 hours\"])\n",
        "print(list)"
      ]
    },
    {
      "cell_type": "code",
      "execution_count": null,
      "metadata": {
        "colab": {
          "base_uri": "https://localhost:8080/"
        },
        "id": "3ZSP-H7RjipA",
        "outputId": "9692f16f-2d74-4db3-dcaf-2781df65bf6c"
      },
      "outputs": [
        {
          "name": "stdout",
          "output_type": "stream",
          "text": [
            "before change ['disco', 10, 1.2]\n",
            "after change ['disco', 100, 1.2]\n",
            "after deleting [100, 1.2]\n"
          ]
        }
      ],
      "source": [
        "#since lists are mutable, we can change them\n",
        "A = [\"disco\", 10, 1.2]\n",
        "print(\"before change\", A)\n",
        "A[1] = 100\n",
        "print(\"after change\", A)\n",
        "# we can also delete unwanted indexes\n",
        "del(A[0])\n",
        "print(\"after deleting\", A)"
      ]
    },
    {
      "cell_type": "code",
      "execution_count": null,
      "metadata": {
        "colab": {
          "base_uri": "https://localhost:8080/"
        },
        "id": "_1KE_D-tkdkh",
        "outputId": "1f010387-5203-40fc-ef22-58af5c8c803e"
      },
      "outputs": [
        {
          "data": {
            "text/plain": [
              "['hard', 'rock']"
            ]
          },
          "execution_count": 7,
          "metadata": {},
          "output_type": "execute_result"
        }
      ],
      "source": [
        "# we can convert a string to a list using split function\n",
        "\"hard rock\".split()"
      ]
    },
    {
      "cell_type": "code",
      "execution_count": null,
      "metadata": {
        "colab": {
          "base_uri": "https://localhost:8080/"
        },
        "id": "SpZKkM2dlD_u",
        "outputId": "093d7ee4-dd0e-4184-86d6-8d4e3c512c20"
      },
      "outputs": [
        {
          "data": {
            "text/plain": [
              "['A', 'D', 'C', 'D']"
            ]
          },
          "execution_count": 8,
          "metadata": {},
          "output_type": "execute_result"
        }
      ],
      "source": [
        "'A,D,C,D'.split(\",\") # e can use split function to seperate strings on a specific character called delimiter by passing the character we would like to split on into the arguement. In this code, the delimiter is comma(,)"
      ]
    },
    {
      "cell_type": "code",
      "execution_count": null,
      "metadata": {
        "colab": {
          "base_uri": "https://localhost:8080/"
        },
        "id": "fTWnE685lMN5",
        "outputId": "d8f60725-b475-48e6-c9e2-51a61e40e68b"
      },
      "outputs": [
        {
          "name": "stdout",
          "output_type": "stream",
          "text": [
            "A: ['hard rock', 10, 1.2]\n",
            "B: ['hard rock', 10, 1.2]\n"
          ]
        }
      ],
      "source": [
        "# Aliasing - multiple names referring to the same object is known as aliasing.\n",
        "  # Copy(copy by reference) list A - since  a and b are referencing the same list, any changes made to A affects the list B\n",
        "A = [\"hard rock\", 10, 1.2]\n",
        "B = A\n",
        "print('A:', A)\n",
        "print('B:', B)"
      ]
    },
    {
      "cell_type": "code",
      "execution_count": null,
      "metadata": {
        "colab": {
          "base_uri": "https://localhost:8080/"
        },
        "id": "mGi9SD07ltCm",
        "outputId": "1a02e7e0-6fc0-4b54-c6df-3f47a4d8ce83"
      },
      "outputs": [
        {
          "name": "stdout",
          "output_type": "stream",
          "text": [
            "B[0]: hard rock\n",
            "B[0:] disco\n"
          ]
        }
      ],
      "source": [
        "print(\"B[0]:\", B[0])\n",
        "A[0] = \"disco\"\n",
        "print(\"B[0:]\", B[0])"
      ]
    },
    {
      "cell_type": "code",
      "execution_count": null,
      "metadata": {
        "colab": {
          "base_uri": "https://localhost:8080/"
        },
        "id": "J4Yg0onHl9ow",
        "outputId": "fb038051-7caa-4a16-cba7-38e2d11aa848"
      },
      "outputs": [
        {
          "data": {
            "text/plain": [
              "['disco', 10, 1.2]"
            ]
          },
          "execution_count": 11,
          "metadata": {},
          "output_type": "execute_result"
        }
      ],
      "source": [
        "  # Clone (clone by value) List A\n",
        "  B = A[:]\n",
        "  B # B is a clone/ new copy of A. Any changes made to A does not affect B and vice versa"
      ]
    },
    {
      "cell_type": "code",
      "execution_count": null,
      "metadata": {
        "colab": {
          "base_uri": "https://localhost:8080/"
        },
        "id": "wuCaPUlCnA9l",
        "outputId": "e428d031-4e65-4d52-e50b-ca1121893142"
      },
      "outputs": [
        {
          "name": "stdout",
          "output_type": "stream",
          "text": [
            "B[0]: disco\n",
            "B[0:] disco\n"
          ]
        }
      ],
      "source": [
        "print(\"B[0]:\", B[0])\n",
        "A[0] = \"hard rock\"\n",
        "print(\"B[0:]\", B[0])"
      ]
    },
    {
      "cell_type": "code",
      "execution_count": null,
      "metadata": {
        "colab": {
          "base_uri": "https://localhost:8080/"
        },
        "id": "598sTfQpnWqQ",
        "outputId": "80237519-7400-4911-8e76-9d55d1e62540"
      },
      "outputs": [
        {
          "name": "stdout",
          "output_type": "stream",
          "text": [
            "[1, 'hello', [1, 2, 3], True]\n",
            "hello\n",
            "['hello', [1, 2, 3], True]\n"
          ]
        }
      ],
      "source": [
        "a_list = [1, 'hello', [1, 2, 3] , True]\n",
        "print(a_list)\n",
        "print(a_list[1])\n",
        "print(a_list[1:4])"
      ]
    },
    {
      "cell_type": "code",
      "execution_count": null,
      "metadata": {
        "colab": {
          "base_uri": "https://localhost:8080/"
        },
        "id": "XcXTHrKanrV4",
        "outputId": "1d703a4e-2737-4124-b671-8b08999eea40"
      },
      "outputs": [
        {
          "data": {
            "text/plain": [
              "[1, 'a', 2, 1, 'd']"
            ]
          },
          "execution_count": 14,
          "metadata": {},
          "output_type": "execute_result"
        }
      ],
      "source": [
        "a = [1, \"a\"]\n",
        "b = [2,1,\"d\"]\n",
        "a+b"
      ]
    },
    {
      "cell_type": "markdown",
      "metadata": {
        "id": "xdTF95_Ooz22"
      },
      "source": [
        "##### Tuple ( )\n",
        "Tuples are an ordered sequence of different data types that is expressed as comma-seperated elements within parentheses(). Tuples are immutable, i.e, cannot be changed or altered."
      ]
    },
    {
      "cell_type": "code",
      "execution_count": null,
      "metadata": {
        "colab": {
          "base_uri": "https://localhost:8080/"
        },
        "id": "KXMdcdhKoCjK",
        "outputId": "d66fe479-2ca5-4ac0-cfca-c9ef21689696"
      },
      "outputs": [
        {
          "name": "stdout",
          "output_type": "stream",
          "text": [
            "('disco', 10, 1.2)\n",
            "<class 'tuple'>\n",
            "3\n"
          ]
        }
      ],
      "source": [
        "tuple = (\"disco\", 10, 1.2)\n",
        "print(tuple)\n",
        "print(type(tuple))\n",
        "print(len(tuple))"
      ]
    },
    {
      "cell_type": "code",
      "execution_count": null,
      "metadata": {
        "colab": {
          "base_uri": "https://localhost:8080/"
        },
        "id": "GZ1jEUOMpbva",
        "outputId": "37271d58-178e-4cd9-90ea-085537173c70"
      },
      "outputs": [
        {
          "name": "stdout",
          "output_type": "stream",
          "text": [
            "disco\n",
            "1.2\n",
            "<class 'float'>\n"
          ]
        }
      ],
      "source": [
        "#Indexing\n",
        "print(tuple[0])\n",
        "print(tuple[-1])\n",
        "print(type(tuple[2]))"
      ]
    },
    {
      "cell_type": "code",
      "execution_count": null,
      "metadata": {
        "colab": {
          "base_uri": "https://localhost:8080/"
        },
        "id": "yMfPjS1CpwfT",
        "outputId": "abbb654f-6fbd-412c-d265-17605c372809"
      },
      "outputs": [
        {
          "name": "stdout",
          "output_type": "stream",
          "text": [
            "('disco', 10, 1.2, 'rock', 33)\n",
            "len: 5\n"
          ]
        }
      ],
      "source": [
        "#concatenate\n",
        "tuple1 = tuple + (\"rock\", 33)\n",
        "print(tuple1)\n",
        "print(\"len:\", len(tuple1))"
      ]
    },
    {
      "cell_type": "code",
      "execution_count": null,
      "metadata": {
        "colab": {
          "base_uri": "https://localhost:8080/"
        },
        "id": "-FRg_mKcqOVo",
        "outputId": "0fd087a2-9a49-4fcf-9d08-e149e1d0675b"
      },
      "outputs": [
        {
          "name": "stdout",
          "output_type": "stream",
          "text": [
            "('disco', 10, 1.2)\n",
            "('rock', 33)\n"
          ]
        }
      ],
      "source": [
        "#slicing\n",
        "print(tuple1[0:3])\n",
        "print(tuple1[3:5])"
      ]
    },
    {
      "cell_type": "code",
      "execution_count": null,
      "metadata": {
        "colab": {
          "base_uri": "https://localhost:8080/"
        },
        "id": "uMICckYGqWaS",
        "outputId": "5e2c7cc4-4844-40df-a54a-baf6bd5ebd3e"
      },
      "outputs": [
        {
          "name": "stdout",
          "output_type": "stream",
          "text": [
            "[0, 2, 5, 6, 6, 8, 9, 9, 10]\n"
          ]
        }
      ],
      "source": [
        "#sorting\n",
        "Ratings = (0,9,6,5,10,8,9,6,2)\n",
        "ratings_sorted = sorted(Ratings)\n",
        "print(ratings_sorted)"
      ]
    },
    {
      "cell_type": "code",
      "execution_count": null,
      "metadata": {
        "colab": {
          "base_uri": "https://localhost:8080/"
        },
        "id": "vt3a6uEhq9ze",
        "outputId": "c11def2f-df48-4d8b-b22c-879c018c7dfb"
      },
      "outputs": [
        {
          "name": "stdout",
          "output_type": "stream",
          "text": [
            "(1, 2, ('Michael Jackson', 1982), (3, 4), ('disco', (1, 2)))\n",
            "1\n",
            "2\n",
            "('Michael Jackson', 1982)\n",
            "(3, 4)\n",
            "('disco', (1, 2))\n"
          ]
        }
      ],
      "source": [
        "#nested tuple\n",
        "nested = (1,2, (\"Michael Jackson\", 1982), (3,4), (\"disco\", (1,2)))\n",
        "print(nested)\n",
        "print(nested[0])\n",
        "print(nested[1])\n",
        "print(nested[2])\n",
        "print(nested[3])\n",
        "print(nested[4])"
      ]
    },
    {
      "cell_type": "code",
      "execution_count": null,
      "metadata": {
        "colab": {
          "base_uri": "https://localhost:8080/"
        },
        "id": "iqg31JxxrQBC",
        "outputId": "ce5f8894-b98c-439d-e3b5-6c97e9e881f3"
      },
      "outputs": [
        {
          "name": "stdout",
          "output_type": "stream",
          "text": [
            "Michael Jackson\n",
            "M\n",
            "J\n"
          ]
        }
      ],
      "source": [
        "print(nested[2][0])\n",
        "print(nested[2][0][0])\n",
        "print(nested[2][0][8])"
      ]
    },
    {
      "cell_type": "code",
      "execution_count": null,
      "metadata": {
        "colab": {
          "base_uri": "https://localhost:8080/"
        },
        "id": "HH3wMUuNrnRM",
        "outputId": "e71723bf-7c63-464b-9eab-b597f4bd5d4c"
      },
      "outputs": [
        {
          "name": "stdout",
          "output_type": "stream",
          "text": [
            "(1, 2)\n",
            "1\n"
          ]
        }
      ],
      "source": [
        "print(nested[4][1])\n",
        "print(nested[4][1][0])"
      ]
    },
    {
      "cell_type": "code",
      "execution_count": null,
      "metadata": {
        "colab": {
          "base_uri": "https://localhost:8080/"
        },
        "id": "O92bdML4r__N",
        "outputId": "5c4cfbf0-07f9-4815-a511-e507bdb6476a"
      },
      "outputs": [
        {
          "data": {
            "text/plain": [
              "(2, 3, 4)"
            ]
          },
          "execution_count": 23,
          "metadata": {},
          "output_type": "execute_result"
        }
      ],
      "source": [
        "A=(1,2,3,4,5)\n",
        "A[1:4]"
      ]
    },
    {
      "cell_type": "markdown",
      "metadata": {
        "id": "agL2IGG4k9UP"
      },
      "source": [
        "####Dictionaries { }\n",
        "Dictionaries are a type of collection in python. It is made up of keys and values and created using curly brackets{}\n",
        "* Keys - they are the first element and is similar to the index in a list - keys are immutable and are used to access the values.\n",
        "* Values - They are similar to the elements in a list - each key is followed by a value seperated by a colon - keys can be immutable, mutable and duplicates.\n",
        "\n",
        "Each key and value pair are seperated by a comma\n"
      ]
    },
    {
      "cell_type": "code",
      "execution_count": null,
      "metadata": {
        "colab": {
          "base_uri": "https://localhost:8080/"
        },
        "id": "e62dVb0KvCmx",
        "outputId": "a07af05d-6fd5-4cb4-dbcc-eb6e3750ebd6"
      },
      "outputs": [
        {
          "name": "stdout",
          "output_type": "stream",
          "text": [
            "{'key 1': 1, 'key 2': '2', 'key 3': [3, 3, 3], 'key 4': (4, 4, 4)}\n",
            "<class 'dict'>\n"
          ]
        }
      ],
      "source": [
        "dict = {\"key 1\": 1, \"key 2\": \"2\", \"key 3\": [3,3,3], \"key 4\":(4,4,4)}\n",
        "print(dict)\n",
        "print(type(dict))"
      ]
    },
    {
      "cell_type": "code",
      "execution_count": null,
      "metadata": {
        "colab": {
          "base_uri": "https://localhost:8080/"
        },
        "id": "dNRiyuO_ms8T",
        "outputId": "7747e238-be9a-4fd5-9680-eb351897ad73"
      },
      "outputs": [
        {
          "name": "stdout",
          "output_type": "stream",
          "text": [
            "1\n",
            "[3, 3, 3]\n"
          ]
        }
      ],
      "source": [
        "#to access value by key\n",
        "print(dict[\"key 1\"])\n",
        "print(dict[\"key 3\"])\n",
        "\n"
      ]
    },
    {
      "cell_type": "code",
      "execution_count": null,
      "metadata": {
        "colab": {
          "base_uri": "https://localhost:8080/"
        },
        "id": "b_4IO7VPna8I",
        "outputId": "00bae257-5c30-4c11-d8d6-5131ff493110"
      },
      "outputs": [
        {
          "data": {
            "text/plain": [
              "{'Thriller': '1982',\n",
              " 'Back in Black': '1980',\n",
              " 'The Dark Side of the Moon': '1973',\n",
              " 'The Bodyguard': '1992',\n",
              " 'Bat Out of Hell': '1977',\n",
              " 'Their Greatest Hits (1971-1975)': '1976',\n",
              " 'Saturday Night Fever': '1977',\n",
              " 'Rumours': '1977'}"
            ]
          },
          "execution_count": 36,
          "metadata": {},
          "output_type": "execute_result"
        }
      ],
      "source": [
        "release_year_dict = {\"Thriller\": \"1982\", \"Back in Black\": \"1980\", \\\n",
        "                    \"The Dark Side of the Moon\": \"1973\", \"The Bodyguard\": \"1992\", \\\n",
        "                    \"Bat Out of Hell\": \"1977\", \"Their Greatest Hits (1971-1975)\": \"1976\", \\\n",
        "                    \"Saturday Night Fever\": \"1977\", \"Rumours\": \"1977\"}\n",
        "release_year_dict"
      ]
    },
    {
      "cell_type": "code",
      "execution_count": null,
      "metadata": {
        "colab": {
          "base_uri": "https://localhost:8080/"
        },
        "id": "PaK6BWTmoFAc",
        "outputId": "b56cc1f6-71cd-4e75-8787-ecb4b5a8a8ef"
      },
      "outputs": [
        {
          "name": "stdout",
          "output_type": "stream",
          "text": [
            "1973\n",
            "1976\n"
          ]
        }
      ],
      "source": [
        "#keys can retrieve the values based on the names:\n",
        "print(release_year_dict[\"The Dark Side of the Moon\"])\n",
        "print(release_year_dict[\"Their Greatest Hits (1971-1975)\"])"
      ]
    },
    {
      "cell_type": "code",
      "execution_count": null,
      "metadata": {
        "colab": {
          "base_uri": "https://localhost:8080/"
        },
        "id": "e372ouKMoYUm",
        "outputId": "3f197b93-f92c-4012-d25e-7190d3e5035d"
      },
      "outputs": [
        {
          "name": "stdout",
          "output_type": "stream",
          "text": [
            "dict_keys(['Thriller', 'Back in Black', 'The Dark Side of the Moon', 'The Bodyguard', 'Bat Out of Hell', 'Their Greatest Hits (1971-1975)', 'Saturday Night Fever', 'Rumours'])\n",
            "dict_values(['1982', '1980', '1973', '1992', '1977', '1976', '1977', '1977'])\n"
          ]
        }
      ],
      "source": [
        "# to get all the keys in the dictionary\n",
        "print(release_year_dict.keys())\n",
        "# to get all the values in the dictionary\n",
        "print(release_year_dict.values())"
      ]
    },
    {
      "cell_type": "code",
      "execution_count": null,
      "metadata": {
        "colab": {
          "base_uri": "https://localhost:8080/"
        },
        "id": "KAW5_Q8so3HD",
        "outputId": "0d5165d4-6a50-42ac-ad96-ca63c602b47a"
      },
      "outputs": [
        {
          "data": {
            "text/plain": [
              "{'Thriller': '1982',\n",
              " 'Back in Black': '1980',\n",
              " 'The Dark Side of the Moon': '1973',\n",
              " 'The Bodyguard': '1992',\n",
              " 'Bat Out of Hell': '1977',\n",
              " 'Their Greatest Hits (1971-1975)': '1976',\n",
              " 'Saturday Night Fever': '1977',\n",
              " 'Rumours': '1977',\n",
              " 'Graduation': '2007'}"
            ]
          },
          "execution_count": 43,
          "metadata": {},
          "output_type": "execute_result"
        }
      ],
      "source": [
        "# to add a new value to the dictionary\n",
        "release_year_dict['Graduation'] = '2007'\n",
        "release_year_dict"
      ]
    },
    {
      "cell_type": "code",
      "execution_count": null,
      "metadata": {
        "colab": {
          "base_uri": "https://localhost:8080/"
        },
        "id": "NszSlIudpPhR",
        "outputId": "b0b8778f-1336-4004-ce5b-17f91fa1157e"
      },
      "outputs": [
        {
          "data": {
            "text/plain": [
              "{'Thriller': '1982',\n",
              " 'Back in Black': '1980',\n",
              " 'The Dark Side of the Moon': '1973',\n",
              " 'Bat Out of Hell': '1977',\n",
              " 'Their Greatest Hits (1971-1975)': '1976',\n",
              " 'Saturday Night Fever': '1977',\n",
              " 'Rumours': '1977',\n",
              " 'Graduation': '2007'}"
            ]
          },
          "execution_count": 44,
          "metadata": {},
          "output_type": "execute_result"
        }
      ],
      "source": [
        "# to delete an entry\n",
        "del(release_year_dict[\"The Bodyguard\"])\n",
        "release_year_dict"
      ]
    },
    {
      "cell_type": "code",
      "execution_count": null,
      "metadata": {
        "colab": {
          "base_uri": "https://localhost:8080/"
        },
        "id": "bPfBXqU4pako",
        "outputId": "3c882287-9f6c-4550-8bea-ab250d5f4af8"
      },
      "outputs": [
        {
          "name": "stdout",
          "output_type": "stream",
          "text": [
            "False\n",
            "True\n"
          ]
        }
      ],
      "source": [
        "# to varify the key in the dictionary\n",
        "print(\"The Bodyguard\" in release_year_dict)\n",
        "print(\"Thriller\" in release_year_dict)"
      ]
    },
    {
      "cell_type": "code",
      "execution_count": null,
      "metadata": {
        "colab": {
          "base_uri": "https://localhost:8080/"
        },
        "id": "RWl7NEjepnRK",
        "outputId": "dc555f83-3b41-4bae-f67a-f919f0353a22"
      },
      "outputs": [
        {
          "name": "stdout",
          "output_type": "stream",
          "text": [
            "{'Back in Black': 50, 'The Bodyguard': 50, 'Thriller': 65}\n",
            "Total sales of Thriller = 65\n",
            "keys:  dict_keys(['Back in Black', 'The Bodyguard', 'Thriller'])\n",
            "values:  dict_values([50, 50, 65])\n"
          ]
        }
      ],
      "source": [
        "album_sales_dict ={\"Back in Black\": 50, \"The Bodyguard\": 50, \"Thriller\": 65}\n",
        "print(album_sales_dict)\n",
        "print(\"Total sales of Thriller =\", album_sales_dict[\"Thriller\"])\n",
        "print(\"keys: \", album_sales_dict.keys())\n",
        "print(\"values: \", album_sales_dict.values())"
      ]
    },
    {
      "cell_type": "code",
      "execution_count": null,
      "metadata": {
        "id": "1XU1JXcuqTrY"
      },
      "outputs": [],
      "source": [
        "inventory_dict ={}"
      ]
    },
    {
      "cell_type": "code",
      "execution_count": null,
      "metadata": {
        "colab": {
          "base_uri": "https://localhost:8080/"
        },
        "id": "URoh2q4Xrm19",
        "outputId": "69fcb1e9-f4c4-4b70-d075-7800beb84ce8"
      },
      "outputs": [
        {
          "name": "stdout",
          "output_type": "stream",
          "text": [
            "{'Product Name': 'Mobile phone', 'Product Quantity': 30, 'Product Price': 10000, 'Product Release Year': 2024}\n"
          ]
        }
      ],
      "source": [
        "inventory_dict[\"Product Name\"] = \"Mobile phone\"\n",
        "inventory_dict[\"Product Quantity\"] = 30\n",
        "inventory_dict[\"Product Price\"] = 10000\n",
        "inventory_dict[\"Product Release Year\"] = 2024\n",
        "print(inventory_dict)"
      ]
    },
    {
      "cell_type": "code",
      "execution_count": null,
      "metadata": {
        "colab": {
          "base_uri": "https://localhost:8080/"
        },
        "id": "J3JAlJYIsFy1",
        "outputId": "acf90e0d-753f-42b1-eb9e-e4c366bf64ff"
      },
      "outputs": [
        {
          "name": "stdout",
          "output_type": "stream",
          "text": [
            "{'Product Name': 'Mobile phone', 'Product Quantity': 30, 'Product Price': 10000, 'Product Release Year': 2024, 'Product No2': 'Laptops', 'Product_No2 Quantity': 10, 'Product_No2 Price': 20000, 'Product_No2 Release Year': 2024}\n"
          ]
        }
      ],
      "source": [
        "inventory_dict[\"Product No2\"] = \"Laptops\"\n",
        "inventory_dict[\"Product_No2 Quantity\"] = 10\n",
        "inventory_dict[\"Product_No2 Price\"] = 20000\n",
        "inventory_dict[\"Product_No2 Release Year\"] = 2024\n",
        "print(inventory_dict)"
      ]
    },
    {
      "cell_type": "code",
      "execution_count": null,
      "metadata": {
        "colab": {
          "base_uri": "https://localhost:8080/"
        },
        "id": "zWFmXYtpskwK",
        "outputId": "bbc9303a-29a2-46a7-c704-6bd97159d8b2"
      },
      "outputs": [
        {
          "name": "stdout",
          "output_type": "stream",
          "text": [
            "{'Product Name': 'Mobile phone', 'Product Quantity': 30, 'Product Price': 10000, 'Product No2': 'Laptops', 'Product_No2 Quantity': 10, 'Product_No2 Price': 20000}\n"
          ]
        }
      ],
      "source": [
        "del(inventory_dict[\"Product Release Year\"])\n",
        "del(inventory_dict[\"Product_No2 Release Year\"])\n",
        "print(inventory_dict)"
      ]
    },
    {
      "cell_type": "markdown",
      "metadata": {
        "id": "SrCvNyhcuZRh"
      },
      "source": [
        "#### Sets { }\n",
        "Sets are a type of collection in which you can input different python types. Sets are unordered and do not record element position. Sets are defined using curly brackets {}. Python will automatically remove duplicate items:"
      ]
    },
    {
      "cell_type": "code",
      "execution_count": 45,
      "metadata": {
        "colab": {
          "base_uri": "https://localhost:8080/"
        },
        "id": "e7Y7lGLBXA7e",
        "outputId": "f11023e1-335d-47a3-8546-d08e8b505fcc"
      },
      "outputs": [
        {
          "output_type": "stream",
          "name": "stdout",
          "text": [
            "{'hard rock', 'pop', 'rock', 'disco', 'R&B', 'soul'}\n",
            "<class 'set'>\n"
          ]
        }
      ],
      "source": [
        "music_genre_set = {\"pop\", \"rock\", \"soul\", \"hard rock\", \"rock\", \"R&B\", \"rock\", \"disco\"}\n",
        "print(music_genre_set)\n",
        "print(type(music_genre_set))"
      ]
    },
    {
      "cell_type": "code",
      "source": [
        "# Set Operations\n",
        "a = {\"Taylor Swift\", \"Selena Gomez\", \"Ariana Grande\", \"Taylor Swift\"}\n",
        "print(a)"
      ],
      "metadata": {
        "colab": {
          "base_uri": "https://localhost:8080/"
        },
        "id": "liw4TZgBa_H4",
        "outputId": "44c208d8-a6f5-4bc4-db19-e1f2ea512319"
      },
      "execution_count": 54,
      "outputs": [
        {
          "output_type": "stream",
          "name": "stdout",
          "text": [
            "{'Taylor Swift', 'Ariana Grande', 'Selena Gomez'}\n"
          ]
        }
      ]
    },
    {
      "cell_type": "code",
      "source": [
        "# To add new element\n",
        "a.add(\"Miley Cyrus\")\n",
        "print(a)\n",
        "a.add(\"Selena Gomez\")\n",
        "print(a) #does not add duplicates"
      ],
      "metadata": {
        "colab": {
          "base_uri": "https://localhost:8080/"
        },
        "id": "HEjV0VjVbHYd",
        "outputId": "08117cfa-e045-48d7-f017-a59c41299988"
      },
      "execution_count": 56,
      "outputs": [
        {
          "output_type": "stream",
          "name": "stdout",
          "text": [
            "{'Taylor Swift', 'Ariana Grande', 'Selena Gomez', 'Miley Cyrus'}\n",
            "{'Taylor Swift', 'Ariana Grande', 'Selena Gomez', 'Miley Cyrus'}\n"
          ]
        }
      ]
    },
    {
      "cell_type": "code",
      "source": [
        "# To remove an element from the set\n",
        "a.remove(\"Ariana Grande\")\n",
        "print(a)"
      ],
      "metadata": {
        "colab": {
          "base_uri": "https://localhost:8080/"
        },
        "id": "weiii2aDcHaN",
        "outputId": "8056f4e2-d3e4-4d4d-ce4a-9f3f6400e7df"
      },
      "execution_count": 57,
      "outputs": [
        {
          "output_type": "stream",
          "name": "stdout",
          "text": [
            "{'Taylor Swift', 'Selena Gomez', 'Miley Cyrus'}\n"
          ]
        }
      ]
    },
    {
      "cell_type": "code",
      "source": [
        "# Verifying if the element is in the set\n",
        "print(\"Taylor Swift\" in a)\n",
        "print(\"Dolly Parton\" in a)"
      ],
      "metadata": {
        "colab": {
          "base_uri": "https://localhost:8080/"
        },
        "id": "zFEhS4plcbxm",
        "outputId": "b01c9405-1c2b-4478-8a06-69b8c3564f4e"
      },
      "execution_count": 58,
      "outputs": [
        {
          "output_type": "stream",
          "name": "stdout",
          "text": [
            "True\n",
            "False\n"
          ]
        }
      ]
    },
    {
      "cell_type": "code",
      "source": [
        "# Set Logic Operations\n",
        "album_set1 = {\"Thriller\", \"Back in Black\", \"AC/DC\"}\n",
        "album_set2 = {\"AC/DC\", \"Back in Black\", \"The Dark Side of the Moon\"}\n",
        "album_set1, album_set2"
      ],
      "metadata": {
        "colab": {
          "base_uri": "https://localhost:8080/"
        },
        "id": "DxG70Ln7c3Sp",
        "outputId": "02248364-aea5-4a3b-9b04-001833cb4dfd"
      },
      "execution_count": 61,
      "outputs": [
        {
          "output_type": "execute_result",
          "data": {
            "text/plain": [
              "({'AC/DC', 'Back in Black', 'Thriller'},\n",
              " {'AC/DC', 'Back in Black', 'The Dark Side of the Moon'})"
            ]
          },
          "metadata": {},
          "execution_count": 61
        }
      ]
    },
    {
      "cell_type": "code",
      "source": [
        "# intersection of 2 sets using ampersand(&)\n",
        "intersection = album_set1 & album_set2\n",
        "print(intersection)"
      ],
      "metadata": {
        "colab": {
          "base_uri": "https://localhost:8080/"
        },
        "id": "DH-IrOGBc0Gs",
        "outputId": "1fde33cd-2aeb-43a9-b72f-1a6a8f071587"
      },
      "execution_count": 62,
      "outputs": [
        {
          "output_type": "stream",
          "name": "stdout",
          "text": [
            "{'AC/DC', 'Back in Black'}\n"
          ]
        }
      ]
    },
    {
      "cell_type": "code",
      "source": [
        "# to find the difference in sets\n",
        "print(album_set1.difference(album_set2))\n",
        "print(album_set2.difference(album_set1))"
      ],
      "metadata": {
        "colab": {
          "base_uri": "https://localhost:8080/"
        },
        "id": "3WPCyHs_dxhM",
        "outputId": "3fed263a-89c2-4e50-a8d4-f6c02b02cb66"
      },
      "execution_count": 64,
      "outputs": [
        {
          "output_type": "stream",
          "name": "stdout",
          "text": [
            "{'Thriller'}\n",
            "{'The Dark Side of the Moon'}\n"
          ]
        }
      ]
    },
    {
      "cell_type": "code",
      "source": [
        "# to find the intersection in sets\n",
        "album_set1.intersection(album_set2)"
      ],
      "metadata": {
        "colab": {
          "base_uri": "https://localhost:8080/"
        },
        "id": "fe9Ol1APd8tJ",
        "outputId": "159901bc-a4b8-4f63-c74a-49ecb5973d61"
      },
      "execution_count": 65,
      "outputs": [
        {
          "output_type": "execute_result",
          "data": {
            "text/plain": [
              "{'AC/DC', 'Back in Black'}"
            ]
          },
          "metadata": {},
          "execution_count": 65
        }
      ]
    },
    {
      "cell_type": "code",
      "source": [
        "# to find union in sets\n",
        "album_set1.union(album_set2)"
      ],
      "metadata": {
        "colab": {
          "base_uri": "https://localhost:8080/"
        },
        "id": "d0q6joF2eUzz",
        "outputId": "795cdc55-9e80-43cd-ffce-f3577296a727"
      },
      "execution_count": 66,
      "outputs": [
        {
          "output_type": "execute_result",
          "data": {
            "text/plain": [
              "{'AC/DC', 'Back in Black', 'The Dark Side of the Moon', 'Thriller'}"
            ]
          },
          "metadata": {},
          "execution_count": 66
        }
      ]
    },
    {
      "cell_type": "code",
      "source": [
        "# check if superset/ subset\n",
        "print(album_set1.issuperset(album_set2))\n",
        "print(album_set2.issubset(album_set1))\n",
        "print(intersection.issubset(album_set1))\n",
        "print(intersection.issubset(album_set2))\n",
        "print(album_set1.issuperset(intersection))"
      ],
      "metadata": {
        "colab": {
          "base_uri": "https://localhost:8080/"
        },
        "id": "YyEvD4D-echw",
        "outputId": "5329b522-6dd5-49c4-be53-7eb791e8a7b1"
      },
      "execution_count": 76,
      "outputs": [
        {
          "output_type": "stream",
          "name": "stdout",
          "text": [
            "False\n",
            "False\n",
            "True\n",
            "True\n",
            "True\n"
          ]
        }
      ]
    },
    {
      "cell_type": "code",
      "source": [
        "#Consider the list A = [1, 2, 2, 1] and set B = set([1, 2, 2, 1]). Does sum(A) == sum(B)?\n",
        "print(a)\n",
        "print(b)\n",
        "print(\"The sum of a is:\", sum(a))\n",
        "print(\"The sum of b is:\", sum(b))\n",
        "if sum(a) == sum(b):\n",
        "    print(\"Yes, it does.\")\n",
        "else:\n",
        "    print(\"No, it doesn't\")"
      ],
      "metadata": {
        "colab": {
          "base_uri": "https://localhost:8080/"
        },
        "id": "MhHCjZlBgaaz",
        "outputId": "ceb4397a-7230-4953-b0bf-c26f15c846fb"
      },
      "execution_count": 83,
      "outputs": [
        {
          "output_type": "stream",
          "name": "stdout",
          "text": [
            "[1, 2, 2, 1]\n",
            "{1, 2}\n",
            "The sum of a is: 6\n",
            "The sum of b is: 3\n",
            "No, it doesn't\n"
          ]
        }
      ]
    },
    {
      "cell_type": "code",
      "source": [
        "album_set1 = {\"Thriller\", 'AC/DC', 'Back in Black'}\n",
        "album_set2 = {\"AC/DC\", \"Back in Black\", \"The Dark Side of the Moon\"}\n",
        "album_set3 = album_set1.union(album_set2)\n",
        "print(album_set3)\n",
        "print(album_set1.issubset(album_set3))"
      ],
      "metadata": {
        "colab": {
          "base_uri": "https://localhost:8080/"
        },
        "id": "nlMJf76Zga3F",
        "outputId": "5a4cf7c0-9dbf-4f66-a747-76aec1a6d647"
      },
      "execution_count": 87,
      "outputs": [
        {
          "output_type": "stream",
          "name": "stdout",
          "text": [
            "{'AC/DC', 'Thriller', 'The Dark Side of the Moon', 'Back in Black'}\n",
            "True\n"
          ]
        }
      ]
    },
    {
      "cell_type": "code",
      "source": [],
      "metadata": {
        "id": "Rn9vqsC8hSRP"
      },
      "execution_count": null,
      "outputs": []
    }
  ],
  "metadata": {
    "colab": {
      "provenance": [],
      "authorship_tag": "ABX9TyPh6z+Et6j69WVEtJg3412J",
      "include_colab_link": true
    },
    "kernelspec": {
      "display_name": "Python 3",
      "name": "python3"
    },
    "language_info": {
      "name": "python"
    }
  },
  "nbformat": 4,
  "nbformat_minor": 0
}
