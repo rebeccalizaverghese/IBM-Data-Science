{
  "nbformat": 4,
  "nbformat_minor": 0,
  "metadata": {
    "colab": {
      "provenance": [],
      "authorship_tag": "ABX9TyPx9MqbDhuR1N7b1VCxzrCB",
      "include_colab_link": true
    },
    "kernelspec": {
      "name": "python3",
      "display_name": "Python 3"
    },
    "language_info": {
      "name": "python"
    }
  },
  "cells": [
    {
      "cell_type": "markdown",
      "metadata": {
        "id": "view-in-github",
        "colab_type": "text"
      },
      "source": [
        "<a href=\"https://colab.research.google.com/github/rebeccalizaverghese/IBM-Data-Science/blob/main/6.1_Accessing_Database_using_Python.ipynb\" target=\"_parent\"><img src=\"https://colab.research.google.com/assets/colab-badge.svg\" alt=\"Open In Colab\"/></a>"
      ]
    },
    {
      "cell_type": "markdown",
      "source": [
        "#### **Creating Tables, Inserting and Querying Data**"
      ],
      "metadata": {
        "id": "dWrtpWEZE_8y"
      }
    },
    {
      "cell_type": "code",
      "execution_count": 1,
      "metadata": {
        "id": "3lwKf0SQAqKB"
      },
      "outputs": [],
      "source": [
        "import sqlite3"
      ]
    },
    {
      "cell_type": "code",
      "source": [
        "# Connecting to sqlite\n",
        "con = sqlite3.connect('INSTRUCTOR.db')"
      ],
      "metadata": {
        "id": "K4rfI6WPArOJ"
      },
      "execution_count": 2,
      "outputs": []
    },
    {
      "cell_type": "markdown",
      "source": [
        "**Cursor class** is an instance using which you can invoke methods that execute SQLite statements, fetch data from the result sets of the queries. You can create Cursor object using the cursor() method of the Connection object/class."
      ],
      "metadata": {
        "id": "A6pBC2UKAy20"
      }
    },
    {
      "cell_type": "code",
      "source": [
        "# Cursor object\n",
        "cursor_obj = con.cursor()"
      ],
      "metadata": {
        "id": "Pp4tgO6GAwIo"
      },
      "execution_count": 3,
      "outputs": []
    },
    {
      "cell_type": "code",
      "source": [
        "# Creating table\n",
        "table = \"\"\" create table IF NOT EXISTS INSTRUCTOR(ID INTEGER PRIMARY KEY NOT NULL, FNAME VARCHAR(20), LNAME VARCHAR(20), CITY VARCHAR(20), CCODE CHAR(2));\"\"\"\n",
        "\n",
        "cursor_obj.execute(table)\n",
        "\n",
        "print(\"Table is Ready\")"
      ],
      "metadata": {
        "colab": {
          "base_uri": "https://localhost:8080/"
        },
        "id": "DHntM3o6A1f0",
        "outputId": "4cc479d6-4ec8-4411-c6a2-33a13555f665"
      },
      "execution_count": 4,
      "outputs": [
        {
          "output_type": "stream",
          "name": "stdout",
          "text": [
            "Table is Ready\n"
          ]
        }
      ]
    },
    {
      "cell_type": "code",
      "source": [
        "cursor_obj.execute('''insert into INSTRUCTOR values (1, 'Rav', 'Ahuja', 'TORONTO', 'CA')''')"
      ],
      "metadata": {
        "colab": {
          "base_uri": "https://localhost:8080/"
        },
        "id": "K4BsdQZyBu4r",
        "outputId": "befea371-e4b1-4ce0-c0c2-0751f15123b6"
      },
      "execution_count": 5,
      "outputs": [
        {
          "output_type": "execute_result",
          "data": {
            "text/plain": [
              "<sqlite3.Cursor at 0x7bc0ec2671c0>"
            ]
          },
          "metadata": {},
          "execution_count": 5
        }
      ]
    },
    {
      "cell_type": "code",
      "source": [
        "cursor_obj.execute('''insert into INSTRUCTOR values (2, 'Raul', 'Chong', 'Markham', 'CA'), (3, 'Hima', 'Vasudevan', 'Chicago', 'US')''')"
      ],
      "metadata": {
        "colab": {
          "base_uri": "https://localhost:8080/"
        },
        "id": "vcpaeT6CByNQ",
        "outputId": "1776811e-e03c-4e37-8e13-22c2b4a8d0ba"
      },
      "execution_count": 6,
      "outputs": [
        {
          "output_type": "execute_result",
          "data": {
            "text/plain": [
              "<sqlite3.Cursor at 0x7bc0ec2671c0>"
            ]
          },
          "metadata": {},
          "execution_count": 6
        }
      ]
    },
    {
      "cell_type": "code",
      "source": [
        "statement = '''select * from Instructor'''\n",
        "cursor_obj.execute(statement)\n",
        "\n",
        "print(\"All the data\")\n",
        "output = cursor_obj.fetchall()\n",
        "for row in output:\n",
        "  print(row)\n"
      ],
      "metadata": {
        "colab": {
          "base_uri": "https://localhost:8080/"
        },
        "id": "RUYqzxbnB2mF",
        "outputId": "0007d9d8-22e6-4e8b-a471-541c4f97de83"
      },
      "execution_count": 7,
      "outputs": [
        {
          "output_type": "stream",
          "name": "stdout",
          "text": [
            "All the data\n",
            "(1, 'Rav', 'Ahuja', 'TORONTO', 'CA')\n",
            "(2, 'Raul', 'Chong', 'Markham', 'CA')\n",
            "(3, 'Hima', 'Vasudevan', 'Chicago', 'US')\n"
          ]
        }
      ]
    },
    {
      "cell_type": "code",
      "source": [
        "# fetch few rows from the table\n",
        "statement = '''select * from Instructor'''\n",
        "cursor_obj.execute(statement)\n",
        "print(\"All the data\")\n",
        "output_many = cursor_obj.fetchmany(2)\n",
        "for row_many in output_many:\n",
        "  print(row_many)"
      ],
      "metadata": {
        "colab": {
          "base_uri": "https://localhost:8080/"
        },
        "id": "ETypmhw_CI_V",
        "outputId": "92ffbd67-0619-4d35-a563-f5a13e51f3d2"
      },
      "execution_count": 8,
      "outputs": [
        {
          "output_type": "stream",
          "name": "stdout",
          "text": [
            "All the data\n",
            "(1, 'Rav', 'Ahuja', 'TORONTO', 'CA')\n",
            "(2, 'Raul', 'Chong', 'Markham', 'CA')\n"
          ]
        }
      ]
    },
    {
      "cell_type": "code",
      "source": [
        "# Fetch only FName from the table\n",
        "statement = '''select FNAME from Instructor'''\n",
        "cursor_obj.execute(statement)\n",
        "print(\"All the data\")\n",
        "output_column = cursor_obj.fetchall()\n",
        "for fetch in output_column:\n",
        "  print(fetch)"
      ],
      "metadata": {
        "colab": {
          "base_uri": "https://localhost:8080/"
        },
        "id": "U666bTJoCr8R",
        "outputId": "1e3e1f2a-6247-4484-e186-2ac25599af77"
      },
      "execution_count": 9,
      "outputs": [
        {
          "output_type": "stream",
          "name": "stdout",
          "text": [
            "All the data\n",
            "('Rav',)\n",
            "('Raul',)\n",
            "('Hima',)\n"
          ]
        }
      ]
    },
    {
      "cell_type": "code",
      "source": [
        "query_update='''update INSTRUCTOR set CITY='MOOSETOWN' where FNAME=\"Rav\"'''\n",
        "cursor_obj.execute(query_update)"
      ],
      "metadata": {
        "colab": {
          "base_uri": "https://localhost:8080/"
        },
        "id": "TdBF2UWkDK-2",
        "outputId": "679f865d-4654-4bde-e582-b1df8dea2b5a"
      },
      "execution_count": 10,
      "outputs": [
        {
          "output_type": "execute_result",
          "data": {
            "text/plain": [
              "<sqlite3.Cursor at 0x7bc0ec2671c0>"
            ]
          },
          "metadata": {},
          "execution_count": 10
        }
      ]
    },
    {
      "cell_type": "code",
      "source": [
        "statement = '''SELECT * FROM INSTRUCTOR'''\n",
        "cursor_obj.execute(statement)\n",
        "\n",
        "print(\"All the data\")\n",
        "output1 = cursor_obj.fetchmany(2)\n",
        "for row in output1:\n",
        "  print(row)"
      ],
      "metadata": {
        "colab": {
          "base_uri": "https://localhost:8080/"
        },
        "id": "ovWTgdZkDg8S",
        "outputId": "224c5fa1-7a1b-4497-f212-6228bf0894e1"
      },
      "execution_count": 11,
      "outputs": [
        {
          "output_type": "stream",
          "name": "stdout",
          "text": [
            "All the data\n",
            "(1, 'Rav', 'Ahuja', 'MOOSETOWN', 'CA')\n",
            "(2, 'Raul', 'Chong', 'Markham', 'CA')\n"
          ]
        }
      ]
    },
    {
      "cell_type": "code",
      "source": [
        "# Retrieve data into Pandas\n",
        "import pandas as pd\n",
        "df = pd.read_sql_query(\"select * from instructor;\", con)"
      ],
      "metadata": {
        "id": "74ctlsOGDtNb"
      },
      "execution_count": 12,
      "outputs": []
    },
    {
      "cell_type": "code",
      "source": [
        "df"
      ],
      "metadata": {
        "colab": {
          "base_uri": "https://localhost:8080/",
          "height": 143
        },
        "id": "wpo7hn7HETDe",
        "outputId": "3e3010d2-6729-4c52-f121-eee8fc7f7369"
      },
      "execution_count": 13,
      "outputs": [
        {
          "output_type": "execute_result",
          "data": {
            "text/plain": [
              "   ID FNAME      LNAME       CITY CCODE\n",
              "0   1   Rav      Ahuja  MOOSETOWN    CA\n",
              "1   2  Raul      Chong    Markham    CA\n",
              "2   3  Hima  Vasudevan    Chicago    US"
            ],
            "text/html": [
              "\n",
              "  <div id=\"df-6aa5e8ab-c03a-43ff-a5bd-92794a2fab86\" class=\"colab-df-container\">\n",
              "    <div>\n",
              "<style scoped>\n",
              "    .dataframe tbody tr th:only-of-type {\n",
              "        vertical-align: middle;\n",
              "    }\n",
              "\n",
              "    .dataframe tbody tr th {\n",
              "        vertical-align: top;\n",
              "    }\n",
              "\n",
              "    .dataframe thead th {\n",
              "        text-align: right;\n",
              "    }\n",
              "</style>\n",
              "<table border=\"1\" class=\"dataframe\">\n",
              "  <thead>\n",
              "    <tr style=\"text-align: right;\">\n",
              "      <th></th>\n",
              "      <th>ID</th>\n",
              "      <th>FNAME</th>\n",
              "      <th>LNAME</th>\n",
              "      <th>CITY</th>\n",
              "      <th>CCODE</th>\n",
              "    </tr>\n",
              "  </thead>\n",
              "  <tbody>\n",
              "    <tr>\n",
              "      <th>0</th>\n",
              "      <td>1</td>\n",
              "      <td>Rav</td>\n",
              "      <td>Ahuja</td>\n",
              "      <td>MOOSETOWN</td>\n",
              "      <td>CA</td>\n",
              "    </tr>\n",
              "    <tr>\n",
              "      <th>1</th>\n",
              "      <td>2</td>\n",
              "      <td>Raul</td>\n",
              "      <td>Chong</td>\n",
              "      <td>Markham</td>\n",
              "      <td>CA</td>\n",
              "    </tr>\n",
              "    <tr>\n",
              "      <th>2</th>\n",
              "      <td>3</td>\n",
              "      <td>Hima</td>\n",
              "      <td>Vasudevan</td>\n",
              "      <td>Chicago</td>\n",
              "      <td>US</td>\n",
              "    </tr>\n",
              "  </tbody>\n",
              "</table>\n",
              "</div>\n",
              "    <div class=\"colab-df-buttons\">\n",
              "\n",
              "  <div class=\"colab-df-container\">\n",
              "    <button class=\"colab-df-convert\" onclick=\"convertToInteractive('df-6aa5e8ab-c03a-43ff-a5bd-92794a2fab86')\"\n",
              "            title=\"Convert this dataframe to an interactive table.\"\n",
              "            style=\"display:none;\">\n",
              "\n",
              "  <svg xmlns=\"http://www.w3.org/2000/svg\" height=\"24px\" viewBox=\"0 -960 960 960\">\n",
              "    <path d=\"M120-120v-720h720v720H120Zm60-500h600v-160H180v160Zm220 220h160v-160H400v160Zm0 220h160v-160H400v160ZM180-400h160v-160H180v160Zm440 0h160v-160H620v160ZM180-180h160v-160H180v160Zm440 0h160v-160H620v160Z\"/>\n",
              "  </svg>\n",
              "    </button>\n",
              "\n",
              "  <style>\n",
              "    .colab-df-container {\n",
              "      display:flex;\n",
              "      gap: 12px;\n",
              "    }\n",
              "\n",
              "    .colab-df-convert {\n",
              "      background-color: #E8F0FE;\n",
              "      border: none;\n",
              "      border-radius: 50%;\n",
              "      cursor: pointer;\n",
              "      display: none;\n",
              "      fill: #1967D2;\n",
              "      height: 32px;\n",
              "      padding: 0 0 0 0;\n",
              "      width: 32px;\n",
              "    }\n",
              "\n",
              "    .colab-df-convert:hover {\n",
              "      background-color: #E2EBFA;\n",
              "      box-shadow: 0px 1px 2px rgba(60, 64, 67, 0.3), 0px 1px 3px 1px rgba(60, 64, 67, 0.15);\n",
              "      fill: #174EA6;\n",
              "    }\n",
              "\n",
              "    .colab-df-buttons div {\n",
              "      margin-bottom: 4px;\n",
              "    }\n",
              "\n",
              "    [theme=dark] .colab-df-convert {\n",
              "      background-color: #3B4455;\n",
              "      fill: #D2E3FC;\n",
              "    }\n",
              "\n",
              "    [theme=dark] .colab-df-convert:hover {\n",
              "      background-color: #434B5C;\n",
              "      box-shadow: 0px 1px 3px 1px rgba(0, 0, 0, 0.15);\n",
              "      filter: drop-shadow(0px 1px 2px rgba(0, 0, 0, 0.3));\n",
              "      fill: #FFFFFF;\n",
              "    }\n",
              "  </style>\n",
              "\n",
              "    <script>\n",
              "      const buttonEl =\n",
              "        document.querySelector('#df-6aa5e8ab-c03a-43ff-a5bd-92794a2fab86 button.colab-df-convert');\n",
              "      buttonEl.style.display =\n",
              "        google.colab.kernel.accessAllowed ? 'block' : 'none';\n",
              "\n",
              "      async function convertToInteractive(key) {\n",
              "        const element = document.querySelector('#df-6aa5e8ab-c03a-43ff-a5bd-92794a2fab86');\n",
              "        const dataTable =\n",
              "          await google.colab.kernel.invokeFunction('convertToInteractive',\n",
              "                                                    [key], {});\n",
              "        if (!dataTable) return;\n",
              "\n",
              "        const docLinkHtml = 'Like what you see? Visit the ' +\n",
              "          '<a target=\"_blank\" href=https://colab.research.google.com/notebooks/data_table.ipynb>data table notebook</a>'\n",
              "          + ' to learn more about interactive tables.';\n",
              "        element.innerHTML = '';\n",
              "        dataTable['output_type'] = 'display_data';\n",
              "        await google.colab.output.renderOutput(dataTable, element);\n",
              "        const docLink = document.createElement('div');\n",
              "        docLink.innerHTML = docLinkHtml;\n",
              "        element.appendChild(docLink);\n",
              "      }\n",
              "    </script>\n",
              "  </div>\n",
              "\n",
              "\n",
              "<div id=\"df-dd97b819-ef7d-4d97-9b94-81422c57bb0c\">\n",
              "  <button class=\"colab-df-quickchart\" onclick=\"quickchart('df-dd97b819-ef7d-4d97-9b94-81422c57bb0c')\"\n",
              "            title=\"Suggest charts\"\n",
              "            style=\"display:none;\">\n",
              "\n",
              "<svg xmlns=\"http://www.w3.org/2000/svg\" height=\"24px\"viewBox=\"0 0 24 24\"\n",
              "     width=\"24px\">\n",
              "    <g>\n",
              "        <path d=\"M19 3H5c-1.1 0-2 .9-2 2v14c0 1.1.9 2 2 2h14c1.1 0 2-.9 2-2V5c0-1.1-.9-2-2-2zM9 17H7v-7h2v7zm4 0h-2V7h2v10zm4 0h-2v-4h2v4z\"/>\n",
              "    </g>\n",
              "</svg>\n",
              "  </button>\n",
              "\n",
              "<style>\n",
              "  .colab-df-quickchart {\n",
              "      --bg-color: #E8F0FE;\n",
              "      --fill-color: #1967D2;\n",
              "      --hover-bg-color: #E2EBFA;\n",
              "      --hover-fill-color: #174EA6;\n",
              "      --disabled-fill-color: #AAA;\n",
              "      --disabled-bg-color: #DDD;\n",
              "  }\n",
              "\n",
              "  [theme=dark] .colab-df-quickchart {\n",
              "      --bg-color: #3B4455;\n",
              "      --fill-color: #D2E3FC;\n",
              "      --hover-bg-color: #434B5C;\n",
              "      --hover-fill-color: #FFFFFF;\n",
              "      --disabled-bg-color: #3B4455;\n",
              "      --disabled-fill-color: #666;\n",
              "  }\n",
              "\n",
              "  .colab-df-quickchart {\n",
              "    background-color: var(--bg-color);\n",
              "    border: none;\n",
              "    border-radius: 50%;\n",
              "    cursor: pointer;\n",
              "    display: none;\n",
              "    fill: var(--fill-color);\n",
              "    height: 32px;\n",
              "    padding: 0;\n",
              "    width: 32px;\n",
              "  }\n",
              "\n",
              "  .colab-df-quickchart:hover {\n",
              "    background-color: var(--hover-bg-color);\n",
              "    box-shadow: 0 1px 2px rgba(60, 64, 67, 0.3), 0 1px 3px 1px rgba(60, 64, 67, 0.15);\n",
              "    fill: var(--button-hover-fill-color);\n",
              "  }\n",
              "\n",
              "  .colab-df-quickchart-complete:disabled,\n",
              "  .colab-df-quickchart-complete:disabled:hover {\n",
              "    background-color: var(--disabled-bg-color);\n",
              "    fill: var(--disabled-fill-color);\n",
              "    box-shadow: none;\n",
              "  }\n",
              "\n",
              "  .colab-df-spinner {\n",
              "    border: 2px solid var(--fill-color);\n",
              "    border-color: transparent;\n",
              "    border-bottom-color: var(--fill-color);\n",
              "    animation:\n",
              "      spin 1s steps(1) infinite;\n",
              "  }\n",
              "\n",
              "  @keyframes spin {\n",
              "    0% {\n",
              "      border-color: transparent;\n",
              "      border-bottom-color: var(--fill-color);\n",
              "      border-left-color: var(--fill-color);\n",
              "    }\n",
              "    20% {\n",
              "      border-color: transparent;\n",
              "      border-left-color: var(--fill-color);\n",
              "      border-top-color: var(--fill-color);\n",
              "    }\n",
              "    30% {\n",
              "      border-color: transparent;\n",
              "      border-left-color: var(--fill-color);\n",
              "      border-top-color: var(--fill-color);\n",
              "      border-right-color: var(--fill-color);\n",
              "    }\n",
              "    40% {\n",
              "      border-color: transparent;\n",
              "      border-right-color: var(--fill-color);\n",
              "      border-top-color: var(--fill-color);\n",
              "    }\n",
              "    60% {\n",
              "      border-color: transparent;\n",
              "      border-right-color: var(--fill-color);\n",
              "    }\n",
              "    80% {\n",
              "      border-color: transparent;\n",
              "      border-right-color: var(--fill-color);\n",
              "      border-bottom-color: var(--fill-color);\n",
              "    }\n",
              "    90% {\n",
              "      border-color: transparent;\n",
              "      border-bottom-color: var(--fill-color);\n",
              "    }\n",
              "  }\n",
              "</style>\n",
              "\n",
              "  <script>\n",
              "    async function quickchart(key) {\n",
              "      const quickchartButtonEl =\n",
              "        document.querySelector('#' + key + ' button');\n",
              "      quickchartButtonEl.disabled = true;  // To prevent multiple clicks.\n",
              "      quickchartButtonEl.classList.add('colab-df-spinner');\n",
              "      try {\n",
              "        const charts = await google.colab.kernel.invokeFunction(\n",
              "            'suggestCharts', [key], {});\n",
              "      } catch (error) {\n",
              "        console.error('Error during call to suggestCharts:', error);\n",
              "      }\n",
              "      quickchartButtonEl.classList.remove('colab-df-spinner');\n",
              "      quickchartButtonEl.classList.add('colab-df-quickchart-complete');\n",
              "    }\n",
              "    (() => {\n",
              "      let quickchartButtonEl =\n",
              "        document.querySelector('#df-dd97b819-ef7d-4d97-9b94-81422c57bb0c button');\n",
              "      quickchartButtonEl.style.display =\n",
              "        google.colab.kernel.accessAllowed ? 'block' : 'none';\n",
              "    })();\n",
              "  </script>\n",
              "</div>\n",
              "\n",
              "  <div id=\"id_bd34c2ff-a516-4a2f-9c73-50361b8b5c14\">\n",
              "    <style>\n",
              "      .colab-df-generate {\n",
              "        background-color: #E8F0FE;\n",
              "        border: none;\n",
              "        border-radius: 50%;\n",
              "        cursor: pointer;\n",
              "        display: none;\n",
              "        fill: #1967D2;\n",
              "        height: 32px;\n",
              "        padding: 0 0 0 0;\n",
              "        width: 32px;\n",
              "      }\n",
              "\n",
              "      .colab-df-generate:hover {\n",
              "        background-color: #E2EBFA;\n",
              "        box-shadow: 0px 1px 2px rgba(60, 64, 67, 0.3), 0px 1px 3px 1px rgba(60, 64, 67, 0.15);\n",
              "        fill: #174EA6;\n",
              "      }\n",
              "\n",
              "      [theme=dark] .colab-df-generate {\n",
              "        background-color: #3B4455;\n",
              "        fill: #D2E3FC;\n",
              "      }\n",
              "\n",
              "      [theme=dark] .colab-df-generate:hover {\n",
              "        background-color: #434B5C;\n",
              "        box-shadow: 0px 1px 3px 1px rgba(0, 0, 0, 0.15);\n",
              "        filter: drop-shadow(0px 1px 2px rgba(0, 0, 0, 0.3));\n",
              "        fill: #FFFFFF;\n",
              "      }\n",
              "    </style>\n",
              "    <button class=\"colab-df-generate\" onclick=\"generateWithVariable('df')\"\n",
              "            title=\"Generate code using this dataframe.\"\n",
              "            style=\"display:none;\">\n",
              "\n",
              "  <svg xmlns=\"http://www.w3.org/2000/svg\" height=\"24px\"viewBox=\"0 0 24 24\"\n",
              "       width=\"24px\">\n",
              "    <path d=\"M7,19H8.4L18.45,9,17,7.55,7,17.6ZM5,21V16.75L18.45,3.32a2,2,0,0,1,2.83,0l1.4,1.43a1.91,1.91,0,0,1,.58,1.4,1.91,1.91,0,0,1-.58,1.4L9.25,21ZM18.45,9,17,7.55Zm-12,3A5.31,5.31,0,0,0,4.9,8.1,5.31,5.31,0,0,0,1,6.5,5.31,5.31,0,0,0,4.9,4.9,5.31,5.31,0,0,0,6.5,1,5.31,5.31,0,0,0,8.1,4.9,5.31,5.31,0,0,0,12,6.5,5.46,5.46,0,0,0,6.5,12Z\"/>\n",
              "  </svg>\n",
              "    </button>\n",
              "    <script>\n",
              "      (() => {\n",
              "      const buttonEl =\n",
              "        document.querySelector('#id_bd34c2ff-a516-4a2f-9c73-50361b8b5c14 button.colab-df-generate');\n",
              "      buttonEl.style.display =\n",
              "        google.colab.kernel.accessAllowed ? 'block' : 'none';\n",
              "\n",
              "      buttonEl.onclick = () => {\n",
              "        google.colab.notebook.generateWithVariable('df');\n",
              "      }\n",
              "      })();\n",
              "    </script>\n",
              "  </div>\n",
              "\n",
              "    </div>\n",
              "  </div>\n"
            ],
            "application/vnd.google.colaboratory.intrinsic+json": {
              "type": "dataframe",
              "variable_name": "df",
              "summary": "{\n  \"name\": \"df\",\n  \"rows\": 3,\n  \"fields\": [\n    {\n      \"column\": \"ID\",\n      \"properties\": {\n        \"dtype\": \"number\",\n        \"std\": 1,\n        \"min\": 1,\n        \"max\": 3,\n        \"num_unique_values\": 3,\n        \"samples\": [\n          1,\n          2,\n          3\n        ],\n        \"semantic_type\": \"\",\n        \"description\": \"\"\n      }\n    },\n    {\n      \"column\": \"FNAME\",\n      \"properties\": {\n        \"dtype\": \"string\",\n        \"num_unique_values\": 3,\n        \"samples\": [\n          \"Rav\",\n          \"Raul\",\n          \"Hima\"\n        ],\n        \"semantic_type\": \"\",\n        \"description\": \"\"\n      }\n    },\n    {\n      \"column\": \"LNAME\",\n      \"properties\": {\n        \"dtype\": \"string\",\n        \"num_unique_values\": 3,\n        \"samples\": [\n          \"Ahuja\",\n          \"Chong\",\n          \"Vasudevan\"\n        ],\n        \"semantic_type\": \"\",\n        \"description\": \"\"\n      }\n    },\n    {\n      \"column\": \"CITY\",\n      \"properties\": {\n        \"dtype\": \"string\",\n        \"num_unique_values\": 3,\n        \"samples\": [\n          \"MOOSETOWN\",\n          \"Markham\",\n          \"Chicago\"\n        ],\n        \"semantic_type\": \"\",\n        \"description\": \"\"\n      }\n    },\n    {\n      \"column\": \"CCODE\",\n      \"properties\": {\n        \"dtype\": \"string\",\n        \"num_unique_values\": 2,\n        \"samples\": [\n          \"US\",\n          \"CA\"\n        ],\n        \"semantic_type\": \"\",\n        \"description\": \"\"\n      }\n    }\n  ]\n}"
            }
          },
          "metadata": {},
          "execution_count": 13
        }
      ]
    },
    {
      "cell_type": "code",
      "source": [
        "df.shape"
      ],
      "metadata": {
        "colab": {
          "base_uri": "https://localhost:8080/"
        },
        "id": "P515wQIWEhC5",
        "outputId": "41441539-d82c-4bee-b31f-4b03a32c3c3f"
      },
      "execution_count": 14,
      "outputs": [
        {
          "output_type": "execute_result",
          "data": {
            "text/plain": [
              "(3, 5)"
            ]
          },
          "metadata": {},
          "execution_count": 14
        }
      ]
    },
    {
      "cell_type": "code",
      "source": [
        "# print lname for first row\n",
        "df.LNAME[0]"
      ],
      "metadata": {
        "colab": {
          "base_uri": "https://localhost:8080/",
          "height": 35
        },
        "id": "6VS13gtlETjg",
        "outputId": "759220b3-18db-410f-c606-7bf2b3a044ca"
      },
      "execution_count": 15,
      "outputs": [
        {
          "output_type": "execute_result",
          "data": {
            "text/plain": [
              "'Ahuja'"
            ],
            "application/vnd.google.colaboratory.intrinsic+json": {
              "type": "string"
            }
          },
          "metadata": {},
          "execution_count": 15
        }
      ]
    },
    {
      "cell_type": "code",
      "source": [
        "# It is important to close the connection in order to free all resourses used and avoid unused connections taking up resources\n",
        "con.close()"
      ],
      "metadata": {
        "id": "yWDgSeE-Ecvy"
      },
      "execution_count": 16,
      "outputs": []
    },
    {
      "cell_type": "markdown",
      "source": [
        "#### **Accessing Databases with SQL Magic**\n",
        "Magic Statements in JN: Magic commands/ functions are special commands in JN that provide special functionalities – They are not valid python codes but affect the behavior of the notebook – They are designed to solve various common problems in standard data analysis.\n",
        "\n",
        "Types of Magic Statements in JN:\n",
        "* Line Magics – commands that are prefixed with a single (%) character and operate on a single line of input. – They are like command line calls in a terminal shell\n",
        "* Cell Magics – commands that are prefixed with two (%%) characters and operate on multiple lines of input – they can even transform the entire cell or execute the cell in a different programing language.\n",
        "\n"
      ],
      "metadata": {
        "id": "yyP8e_w1ah7V"
      }
    },
    {
      "cell_type": "code",
      "source": [
        "# Load SQL Extension\n",
        "%load_ext sql"
      ],
      "metadata": {
        "id": "tnAulplvEvgc",
        "colab": {
          "base_uri": "https://localhost:8080/"
        },
        "outputId": "6b822a55-eba8-4ab3-b08b-c83323e16cfb"
      },
      "execution_count": 19,
      "outputs": [
        {
          "output_type": "stream",
          "name": "stdout",
          "text": [
            "The sql extension is already loaded. To reload it, use:\n",
            "  %reload_ext sql\n"
          ]
        }
      ]
    },
    {
      "cell_type": "code",
      "source": [
        "import csv, sqlite3\n",
        "# Establish a connection to a database\n",
        "con = sqlite3.connect(\"SQLiteMagic.db\")\n",
        "cur = con.cursor()"
      ],
      "metadata": {
        "id": "2bfJGV3HbWHJ"
      },
      "execution_count": 20,
      "outputs": []
    },
    {
      "cell_type": "code",
      "source": [
        "# Establish a connection for the SQL magic module to the SQL server being accessed\n",
        "%sql sqlite:///SQLiteMagic.db"
      ],
      "metadata": {
        "id": "ukJw4x3vcSBg"
      },
      "execution_count": 21,
      "outputs": []
    },
    {
      "cell_type": "code",
      "source": [
        "# We use %%sql at the top of a cell to indicate that we want the entire cell to be treated as an SQL\n",
        "%%sql\n",
        "\n",
        "CREATE TABLE INTERNATIONAL_STUDENT_TEST_SCORES (\n",
        "\tcountry VARCHAR(50),\n",
        "\tfirst_name VARCHAR(50),\n",
        "\tlast_name VARCHAR(50),\n",
        "\ttest_score INT\n",
        ");\n",
        "INSERT INTO INTERNATIONAL_STUDENT_TEST_SCORES (country, first_name, last_name, test_score)\n",
        "VALUES\n",
        "('United States', 'Marshall', 'Bernadot', 54),\n",
        "('Ghana', 'Celinda', 'Malkin', 51),\n",
        "('Ukraine', 'Guillermo', 'Furze', 53),\n",
        "('Greece', 'Aharon', 'Tunnow', 48),\n",
        "('Russia', 'Bail', 'Goodwin', 46),\n",
        "('Poland', 'Cole', 'Winteringham', 49),\n",
        "('Sweden', 'Emlyn', 'Erricker', 55),\n",
        "('Russia', 'Cathee', 'Sivewright', 49),\n",
        "('China', 'Barny', 'Ingerson', 57),\n",
        "('Uganda', 'Sharla', 'Papaccio', 55),\n",
        "('China', 'Stella', 'Youens', 51),\n",
        "('Poland', 'Julio', 'Buesden', 48),\n",
        "('United States', 'Tiffie', 'Cosely', 58),\n",
        "('Poland', 'Auroora', 'Stiffell', 45),\n",
        "('China', 'Clarita', 'Huet', 52),\n",
        "('Poland', 'Shannon', 'Goulden', 45),\n",
        "('Philippines', 'Emylee', 'Privost', 50),\n",
        "('France', 'Madelina', 'Burk', 49),\n",
        "('China', 'Saunderson', 'Root', 58),\n",
        "('Indonesia', 'Bo', 'Waring', 55),\n",
        "('China', 'Hollis', 'Domotor', 45),\n",
        "('Russia', 'Robbie', 'Collip', 46),\n",
        "('Philippines', 'Davon', 'Donisi', 46),\n",
        "('China', 'Cristabel', 'Radeliffe', 48),\n",
        "('China', 'Wallis', 'Bartleet', 58),\n",
        "('Moldova', 'Arleen', 'Stailey', 38),\n",
        "('Ireland', 'Mendel', 'Grumble', 58),\n",
        "('China', 'Sallyann', 'Exley', 51),\n",
        "('Mexico', 'Kain', 'Swaite', 46),\n",
        "('Indonesia', 'Alonso', 'Bulteel', 45),\n",
        "('Armenia', 'Anatol', 'Tankus', 51),\n",
        "('Indonesia', 'Coralyn', 'Dawkins', 48),\n",
        "('China', 'Deanne', 'Edwinson', 45),\n",
        "('China', 'Georgiana', 'Epple', 51),\n",
        "('Portugal', 'Bartlet', 'Breese', 56),\n",
        "('Azerbaijan', 'Idalina', 'Lukash', 50),\n",
        "('France', 'Livvie', 'Flory', 54),\n",
        "('Malaysia', 'Nonie', 'Borit', 48),\n",
        "('Indonesia', 'Clio', 'Mugg', 47),\n",
        "('Brazil', 'Westley', 'Measor', 48),\n",
        "('Philippines', 'Katrinka', 'Sibbert', 51),\n",
        "('Poland', 'Valentia', 'Mounch', 50),\n",
        "('Norway', 'Sheilah', 'Hedditch', 53),\n",
        "('Papua New Guinea', 'Itch', 'Jubb', 50),\n",
        "('Latvia', 'Stesha', 'Garnson', 53),\n",
        "('Canada', 'Cristionna', 'Wadmore', 46),\n",
        "('China', 'Lianna', 'Gatward', 43),\n",
        "('Guatemala', 'Tanney', 'Vials', 48),\n",
        "('France', 'Alma', 'Zavittieri', 44),\n",
        "('China', 'Alvira', 'Tamas', 50),\n",
        "('United States', 'Shanon', 'Peres', 45),\n",
        "('Sweden', 'Maisey', 'Lynas', 53),\n",
        "('Indonesia', 'Kip', 'Hothersall', 46),\n",
        "('China', 'Cash', 'Landis', 48),\n",
        "('Panama', 'Kennith', 'Digance', 45),\n",
        "('China', 'Ulberto', 'Riggeard', 48),\n",
        "('Switzerland', 'Judy', 'Gilligan', 49),\n",
        "('Philippines', 'Tod', 'Trevaskus', 52),\n",
        "('Brazil', 'Herold', 'Heggs', 44),\n",
        "('Latvia', 'Verney', 'Note', 50),\n",
        "('Poland', 'Temp', 'Ribey', 50),\n",
        "('China', 'Conroy', 'Egdal', 48),\n",
        "('Japan', 'Gabie', 'Alessandone', 47),\n",
        "('Ukraine', 'Devlen', 'Chaperlin', 54),\n",
        "('France', 'Babbette', 'Turner', 51),\n",
        "('Czech Republic', 'Virgil', 'Scotney', 52),\n",
        "('Tajikistan', 'Zorina', 'Bedow', 49),\n",
        "('China', 'Aidan', 'Rudeyeard', 50),\n",
        "('Ireland', 'Saunder', 'MacLice', 48),\n",
        "('France', 'Waly', 'Brunstan', 53),\n",
        "('China', 'Gisele', 'Enns', 52),\n",
        "('Peru', 'Mina', 'Winchester', 48),\n",
        "('Japan', 'Torie', 'MacShirrie', 50),\n",
        "('Russia', 'Benjamen', 'Kenford', 51),\n",
        "('China', 'Etan', 'Burn', 53),\n",
        "('Russia', 'Merralee', 'Chaperlin', 38),\n",
        "('Indonesia', 'Lanny', 'Malam', 49),\n",
        "('Canada', 'Wilhelm', 'Deeprose', 54),\n",
        "('Czech Republic', 'Lari', 'Hillhouse', 48),\n",
        "('China', 'Ossie', 'Woodley', 52),\n",
        "('Macedonia', 'April', 'Tyer', 50),\n",
        "('Vietnam', 'Madelon', 'Dansey', 53),\n",
        "('Ukraine', 'Korella', 'McNamee', 52),\n",
        "('Jamaica', 'Linnea', 'Cannam', 43),\n",
        "('China', 'Mart', 'Coling', 52),\n",
        "('Indonesia', 'Marna', 'Causbey', 47),\n",
        "('China', 'Berni', 'Daintier', 55),\n",
        "('Poland', 'Cynthia', 'Hassell', 49),\n",
        "('Canada', 'Carma', 'Schule', 49),\n",
        "('Indonesia', 'Malia', 'Blight', 48),\n",
        "('China', 'Paulo', 'Seivertsen', 47),\n",
        "('Niger', 'Kaylee', 'Hearley', 54),\n",
        "('Japan', 'Maure', 'Jandak', 46),\n",
        "('Argentina', 'Foss', 'Feavers', 45),\n",
        "('Venezuela', 'Ron', 'Leggitt', 60),\n",
        "('Russia', 'Flint', 'Gokes', 40),\n",
        "('China', 'Linet', 'Conelly', 52),\n",
        "('Philippines', 'Nikolas', 'Birtwell', 57),\n",
        "('Australia', 'Eduard', 'Leipelt', 53)"
      ],
      "metadata": {
        "colab": {
          "base_uri": "https://localhost:8080/"
        },
        "id": "iYGw5D5Qf0kL",
        "outputId": "042d8457-5e42-4402-f58c-a7924c8adf6a"
      },
      "execution_count": 22,
      "outputs": [
        {
          "output_type": "stream",
          "name": "stdout",
          "text": [
            " * sqlite:///SQLiteMagic.db\n",
            "Done.\n",
            "99 rows affected.\n"
          ]
        },
        {
          "output_type": "execute_result",
          "data": {
            "text/plain": [
              "[]"
            ]
          },
          "metadata": {},
          "execution_count": 22
        }
      ]
    },
    {
      "cell_type": "code",
      "source": [
        "# We can use python variables in SQL statements by adding a (:) prefix to the python variable names.\n",
        "# Identify those students whose country = canada\n",
        "country = 'Canada'\n",
        "%sql select * from INTERNATIONAL_STUDENT_TEST_SCORES where country = :country"
      ],
      "metadata": {
        "colab": {
          "base_uri": "https://localhost:8080/",
          "height": 139
        },
        "id": "Ijx3g5tDgEnj",
        "outputId": "71979db1-70f9-4b94-ebde-601fd56e54e4"
      },
      "execution_count": 24,
      "outputs": [
        {
          "output_type": "stream",
          "name": "stdout",
          "text": [
            " * sqlite:///SQLiteMagic.db\n",
            "Done.\n"
          ]
        },
        {
          "output_type": "execute_result",
          "data": {
            "text/plain": [
              "[('Canada', 'Cristionna', 'Wadmore', 46),\n",
              " ('Canada', 'Wilhelm', 'Deeprose', 54),\n",
              " ('Canada', 'Carma', 'Schule', 49)]"
            ],
            "text/html": [
              "<table>\n",
              "    <thead>\n",
              "        <tr>\n",
              "            <th>country</th>\n",
              "            <th>first_name</th>\n",
              "            <th>last_name</th>\n",
              "            <th>test_score</th>\n",
              "        </tr>\n",
              "    </thead>\n",
              "    <tbody>\n",
              "        <tr>\n",
              "            <td>Canada</td>\n",
              "            <td>Cristionna</td>\n",
              "            <td>Wadmore</td>\n",
              "            <td>46</td>\n",
              "        </tr>\n",
              "        <tr>\n",
              "            <td>Canada</td>\n",
              "            <td>Wilhelm</td>\n",
              "            <td>Deeprose</td>\n",
              "            <td>54</td>\n",
              "        </tr>\n",
              "        <tr>\n",
              "            <td>Canada</td>\n",
              "            <td>Carma</td>\n",
              "            <td>Schule</td>\n",
              "            <td>49</td>\n",
              "        </tr>\n",
              "    </tbody>\n",
              "</table>"
            ]
          },
          "metadata": {},
          "execution_count": 24
        }
      ]
    },
    {
      "cell_type": "code",
      "source": [
        "# We can use normal python assignment sytnax to assign the results of your queries to python variables.\n",
        "# Retrieve distribution of test scores of students:\n",
        "test_score_distribution = %sql select test_score as \"Test_Score\", count(*) as \"Frequency\" from INTERNATIONAL_STUDENT_TEST_SCORES group by test_score;\n",
        "test_score_distribution"
      ],
      "metadata": {
        "colab": {
          "base_uri": "https://localhost:8080/",
          "height": 481
        },
        "id": "UBzx0lgNgnRm",
        "outputId": "41a01046-8e31-47d1-c3b1-a5f2b6eacda7"
      },
      "execution_count": 25,
      "outputs": [
        {
          "output_type": "stream",
          "name": "stdout",
          "text": [
            " * sqlite:///SQLiteMagic.db\n",
            "Done.\n"
          ]
        },
        {
          "output_type": "execute_result",
          "data": {
            "text/plain": [
              "[(38, 2),\n",
              " (40, 1),\n",
              " (43, 2),\n",
              " (44, 2),\n",
              " (45, 8),\n",
              " (46, 7),\n",
              " (47, 4),\n",
              " (48, 14),\n",
              " (49, 8),\n",
              " (50, 10),\n",
              " (51, 8),\n",
              " (52, 8),\n",
              " (53, 8),\n",
              " (54, 5),\n",
              " (55, 4),\n",
              " (56, 1),\n",
              " (57, 2),\n",
              " (58, 4),\n",
              " (60, 1)]"
            ],
            "text/html": [
              "<table>\n",
              "    <thead>\n",
              "        <tr>\n",
              "            <th>Test_Score</th>\n",
              "            <th>Frequency</th>\n",
              "        </tr>\n",
              "    </thead>\n",
              "    <tbody>\n",
              "        <tr>\n",
              "            <td>38</td>\n",
              "            <td>2</td>\n",
              "        </tr>\n",
              "        <tr>\n",
              "            <td>40</td>\n",
              "            <td>1</td>\n",
              "        </tr>\n",
              "        <tr>\n",
              "            <td>43</td>\n",
              "            <td>2</td>\n",
              "        </tr>\n",
              "        <tr>\n",
              "            <td>44</td>\n",
              "            <td>2</td>\n",
              "        </tr>\n",
              "        <tr>\n",
              "            <td>45</td>\n",
              "            <td>8</td>\n",
              "        </tr>\n",
              "        <tr>\n",
              "            <td>46</td>\n",
              "            <td>7</td>\n",
              "        </tr>\n",
              "        <tr>\n",
              "            <td>47</td>\n",
              "            <td>4</td>\n",
              "        </tr>\n",
              "        <tr>\n",
              "            <td>48</td>\n",
              "            <td>14</td>\n",
              "        </tr>\n",
              "        <tr>\n",
              "            <td>49</td>\n",
              "            <td>8</td>\n",
              "        </tr>\n",
              "        <tr>\n",
              "            <td>50</td>\n",
              "            <td>10</td>\n",
              "        </tr>\n",
              "        <tr>\n",
              "            <td>51</td>\n",
              "            <td>8</td>\n",
              "        </tr>\n",
              "        <tr>\n",
              "            <td>52</td>\n",
              "            <td>8</td>\n",
              "        </tr>\n",
              "        <tr>\n",
              "            <td>53</td>\n",
              "            <td>8</td>\n",
              "        </tr>\n",
              "        <tr>\n",
              "            <td>54</td>\n",
              "            <td>5</td>\n",
              "        </tr>\n",
              "        <tr>\n",
              "            <td>55</td>\n",
              "            <td>4</td>\n",
              "        </tr>\n",
              "        <tr>\n",
              "            <td>56</td>\n",
              "            <td>1</td>\n",
              "        </tr>\n",
              "        <tr>\n",
              "            <td>57</td>\n",
              "            <td>2</td>\n",
              "        </tr>\n",
              "        <tr>\n",
              "            <td>58</td>\n",
              "            <td>4</td>\n",
              "        </tr>\n",
              "        <tr>\n",
              "            <td>60</td>\n",
              "            <td>1</td>\n",
              "        </tr>\n",
              "    </tbody>\n",
              "</table>"
            ]
          },
          "metadata": {},
          "execution_count": 25
        }
      ]
    },
    {
      "cell_type": "code",
      "source": [
        "# You can easily convert SQL query result to a pandas dataframe using the dataframe() method.\n",
        "# Dataframe objects are more versatile than SQL query result objects.\n",
        "dataframe = test_score_distribution.DataFrame()\n",
        "import seaborn\n",
        "plot = seaborn.barplot(x='Test_Score', y='Frequency', data=dataframe, color='blue')"
      ],
      "metadata": {
        "colab": {
          "base_uri": "https://localhost:8080/",
          "height": 449
        },
        "id": "OiRsTaS6hgMx",
        "outputId": "68c1fd6f-aae4-4bd4-dbb5-a0429ed2bb3c"
      },
      "execution_count": 32,
      "outputs": [
        {
          "output_type": "display_data",
          "data": {
            "text/plain": [
              "<Figure size 640x480 with 1 Axes>"
            ],
            "image/png": "[encoded data removed]"
          },
          "metadata": {}
        }
      ]
    }
  ]
}