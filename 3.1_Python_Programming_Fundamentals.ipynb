{
  "nbformat": 4,
  "nbformat_minor": 0,
  "metadata": {
    "colab": {
      "provenance": [],
      "authorship_tag": "ABX9TyMkLEkeBnnesBpgZGzAl/zc",
      "include_colab_link": true
    },
    "kernelspec": {
      "name": "python3",
      "display_name": "Python 3"
    },
    "language_info": {
      "name": "python"
    }
  },
  "cells": [
    {
      "cell_type": "markdown",
      "metadata": {
        "id": "view-in-github",
        "colab_type": "text"
      },
      "source": [
        "<a href=\"https://colab.research.google.com/github/rebeccalizaverghese/IBM-Data-Science/blob/main/3.1_Python_Programming_Fundamentals.ipynb\" target=\"_parent\"><img src=\"https://colab.research.google.com/assets/colab-badge.svg\" alt=\"Open In Colab\"/></a>"
      ]
    },
    {
      "cell_type": "markdown",
      "source": [
        "###Python Programming Fundamentals\n",
        "#### Conditioning and Branching"
      ],
      "metadata": {
        "id": "StJatjZXmwRb"
      }
    },
    {
      "cell_type": "markdown",
      "source": [
        "##### **Conditioning**\n",
        "#####Comparison Operators - compares some value or operand and based on a condition, produces a Boolean (True/ False values)\n",
        "\n",
        "Operators:\n",
        "* equal (==)\n",
        "* not equal (!=)\n",
        "* greater than (>)\n",
        "* lesser than (<)\n",
        "* greater than or equal to (>=)\n",
        "* lesser than or equal to (<=)"
      ],
      "metadata": {
        "id": "w1cnxQdunIs3"
      }
    },
    {
      "cell_type": "code",
      "source": [
        "a = 30\n",
        "i = 6\n",
        "print(a==33)\n",
        "print (a!=i)\n",
        "print (40>i)\n",
        "print (a<35)\n",
        "print (a>=29)\n",
        "print (a<=20)\n",
        "print (i == 5)"
      ],
      "metadata": {
        "colab": {
          "base_uri": "https://localhost:8080/"
        },
        "id": "eowh_ILLnFOS",
        "outputId": "4b77d411-e3d9-48b5-88ab-42a26ac4368f"
      },
      "execution_count": 13,
      "outputs": [
        {
          "output_type": "stream",
          "name": "stdout",
          "text": [
            "False\n",
            "True\n",
            "True\n",
            "True\n",
            "True\n",
            "False\n",
            "False\n"
          ]
        }
      ]
    },
    {
      "cell_type": "code",
      "source": [
        "\"Annalise\" == \"Annabell\""
      ],
      "metadata": {
        "colab": {
          "base_uri": "https://localhost:8080/"
        },
        "id": "BeJzGRT-oHm9",
        "outputId": "a873904e-704f-4c57-add0-c387018af4c1"
      },
      "execution_count": 14,
      "outputs": [
        {
          "output_type": "execute_result",
          "data": {
            "text/plain": [
              "False"
            ]
          },
          "metadata": {},
          "execution_count": 14
        }
      ]
    },
    {
      "cell_type": "code",
      "source": [
        "\"Annet\" != \"Ann\""
      ],
      "metadata": {
        "colab": {
          "base_uri": "https://localhost:8080/"
        },
        "id": "QlgUN5NXpLJf",
        "outputId": "967064cf-ad7b-438b-8f89-1f26e0ea16e6"
      },
      "execution_count": 15,
      "outputs": [
        {
          "output_type": "execute_result",
          "data": {
            "text/plain": [
              "True"
            ]
          },
          "metadata": {},
          "execution_count": 15
        }
      ]
    },
    {
      "cell_type": "code",
      "source": [
        "a = 65\n",
        "b = 66\n",
        "c = 78\n",
        "d = 100"
      ],
      "metadata": {
        "id": "FY8j8dqtpSfk"
      },
      "execution_count": 27,
      "outputs": []
    },
    {
      "cell_type": "code",
      "source": [
        "a == b"
      ],
      "metadata": {
        "colab": {
          "base_uri": "https://localhost:8080/"
        },
        "id": "FXt0lWbfpmGW",
        "outputId": "e9c936a5-cb22-484d-fa2f-303637a4ec5e"
      },
      "execution_count": 28,
      "outputs": [
        {
          "output_type": "execute_result",
          "data": {
            "text/plain": [
              "False"
            ]
          },
          "metadata": {},
          "execution_count": 28
        }
      ]
    },
    {
      "cell_type": "code",
      "source": [
        "'ab' == 'ba'"
      ],
      "metadata": {
        "colab": {
          "base_uri": "https://localhost:8080/"
        },
        "id": "z-2_FLEvppVI",
        "outputId": "9eb78e0b-7585-48da-a3de-df54ca51bf70"
      },
      "execution_count": 29,
      "outputs": [
        {
          "output_type": "execute_result",
          "data": {
            "text/plain": [
              "False"
            ]
          },
          "metadata": {},
          "execution_count": 29
        }
      ]
    },
    {
      "cell_type": "code",
      "source": [
        "a*b == b*a"
      ],
      "metadata": {
        "colab": {
          "base_uri": "https://localhost:8080/"
        },
        "id": "LOMEnHbepsWU",
        "outputId": "13801253-e58d-4f5e-a61a-a4d7ab940057"
      },
      "execution_count": 30,
      "outputs": [
        {
          "output_type": "execute_result",
          "data": {
            "text/plain": [
              "True"
            ]
          },
          "metadata": {},
          "execution_count": 30
        }
      ]
    },
    {
      "cell_type": "markdown",
      "source": [
        "##### Branching - allows us to run different statements for different inputs"
      ],
      "metadata": {
        "id": "-EMhFYElqOD_"
      }
    },
    {
      "cell_type": "code",
      "source": [
        "# if statement - if the statement is true, the program will run some predefined task, if false, the program will ignore the task\n",
        "age = 22\n",
        "if (age>=18):\n",
        "  print(\"You are eligible to vote\")"
      ],
      "metadata": {
        "colab": {
          "base_uri": "https://localhost:8080/"
        },
        "id": "kKV61azJp0KE",
        "outputId": "4a714022-7853-4acc-f0f8-682a69302a3d"
      },
      "execution_count": 35,
      "outputs": [
        {
          "output_type": "stream",
          "name": "stdout",
          "text": [
            "You are eligible to vote\n"
          ]
        }
      ]
    },
    {
      "cell_type": "code",
      "source": [
        "# else statement - will run a different block of code if the same condition is false. If the condition is true, it will ignore the else command\n",
        "age = 18\n",
        "if (age>18):\n",
        "  print(\"you can attend the AC/DC concert\")\n",
        "else:\n",
        "  print (\"Go see the Meat Loaf\")\n",
        "print (\"Move on\")"
      ],
      "metadata": {
        "colab": {
          "base_uri": "https://localhost:8080/"
        },
        "id": "SmaeaioyrYv5",
        "outputId": "cba84642-7d13-4a5a-f40e-a5857046494e"
      },
      "execution_count": 38,
      "outputs": [
        {
          "output_type": "stream",
          "name": "stdout",
          "text": [
            "Go see the Meat Loaf\n",
            "Move on\n"
          ]
        }
      ]
    },
    {
      "cell_type": "code",
      "source": [
        "# elif statement - short form for else if - allows us to check additional conditions if the preceding condition is false. if the condition for the elif statement is true, the alternate expression will be run\n",
        "age = 18\n",
        "if (age>18):\n",
        "  print (\"You can attend AC/DC concert\")\n",
        "elif (age==18):\n",
        "  print (\"Go see Pink Floyd\")\n",
        "else:\n",
        "  print (\"Go see Meat Loaf\")\n",
        "print (\"Move on\")"
      ],
      "metadata": {
        "colab": {
          "base_uri": "https://localhost:8080/"
        },
        "id": "-yMWEqGdrWkQ",
        "outputId": "b4f3a6cc-665b-4cbf-8948-4c9c145dae9e"
      },
      "execution_count": 40,
      "outputs": [
        {
          "output_type": "stream",
          "name": "stdout",
          "text": [
            "Go see Pink Floyd\n",
            "Move on\n"
          ]
        }
      ]
    },
    {
      "cell_type": "code",
      "source": [
        "album_year = 1983\n",
        "if (album_year>1980):\n",
        "  print (\"Album year is greater than 1980\")\n",
        "else:\n",
        "  print (\"Album year is less than 1980\")"
      ],
      "metadata": {
        "colab": {
          "base_uri": "https://localhost:8080/"
        },
        "id": "tPMw_3gKqLbk",
        "outputId": "7e935e75-afa5-45d2-a345-4241d604998f"
      },
      "execution_count": 43,
      "outputs": [
        {
          "output_type": "stream",
          "name": "stdout",
          "text": [
            "Album year is greater than 1980\n"
          ]
        }
      ]
    },
    {
      "cell_type": "code",
      "source": [
        "album_year = 1979\n",
        "if (album_year>1980):\n",
        "  print (\"Album year is greater than 1980\")\n",
        "else:\n",
        "  print (\"Album year is less than 1980\")"
      ],
      "metadata": {
        "colab": {
          "base_uri": "https://localhost:8080/"
        },
        "id": "CAm3dM1btOH0",
        "outputId": "3b2ad5cd-d5ba-4705-a97c-9690bc4460bf"
      },
      "execution_count": 44,
      "outputs": [
        {
          "output_type": "stream",
          "name": "stdout",
          "text": [
            "Album year is less than 1980\n"
          ]
        }
      ]
    },
    {
      "cell_type": "markdown",
      "source": [
        "##### Logical Operators\n",
        "* Or operator - takes in two boolean values and returns a new boolean value. It only produces a false when all the boolean values are false.\n",
        "* And Operator - takes in two boolean values and returns a new boolean value. It only produces a true, when all boolean values are true\n",
        "* Not Operator - if the input is true, it returns a false and vice versa"
      ],
      "metadata": {
        "id": "oe6XJLh_tmRJ"
      }
    },
    {
      "cell_type": "code",
      "source": [
        "#Not Operator\n",
        "not(True)"
      ],
      "metadata": {
        "colab": {
          "base_uri": "https://localhost:8080/"
        },
        "id": "_cE23PxnthGP",
        "outputId": "9c930013-7a1e-45ce-cb5b-71c9b7f12609"
      },
      "execution_count": 45,
      "outputs": [
        {
          "output_type": "execute_result",
          "data": {
            "text/plain": [
              "False"
            ]
          },
          "metadata": {},
          "execution_count": 45
        }
      ]
    },
    {
      "cell_type": "code",
      "source": [
        "not(False)"
      ],
      "metadata": {
        "colab": {
          "base_uri": "https://localhost:8080/"
        },
        "id": "68_EB2kOubgY",
        "outputId": "15909125-129e-42fb-bbb1-c58abcb43fd6"
      },
      "execution_count": 47,
      "outputs": [
        {
          "output_type": "execute_result",
          "data": {
            "text/plain": [
              "True"
            ]
          },
          "metadata": {},
          "execution_count": 47
        }
      ]
    },
    {
      "cell_type": "code",
      "source": [
        "album_year = 1983\n",
        "if not(album_year==1984):\n",
        "  print(\"Album is not 1984\")"
      ],
      "metadata": {
        "colab": {
          "base_uri": "https://localhost:8080/"
        },
        "id": "UI6cuUiHylxc",
        "outputId": "63ee81ca-df95-405c-cace-6439ee03d4e9"
      },
      "execution_count": 62,
      "outputs": [
        {
          "output_type": "stream",
          "name": "stdout",
          "text": [
            "Album is not 1984\n"
          ]
        }
      ]
    },
    {
      "cell_type": "code",
      "source": [
        "# And operator\n",
        "# to open high-security door, an individual requires both a valid ID card and a matching fingerprint.\n",
        "has_valid_id_card = True\n",
        "has_matching_fingerprint = True\n",
        "if has_valid_id_card and has_matching_fingerprint:\n",
        "  print(\"Access granted\")\n",
        "  print(\"High security door opened\")\n",
        "else:\n",
        "  print(\"Access denied\")\n",
        "print(\"High security door closed\")\n"
      ],
      "metadata": {
        "colab": {
          "base_uri": "https://localhost:8080/"
        },
        "id": "O8KfMc8_ue6F",
        "outputId": "e70d280e-04bc-4ce4-dd46-5b61ede09356"
      },
      "execution_count": 48,
      "outputs": [
        {
          "output_type": "stream",
          "name": "stdout",
          "text": [
            "Access granted\n",
            "High security door opened\n",
            "High security door closed\n"
          ]
        }
      ]
    },
    {
      "cell_type": "code",
      "source": [
        "has_valid_id_card = False\n",
        "has_matching_fingerprint = True\n",
        "if has_valid_id_card and has_matching_fingerprint:\n",
        "  print(\"Access granted\")\n",
        "  print(\"High security door opened\")\n",
        "else:\n",
        "  print(\"Access denied\")\n",
        "print(\"High security door closed\")"
      ],
      "metadata": {
        "colab": {
          "base_uri": "https://localhost:8080/"
        },
        "id": "HoMgayhWwpol",
        "outputId": "1ed4025d-4a7a-4d5c-bb9d-e04d602d4beb"
      },
      "execution_count": 49,
      "outputs": [
        {
          "output_type": "stream",
          "name": "stdout",
          "text": [
            "Access denied\n",
            "High security door closed\n"
          ]
        }
      ]
    },
    {
      "cell_type": "code",
      "source": [
        "# Or operation\n",
        "#planning movie night with friends - choose movie that atleast one friend likes.\n",
        "friend_likes_comedy = False\n",
        "friend_likes_action = False\n",
        "friend_likes_romance = True\n",
        "if friend_likes_comedy or friend_likes_action or friend_likes_romance:\n",
        "  print(\"The movie is chosen\")\n",
        "else:\n",
        "  print(\"It is undecided\")\n",
        ""
      ],
      "metadata": {
        "colab": {
          "base_uri": "https://localhost:8080/"
        },
        "id": "1vkGXtRNwtMo",
        "outputId": "926f3e08-9ec6-40c0-86e9-d408709f1a6b"
      },
      "execution_count": 60,
      "outputs": [
        {
          "output_type": "stream",
          "name": "stdout",
          "text": [
            "The movie is chosen\n"
          ]
        }
      ]
    },
    {
      "cell_type": "code",
      "source": [
        "album_year = 1983\n",
        "if (album_year<1980) or (album_year>1989):\n",
        "  print (\"Album was not made in the 1980s\")\n",
        "else:\n",
        "  print(\"Album was made in the 1980s\")"
      ],
      "metadata": {
        "colab": {
          "base_uri": "https://localhost:8080/"
        },
        "id": "XIEQJ-9Nxr1v",
        "outputId": "faa6a0a4-97ff-4548-e70f-a4d627d2ff7a"
      },
      "execution_count": 61,
      "outputs": [
        {
          "output_type": "stream",
          "name": "stdout",
          "text": [
            "Album was made in the 1980s\n"
          ]
        }
      ]
    },
    {
      "cell_type": "code",
      "source": [
        "album_rating = 8.5\n",
        "if (album_rating>8):\n",
        "  print(\"This album is amazing!\")"
      ],
      "metadata": {
        "colab": {
          "base_uri": "https://localhost:8080/"
        },
        "id": "RoCFdeC9xsY5",
        "outputId": "1e895e86-b754-4d6c-97a4-137384bbbdaf"
      },
      "execution_count": 63,
      "outputs": [
        {
          "output_type": "stream",
          "name": "stdout",
          "text": [
            "This album is amazing!\n"
          ]
        }
      ]
    },
    {
      "cell_type": "code",
      "source": [
        "album_rating = 6.5\n",
        "if (album_rating>8):\n",
        "  print(\"This album is amazing!\")\n",
        "else:\n",
        "  print(\"This album is ok\")"
      ],
      "metadata": {
        "colab": {
          "base_uri": "https://localhost:8080/"
        },
        "id": "Ysu_Vu_dzYB-",
        "outputId": "49c5f3d4-16b6-45f2-db08-a469d7e37e99"
      },
      "execution_count": 64,
      "outputs": [
        {
          "output_type": "stream",
          "name": "stdout",
          "text": [
            "This album is ok\n"
          ]
        }
      ]
    },
    {
      "cell_type": "code",
      "source": [
        "album_year = 1979\n",
        "if (album_year<1980) or (album_year == 1991) or (album_year==1993):\n",
        "  print(\"This album came out in\", album_year)"
      ],
      "metadata": {
        "colab": {
          "base_uri": "https://localhost:8080/"
        },
        "id": "Wk6IvGS9zqPZ",
        "outputId": "a7135981-63c4-4144-dac7-6d44fc429161"
      },
      "execution_count": 66,
      "outputs": [
        {
          "output_type": "stream",
          "name": "stdout",
          "text": [
            "This album came out in 1979\n"
          ]
        }
      ]
    },
    {
      "cell_type": "code",
      "source": [
        "age = 21\n",
        "if (age>18):\n",
        "  print(\"You can enter the bar\")\n",
        "elif (age==18):\n",
        "  print(\"You can watch a movie\")\n",
        "else:\n",
        "  print(\"Sorry, you cannot do either\")"
      ],
      "metadata": {
        "colab": {
          "base_uri": "https://localhost:8080/"
        },
        "id": "lHUZ9_yt0rD0",
        "outputId": "aff897ea-00ac-4c68-d8f2-c5bd475aa452"
      },
      "execution_count": 67,
      "outputs": [
        {
          "output_type": "stream",
          "name": "stdout",
          "text": [
            "You can enter the bar\n"
          ]
        }
      ]
    },
    {
      "cell_type": "markdown",
      "source": [],
      "metadata": {
        "id": "fsOAY4QO2zIk"
      }
    },
    {
      "cell_type": "code",
      "source": [
        "#Range Function outputs an ordered sequence as a list\n",
        "range(3)"
      ],
      "metadata": {
        "colab": {
          "base_uri": "https://localhost:8080/"
        },
        "id": "sOE2vH8Dq5mx",
        "outputId": "cf5ed7cc-43e3-49e7-d3e9-a18034a0b71d"
      },
      "execution_count": 5,
      "outputs": [
        {
          "output_type": "execute_result",
          "data": {
            "text/plain": [
              "range(0, 3)"
            ]
          },
          "metadata": {},
          "execution_count": 5
        }
      ]
    },
    {
      "cell_type": "markdown",
      "source": [
        "##### **Loops**\n",
        "Performs a task over and over.\n",
        "* for loop - enables us to exacute a code block multiple times\n",
        "* while loop - instead of executing a statement a set number of times, a while loop will only run if a condition is met. If the condition comes back as 'false', the loop is stopped"
      ],
      "metadata": {
        "id": "VO86JDER1wZi"
      }
    },
    {
      "cell_type": "code",
      "source": [
        "dates = [2000,2001,2002,2003]\n",
        "N = len(dates)\n",
        "for i in range(N): #here (i) stands for index.\n",
        "  print(dates[i])"
      ],
      "metadata": {
        "colab": {
          "base_uri": "https://localhost:8080/"
        },
        "id": "3IQbDX58sEZB",
        "outputId": "86f8c28f-5796-4631-def8-841b952e33d0"
      },
      "execution_count": 7,
      "outputs": [
        {
          "output_type": "stream",
          "name": "stdout",
          "text": [
            "2000\n",
            "2001\n",
            "2002\n",
            "2003\n"
          ]
        }
      ]
    },
    {
      "cell_type": "code",
      "source": [
        "print(\"i[0]\",dates[0])\n",
        "print(\"i[1]\", dates[1])\n",
        "print(\"i[2]\", dates[2])\n",
        "print(\"i[3]\", dates[3])"
      ],
      "metadata": {
        "colab": {
          "base_uri": "https://localhost:8080/"
        },
        "id": "Ii7ZpvaVsEON",
        "outputId": "4e97896b-1d38-4a10-add7-7472c5ea5ee1"
      },
      "execution_count": 11,
      "outputs": [
        {
          "output_type": "stream",
          "name": "stdout",
          "text": [
            "i[0] 2000\n",
            "i[1] 2001\n",
            "i[2] 2002\n",
            "i[3] 2003\n"
          ]
        }
      ]
    },
    {
      "cell_type": "code",
      "source": [
        "for i in range(0,8): #for each index in range, print[index]\n",
        "  print(i) #i=0 || i+1 => 0+1 = 1 || 1+1 = 2 ||2+1 = 3...."
      ],
      "metadata": {
        "colab": {
          "base_uri": "https://localhost:8080/"
        },
        "id": "r1-6Hy7qyJZR",
        "outputId": "a2a39a90-447d-4342-b59a-7d78fa6492d3"
      },
      "execution_count": 13,
      "outputs": [
        {
          "output_type": "stream",
          "name": "stdout",
          "text": [
            "0\n",
            "1\n",
            "2\n",
            "3\n",
            "4\n",
            "5\n",
            "6\n",
            "7\n"
          ]
        }
      ]
    },
    {
      "cell_type": "code",
      "source": [
        "for x in ['A', 'B', 'C']:\n",
        "    print(x + 'A')"
      ],
      "metadata": {
        "colab": {
          "base_uri": "https://localhost:8080/"
        },
        "id": "2oURlHgeoJt9",
        "outputId": "81c1cebb-0d35-48ee-f4ac-afd1da34641d"
      },
      "execution_count": 1,
      "outputs": [
        {
          "output_type": "stream",
          "name": "stdout",
          "text": [
            "AA\n",
            "BA\n",
            "CA\n"
          ]
        }
      ]
    },
    {
      "cell_type": "code",
      "source": [
        "for i, x in enumerate(['A', 'B', 'C']):\n",
        "    print(i, x)"
      ],
      "metadata": {
        "colab": {
          "base_uri": "https://localhost:8080/"
        },
        "id": "kAsOtlCSoMDl",
        "outputId": "daf8fe96-eb09-400e-b6a1-bf4993afc005"
      },
      "execution_count": 2,
      "outputs": [
        {
          "output_type": "stream",
          "name": "stdout",
          "text": [
            "0 A\n",
            "1 B\n",
            "2 C\n"
          ]
        }
      ]
    },
    {
      "cell_type": "code",
      "source": [
        "# using loop to change elements in list\n",
        "squares = [\"red\", \"yellow\", \"green\", \"purple\", \"blue\"]\n",
        "\n",
        "for i in range(0,5):\n",
        "  print(\"Before square\", i, \"is\", squares[i])\n",
        "  squares[i] = \"white\"\n",
        "  print(\"After square\", i, \"is\", squares[i])"
      ],
      "metadata": {
        "colab": {
          "base_uri": "https://localhost:8080/"
        },
        "id": "4z4WMznHohGh",
        "outputId": "6851b9a4-c8a9-4602-d8cc-4fbf5092ef8c"
      },
      "execution_count": 14,
      "outputs": [
        {
          "output_type": "stream",
          "name": "stdout",
          "text": [
            "Before square 0 is red\n",
            "After square 0 is white\n",
            "Before square 1 is yellow\n",
            "After square 1 is white\n",
            "Before square 2 is green\n",
            "After square 2 is white\n",
            "Before square 3 is purple\n",
            "After square 3 is white\n",
            "Before square 4 is blue\n",
            "After square 4 is white\n"
          ]
        }
      ]
    },
    {
      "cell_type": "code",
      "source": [
        "# looping through list and iterate on both index and element value\n",
        "squares = [\"red\", \"yellow\", \"green\", \"purple\", \"blue\"]\n",
        "for i, square in enumerate(squares):\n",
        "  print(i, square)"
      ],
      "metadata": {
        "colab": {
          "base_uri": "https://localhost:8080/"
        },
        "id": "UBduu7p-z5FA",
        "outputId": "bd69b345-5f3d-493b-df4b-5a78bc780c96"
      },
      "execution_count": 15,
      "outputs": [
        {
          "output_type": "stream",
          "name": "stdout",
          "text": [
            "0 red\n",
            "1 yellow\n",
            "2 green\n",
            "3 purple\n",
            "4 blue\n"
          ]
        }
      ]
    },
    {
      "cell_type": "code",
      "source": [
        "# while loop - The code block will keep being executed until the given logical condition returns a False boolean value.\n",
        "count = 1\n",
        "while count <= 5:\n",
        "  print(count)\n",
        "  count = count+1"
      ],
      "metadata": {
        "colab": {
          "base_uri": "https://localhost:8080/"
        },
        "id": "QoYBVkNUKPAu",
        "outputId": "9548e1c1-ab99-41ba-80cb-6b1a24f2b018"
      },
      "execution_count": 18,
      "outputs": [
        {
          "output_type": "stream",
          "name": "stdout",
          "text": [
            "1\n",
            "2\n",
            "3\n",
            "4\n",
            "5\n"
          ]
        }
      ]
    },
    {
      "cell_type": "code",
      "source": [
        "dates = [2000,2001,2002,2003]\n",
        "\n",
        "i = 0\n",
        "year = dates[0]\n",
        "\n",
        "while (year != 2002):\n",
        "  print (year)\n",
        "  i = i+1\n",
        "  year = dates[i]\n",
        "print(\"It took\", i, \"repetitions to get out of loop\")"
      ],
      "metadata": {
        "colab": {
          "base_uri": "https://localhost:8080/"
        },
        "id": "eIXM5LoXMaVl",
        "outputId": "19735f5e-1608-4aaa-c855-2d9fad0b5be6"
      },
      "execution_count": 24,
      "outputs": [
        {
          "output_type": "stream",
          "name": "stdout",
          "text": [
            "2000\n",
            "2001\n",
            "It took 2 repetitions to get out of loop\n"
          ]
        }
      ]
    },
    {
      "cell_type": "code",
      "source": [
        "for i in range(-4,5):\n",
        "  print(i)"
      ],
      "metadata": {
        "colab": {
          "base_uri": "https://localhost:8080/"
        },
        "id": "OcTPtwt3Mkyg",
        "outputId": "873dffc7-c98e-45ea-bced-674b7e5bbe77"
      },
      "execution_count": 27,
      "outputs": [
        {
          "output_type": "stream",
          "name": "stdout",
          "text": [
            "-4\n",
            "-3\n",
            "-2\n",
            "-1\n",
            "0\n",
            "1\n",
            "2\n",
            "3\n",
            "4\n"
          ]
        }
      ]
    },
    {
      "cell_type": "code",
      "source": [
        "genres = [\"rock\", \"R&B\", \"soundtrack\", \"R&B\", \"soul\", \"pop\"]\n",
        "for i in range(0,6):\n",
        "  print(genres[i])\n",
        "  i = i+1"
      ],
      "metadata": {
        "colab": {
          "base_uri": "https://localhost:8080/"
        },
        "id": "MZnPiQUtNqnd",
        "outputId": "03ea83c8-7757-41d8-ad65-1c56de8e4f96"
      },
      "execution_count": 30,
      "outputs": [
        {
          "output_type": "stream",
          "name": "stdout",
          "text": [
            "rock\n",
            "R&B\n",
            "soundtrack\n",
            "R&B\n",
            "soul\n",
            "pop\n"
          ]
        }
      ]
    },
    {
      "cell_type": "code",
      "source": [
        "squares = ['red', 'yellow', 'green', 'purple', 'blue']\n",
        "for square in squares:\n",
        "  print(square)"
      ],
      "metadata": {
        "colab": {
          "base_uri": "https://localhost:8080/"
        },
        "id": "DhDt2GdmOrdI",
        "outputId": "718deddf-be69-4f6b-a372-005c1c3c10a1"
      },
      "execution_count": 33,
      "outputs": [
        {
          "output_type": "stream",
          "name": "stdout",
          "text": [
            "red\n",
            "yellow\n",
            "green\n",
            "purple\n",
            "blue\n"
          ]
        }
      ]
    },
    {
      "cell_type": "code",
      "source": [
        "playlistratings = [10,9.5,10,8,7.5,5,10,10]\n",
        "i=0\n",
        "ratings = playlistratings[0]\n",
        "while (ratings >= 6):\n",
        "  print(ratings)\n",
        "  i=i+1\n",
        "  ratings = playlistratings[i]"
      ],
      "metadata": {
        "colab": {
          "base_uri": "https://localhost:8080/"
        },
        "id": "yd2TGM4MPuhe",
        "outputId": "18de690e-464a-489c-b38f-46bf987e7a86"
      },
      "execution_count": 47,
      "outputs": [
        {
          "output_type": "stream",
          "name": "stdout",
          "text": [
            "10\n",
            "9.5\n",
            "10\n",
            "8\n",
            "7.5\n"
          ]
        }
      ]
    },
    {
      "cell_type": "code",
      "source": [
        "squares = ['orange', 'orange', 'orange', 'blue ', 'orange']\n",
        "new_squares = []\n",
        "i = 0\n",
        "\n",
        "while(squares[i] == 'orange'):\n",
        "  new_squares.append(squares[i])\n",
        "  i=i+1\n",
        "print(new_squares)\n",
        "print(\"The loop ends after\", i, \"times\")"
      ],
      "metadata": {
        "colab": {
          "base_uri": "https://localhost:8080/"
        },
        "id": "jJng7KrXRPdO",
        "outputId": "f80466e6-9167-4f15-b2f2-d03f60e7f0f6"
      },
      "execution_count": 55,
      "outputs": [
        {
          "output_type": "stream",
          "name": "stdout",
          "text": [
            "['orange', 'orange', 'orange']\n",
            "The loop ends after 3 times\n"
          ]
        }
      ]
    },
    {
      "cell_type": "code",
      "source": [
        "print(\"multiplication tables of 6\")\n",
        "for i in range(0,11):\n",
        "  print(\"6*\",i,\"=\",6*i)\n",
        "  i=i+1"
      ],
      "metadata": {
        "colab": {
          "base_uri": "https://localhost:8080/"
        },
        "id": "YYHBurzJRhik",
        "outputId": "c674cce9-e8e2-4f0d-94c9-cd4ffe9cfe7a"
      },
      "execution_count": 57,
      "outputs": [
        {
          "output_type": "stream",
          "name": "stdout",
          "text": [
            "multiplication tables of 6\n",
            "6* 0 = 0\n",
            "6* 1 = 6\n",
            "6* 2 = 12\n",
            "6* 3 = 18\n",
            "6* 4 = 24\n",
            "6* 5 = 30\n",
            "6* 6 = 36\n",
            "6* 7 = 42\n",
            "6* 8 = 48\n",
            "6* 9 = 54\n",
            "6* 10 = 60\n"
          ]
        }
      ]
    },
    {
      "cell_type": "code",
      "source": [
        "print(\"multiplication tables of 7\")\n",
        "for i in range(0,11):\n",
        "  print(\"*7\",i,\"=\",7*i)\n",
        "  i=i+1"
      ],
      "metadata": {
        "colab": {
          "base_uri": "https://localhost:8080/"
        },
        "id": "757auotBS4n3",
        "outputId": "2d817c48-cc33-4ce0-e7b5-e995c33918f8"
      },
      "execution_count": 58,
      "outputs": [
        {
          "output_type": "stream",
          "name": "stdout",
          "text": [
            "multiplication tables of 7\n",
            "*7 0 = 0\n",
            "*7 1 = 7\n",
            "*7 2 = 14\n",
            "*7 3 = 21\n",
            "*7 4 = 28\n",
            "*7 5 = 35\n",
            "*7 6 = 42\n",
            "*7 7 = 49\n",
            "*7 8 = 56\n",
            "*7 9 = 63\n",
            "*7 10 = 70\n"
          ]
        }
      ]
    },
    {
      "cell_type": "code",
      "source": [
        "animals = ['lion', 'giraffe', 'gorilla', 'parrots', 'crocodile', 'deer', 'swan']\n",
        "new = []\n",
        "i = 0\n",
        "while i<len(animals):\n",
        "  j = animals[i]\n",
        "  if (len(j) ==7):\n",
        "    new.append(j)\n",
        "  i=i+1\n",
        "print(new)"
      ],
      "metadata": {
        "colab": {
          "base_uri": "https://localhost:8080/"
        },
        "id": "znJiURSZTBSx",
        "outputId": "53bb2799-dc64-42f2-c892-2096620f54da"
      },
      "execution_count": 60,
      "outputs": [
        {
          "output_type": "stream",
          "name": "stdout",
          "text": [
            "['giraffe', 'gorilla', 'parrots']\n"
          ]
        }
      ]
    },
    {
      "cell_type": "code",
      "source": [],
      "metadata": {
        "id": "6VM5lzrSUSyt"
      },
      "execution_count": null,
      "outputs": []
    }
  ]
}