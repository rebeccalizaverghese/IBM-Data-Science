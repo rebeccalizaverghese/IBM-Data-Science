{
  "nbformat": 4,
  "nbformat_minor": 0,
  "metadata": {
    "colab": {
      "provenance": [],
      "authorship_tag": "ABX9TyPscEn22W1NcZA+1KQqAWmJ",
      "include_colab_link": true
    },
    "kernelspec": {
      "name": "python3",
      "display_name": "Python 3"
    },
    "language_info": {
      "name": "python"
    }
  },
  "cells": [
    {
      "cell_type": "markdown",
      "metadata": {
        "id": "view-in-github",
        "colab_type": "text"
      },
      "source": [
        "<a href=\"https://colab.research.google.com/github/rebeccalizaverghese/IBM-Data-Science/blob/main/3.2_Python_Programming_Fundamentals.ipynb\" target=\"_parent\"><img src=\"https://colab.research.google.com/assets/colab-badge.svg\" alt=\"Open In Colab\"/></a>"
      ]
    },
    {
      "cell_type": "markdown",
      "source": [
        "##### **Functions**\n",
        "Functions take some input and then produce some output/ change. It is a reusable block of code which performs operations specified in the function.\n",
        "\n",
        "Types:\n",
        "* Pre-defined Functions\n",
        "* User-defined Functions\n",
        "\n",
        "Rules:\n",
        "* Function blocks begin with *def* followed by the function *name* and parantheses *( )*\n",
        "* There are input parameters/ arguements that are placed within these parentheses\n",
        "* You can also define these parameters inside these parentheses\n",
        "* There is a body within every function that starts with a colon (:) and is indented.\n",
        "* You can also place documentation before the body.\n",
        "* The statement *return* exits a function, optionally passing back a value.\n",
        "\n"
      ],
      "metadata": {
        "id": "CmWFTG7K4OP3"
      }
    },
    {
      "cell_type": "markdown",
      "source": [
        "Pre-defined Functions:\n",
        "1. print( )\n",
        "2. sum( )\n",
        "3. len( )\n",
        "4. sorted( )"
      ],
      "metadata": {
        "id": "T7PszWMlDcWH"
      }
    },
    {
      "cell_type": "code",
      "source": [
        "ratings = [10.0, 8.5, 9.0, 9.5, 9.5]\n",
        "print(ratings) # Print function\n",
        "print(len(ratings)) # Len function\n",
        "print(sorted(ratings)) # sorted function creates a new list and therefore does not affect the existing list\n",
        "print(ratings)"
      ],
      "metadata": {
        "colab": {
          "base_uri": "https://localhost:8080/"
        },
        "id": "F78Fv9izHkf-",
        "outputId": "d46d7f79-1e1f-4b92-f100-b6faaa4e9119"
      },
      "execution_count": null,
      "outputs": [
        {
          "output_type": "stream",
          "name": "stdout",
          "text": [
            "[10.0, 8.5, 9.0, 9.5, 9.5]\n",
            "5\n",
            "[8.5, 9.0, 9.5, 9.5, 10.0]\n",
            "[10.0, 8.5, 9.0, 9.5, 9.5]\n"
          ]
        }
      ]
    },
    {
      "cell_type": "code",
      "source": [
        "# Sort method sorts the elements in the existing list\n",
        "ratings.sort()\n",
        "print(ratings)"
      ],
      "metadata": {
        "colab": {
          "base_uri": "https://localhost:8080/"
        },
        "id": "is_lM-aEI5n_",
        "outputId": "c5b88724-c59d-427a-b2e3-0f29fd8b6b23"
      },
      "execution_count": null,
      "outputs": [
        {
          "output_type": "stream",
          "name": "stdout",
          "text": [
            "[8.5, 9.0, 9.5, 9.5, 10.0]\n"
          ]
        }
      ]
    },
    {
      "cell_type": "code",
      "execution_count": null,
      "metadata": {
        "colab": {
          "base_uri": "https://localhost:8080/"
        },
        "id": "60ngOq7u3VCd",
        "outputId": "555ca9fc-28e7-49d3-b73f-61c94dcc06e7"
      },
      "outputs": [
        {
          "output_type": "stream",
          "name": "stdout",
          "text": [
            "3 + 1 = 4\n"
          ]
        },
        {
          "output_type": "execute_result",
          "data": {
            "text/plain": [
              "4"
            ]
          },
          "metadata": {},
          "execution_count": 128
        }
      ],
      "source": [
        "#Function to add 1 to a and store as b\n",
        "def Add(a):\n",
        "  \"\"\"\n",
        "  add 1 to a\n",
        "  \"\"\"\n",
        "  b = a+1\n",
        "  print(a, \"+ 1 =\", b)\n",
        "  return(b)\n",
        "\n",
        "Add(3)"
      ]
    },
    {
      "cell_type": "code",
      "source": [
        "#get help on add function\n",
        "help(Add)"
      ],
      "metadata": {
        "colab": {
          "base_uri": "https://localhost:8080/"
        },
        "id": "mgia4hZ-3V41",
        "outputId": "64d2f04a-65cb-4d40-c006-39b2e39e50f3"
      },
      "execution_count": null,
      "outputs": [
        {
          "output_type": "stream",
          "name": "stdout",
          "text": [
            "Help on function Add in module __main__:\n",
            "\n",
            "Add(a)\n",
            "    add 1 to a\n",
            "\n"
          ]
        }
      ]
    },
    {
      "cell_type": "code",
      "source": [
        "Add(10)"
      ],
      "metadata": {
        "colab": {
          "base_uri": "https://localhost:8080/"
        },
        "id": "cUoLbo1i3jd6",
        "outputId": "842e8c56-3353-498d-8f13-3d85bc7c1ac6"
      },
      "execution_count": null,
      "outputs": [
        {
          "output_type": "stream",
          "name": "stdout",
          "text": [
            "10 + 1 = 11\n"
          ]
        },
        {
          "output_type": "execute_result",
          "data": {
            "text/plain": [
              "11"
            ]
          },
          "metadata": {},
          "execution_count": 130
        }
      ]
    },
    {
      "cell_type": "code",
      "source": [
        "# defining function for multiplcation of two numbers\n",
        "def mult(a,b):\n",
        "  c = a*b\n",
        "  return(c) # function terminates at the return statement\n",
        "  print(\"This is not printed\") # therefoe, anything after 'return' is not printed\n",
        "\n",
        "result = mult(12,2)\n",
        "print(result)"
      ],
      "metadata": {
        "colab": {
          "base_uri": "https://localhost:8080/"
        },
        "id": "kBBqtHF26ya6",
        "outputId": "d235ac73-8e58-4dc1-8583-6275fcf2def9"
      },
      "execution_count": null,
      "outputs": [
        {
          "output_type": "stream",
          "name": "stdout",
          "text": [
            "24\n"
          ]
        }
      ]
    },
    {
      "cell_type": "code",
      "source": [
        "mult(3,11) #when 2 integer values are multiplied, it returns an integer"
      ],
      "metadata": {
        "colab": {
          "base_uri": "https://localhost:8080/"
        },
        "id": "XB1dDv2L7DJr",
        "outputId": "e6ef3291-a986-40f9-9fd2-8cd27ce7e4f4"
      },
      "execution_count": null,
      "outputs": [
        {
          "output_type": "execute_result",
          "data": {
            "text/plain": [
              "33"
            ]
          },
          "metadata": {},
          "execution_count": 132
        }
      ]
    },
    {
      "cell_type": "code",
      "source": [
        "mult(10.0, 3.14) #when 2 float values are multiplied, it returns a float"
      ],
      "metadata": {
        "colab": {
          "base_uri": "https://localhost:8080/"
        },
        "id": "w2lxDgXW9K4z",
        "outputId": "a886c876-a330-46a1-f719-23c22d0194b9"
      },
      "execution_count": null,
      "outputs": [
        {
          "output_type": "execute_result",
          "data": {
            "text/plain": [
              "31.400000000000002"
            ]
          },
          "metadata": {},
          "execution_count": 133
        }
      ]
    },
    {
      "cell_type": "code",
      "source": [
        "mult(10,3.41) #when an integer is multiplied with a float, it returns a float"
      ],
      "metadata": {
        "colab": {
          "base_uri": "https://localhost:8080/"
        },
        "id": "rMPpwXOD9l6I",
        "outputId": "7a38a921-86e8-4201-9a4a-259871380c76"
      },
      "execution_count": null,
      "outputs": [
        {
          "output_type": "execute_result",
          "data": {
            "text/plain": [
              "34.1"
            ]
          },
          "metadata": {},
          "execution_count": 134
        }
      ]
    },
    {
      "cell_type": "code",
      "source": [
        "mult(3,\" Sally\") #when a integer is multiplied with a string, the string repeats by that many times"
      ],
      "metadata": {
        "colab": {
          "base_uri": "https://localhost:8080/",
          "height": 35
        },
        "id": "4qh-Va-a96Yd",
        "outputId": "57fdb7d5-b93f-4f9c-d118-89f12eba10df"
      },
      "execution_count": null,
      "outputs": [
        {
          "output_type": "execute_result",
          "data": {
            "text/plain": [
              "' Sally Sally Sally'"
            ],
            "application/vnd.google.colaboratory.intrinsic+json": {
              "type": "string"
            }
          },
          "metadata": {},
          "execution_count": 135
        }
      ]
    },
    {
      "cell_type": "code",
      "source": [
        "#The input in a function is called a formal parameter\n",
        "# The variable that is declared inside a function is called a local variable - it only exists within the function\n",
        "# The variable that is declared outside a function is called global variable, it's value is accessable and modifiable throughout the program\n",
        "\n",
        "def square(a):\n",
        "  b = 1 # local variable b\n",
        "  c = a*a+b\n",
        "  print(\"if you square\",a, \"and add 1, it gives:\", c)\n",
        "  return(c)\n"
      ],
      "metadata": {
        "id": "DBvImovv-Rtg"
      },
      "execution_count": null,
      "outputs": []
    },
    {
      "cell_type": "code",
      "source": [
        "square(1)"
      ],
      "metadata": {
        "colab": {
          "base_uri": "https://localhost:8080/"
        },
        "id": "rKS57j0f_Lia",
        "outputId": "920ed516-5a48-40ed-82b9-ce13d27d292c"
      },
      "execution_count": null,
      "outputs": [
        {
          "output_type": "stream",
          "name": "stdout",
          "text": [
            "if you square 1 and add 1, it gives: 2\n"
          ]
        },
        {
          "output_type": "execute_result",
          "data": {
            "text/plain": [
              "2"
            ]
          },
          "metadata": {},
          "execution_count": 137
        }
      ]
    },
    {
      "cell_type": "code",
      "source": [
        "# Initializing global variable\n",
        "x = 3\n",
        "#make function call and return function a y\n",
        "y = square(x)\n",
        "y"
      ],
      "metadata": {
        "colab": {
          "base_uri": "https://localhost:8080/"
        },
        "id": "j8-NC-SI_NrA",
        "outputId": "36fe4ffa-adb0-4e2a-b617-6f1feee9a725"
      },
      "execution_count": null,
      "outputs": [
        {
          "output_type": "stream",
          "name": "stdout",
          "text": [
            "if you square 3 and add 1, it gives: 10\n"
          ]
        },
        {
          "output_type": "execute_result",
          "data": {
            "text/plain": [
              "10"
            ]
          },
          "metadata": {},
          "execution_count": 138
        }
      ]
    },
    {
      "cell_type": "code",
      "source": [
        "square(2)"
      ],
      "metadata": {
        "colab": {
          "base_uri": "https://localhost:8080/"
        },
        "id": "Ub7H76d5_fWH",
        "outputId": "c8d93908-4c0d-4dac-b942-c1dfa9ff3b0a"
      },
      "execution_count": null,
      "outputs": [
        {
          "output_type": "stream",
          "name": "stdout",
          "text": [
            "if you square 2 and add 1, it gives: 5\n"
          ]
        },
        {
          "output_type": "execute_result",
          "data": {
            "text/plain": [
              "5"
            ]
          },
          "metadata": {},
          "execution_count": 139
        }
      ]
    },
    {
      "cell_type": "code",
      "source": [
        "# if there is no return statement, the function returns \"none\"\n",
        "def MJ():\n",
        "  print(\"Michael Jackson\")\n",
        "\n",
        "def MJ1():\n",
        "  print(\"Michael Jackson\")\n",
        "  return(None)\n"
      ],
      "metadata": {
        "id": "99gDXM3g_0Wg"
      },
      "execution_count": null,
      "outputs": []
    },
    {
      "cell_type": "code",
      "source": [
        "MJ()\n",
        "print(MJ())"
      ],
      "metadata": {
        "colab": {
          "base_uri": "https://localhost:8080/"
        },
        "id": "BT2y5SK8AKwb",
        "outputId": "11a0b5d7-1e8f-4674-e98a-d4ff07ea762c"
      },
      "execution_count": null,
      "outputs": [
        {
          "output_type": "stream",
          "name": "stdout",
          "text": [
            "Michael Jackson\n",
            "Michael Jackson\n",
            "None\n"
          ]
        }
      ]
    },
    {
      "cell_type": "code",
      "source": [
        "MJ1()\n",
        "print(MJ1())"
      ],
      "metadata": {
        "colab": {
          "base_uri": "https://localhost:8080/"
        },
        "id": "k2D372NUAM9W",
        "outputId": "357f8c08-6e71-4c41-8a78-228787f82fbf"
      },
      "execution_count": null,
      "outputs": [
        {
          "output_type": "stream",
          "name": "stdout",
          "text": [
            "Michael Jackson\n",
            "Michael Jackson\n",
            "None\n"
          ]
        }
      ]
    },
    {
      "cell_type": "code",
      "source": [
        "# function that concatenates two strings using the addition opperation\n",
        "def con(x,y):\n",
        "  z=x+y\n",
        "  print(\"Concatenation of\", x, \"and\", y, \"=\", z)\n",
        "  return(z)"
      ],
      "metadata": {
        "id": "xgyLN1tPAeLd"
      },
      "execution_count": null,
      "outputs": []
    },
    {
      "cell_type": "code",
      "source": [
        "con(\"Katie\",\" James\")"
      ],
      "metadata": {
        "colab": {
          "base_uri": "https://localhost:8080/",
          "height": 52
        },
        "id": "wcKJewfUA-kr",
        "outputId": "104275cd-6fab-44f1-a910-668d2403d6bb"
      },
      "execution_count": null,
      "outputs": [
        {
          "output_type": "stream",
          "name": "stdout",
          "text": [
            "Concatenation of Katie and  James = Katie James\n"
          ]
        },
        {
          "output_type": "execute_result",
          "data": {
            "text/plain": [
              "'Katie James'"
            ],
            "application/vnd.google.colaboratory.intrinsic+json": {
              "type": "string"
            }
          },
          "metadata": {},
          "execution_count": 144
        }
      ]
    },
    {
      "cell_type": "code",
      "source": [
        "#or\n",
        "\n",
        "def con(a, b):\n",
        "    return(a + b)\n",
        "\n",
        "con(\"Hi\", \" There!\")"
      ],
      "metadata": {
        "colab": {
          "base_uri": "https://localhost:8080/",
          "height": 35
        },
        "id": "1Md-SbN7BEwD",
        "outputId": "a10e1f4f-fc85-4923-94a1-a0e43e279615"
      },
      "execution_count": null,
      "outputs": [
        {
          "output_type": "execute_result",
          "data": {
            "text/plain": [
              "'Hi There!'"
            ],
            "application/vnd.google.colaboratory.intrinsic+json": {
              "type": "string"
            }
          },
          "metadata": {},
          "execution_count": 145
        }
      ]
    },
    {
      "cell_type": "code",
      "source": [
        "a = 4\n",
        "b = 5\n",
        "c = a+b+2*a*b-1\n",
        "print(c)\n",
        "if (c<0):\n",
        "  c=0\n",
        "else:\n",
        "  c=5\n",
        "c"
      ],
      "metadata": {
        "colab": {
          "base_uri": "https://localhost:8080/"
        },
        "id": "HHitJk1NBP3I",
        "outputId": "3441a454-4272-466f-bf81-99a141eafb48"
      },
      "execution_count": null,
      "outputs": [
        {
          "output_type": "stream",
          "name": "stdout",
          "text": [
            "48\n"
          ]
        },
        {
          "output_type": "execute_result",
          "data": {
            "text/plain": [
              "5"
            ]
          },
          "metadata": {},
          "execution_count": 146
        }
      ]
    },
    {
      "cell_type": "code",
      "source": [
        "a1 =0\n",
        "b1 =0\n",
        "c1 = a1+b1+2*a1*b1-1\n",
        "print(c1)\n",
        "if (c1<0):\n",
        "  print(\"True\")\n",
        "else:\n",
        "  print(\"False\")\n",
        "\n"
      ],
      "metadata": {
        "colab": {
          "base_uri": "https://localhost:8080/"
        },
        "id": "rcDDJHnCBwDn",
        "outputId": "49672610-42e7-4264-a598-9e2ee0a479d4"
      },
      "execution_count": null,
      "outputs": [
        {
          "output_type": "stream",
          "name": "stdout",
          "text": [
            "-1\n",
            "True\n"
          ]
        }
      ]
    },
    {
      "cell_type": "code",
      "source": [
        "#Using function for above calculation\n",
        "def equation(a,b):\n",
        "  c=a+b+2*a*b-1\n",
        "  print(c)\n",
        "  if (c<0):\n",
        "    c=0\n",
        "  else:\n",
        "    c=5\n",
        "  return(c)"
      ],
      "metadata": {
        "id": "xKdb_UjGCUk-"
      },
      "execution_count": null,
      "outputs": []
    },
    {
      "cell_type": "code",
      "source": [
        "a = 4\n",
        "b = 5\n",
        "c = equation(a,b)\n",
        "c"
      ],
      "metadata": {
        "colab": {
          "base_uri": "https://localhost:8080/"
        },
        "id": "xuH7--qQC1Wa",
        "outputId": "38824567-262d-469b-e301-874d28454d69"
      },
      "execution_count": null,
      "outputs": [
        {
          "output_type": "stream",
          "name": "stdout",
          "text": [
            "48\n"
          ]
        },
        {
          "output_type": "execute_result",
          "data": {
            "text/plain": [
              "5"
            ]
          },
          "metadata": {},
          "execution_count": 149
        }
      ]
    },
    {
      "cell_type": "code",
      "source": [
        "a1 = 0\n",
        "b1 = 0\n",
        "c1 = equation(a1,b1)\n",
        "c1"
      ],
      "metadata": {
        "colab": {
          "base_uri": "https://localhost:8080/"
        },
        "id": "XZ77-rf4DBxK",
        "outputId": "3e3d513f-b49c-47c3-d4af-07778af1e4b2"
      },
      "execution_count": null,
      "outputs": [
        {
          "output_type": "stream",
          "name": "stdout",
          "text": [
            "-1\n"
          ]
        },
        {
          "output_type": "execute_result",
          "data": {
            "text/plain": [
              "0"
            ]
          },
          "metadata": {},
          "execution_count": 150
        }
      ]
    },
    {
      "cell_type": "code",
      "source": [
        "def type_of_album(artist, album, year_released):\n",
        "  print(artist, album, year_released)\n",
        "  if year_released > 1980:\n",
        "    return \"Modern\"\n",
        "  else:\n",
        "    return \"Oldie\"\n",
        "\n",
        "type_of_album(\"Michael Jackson\", \"Thriller\", 1980)"
      ],
      "metadata": {
        "colab": {
          "base_uri": "https://localhost:8080/",
          "height": 52
        },
        "id": "BIpdVdwQE9Zn",
        "outputId": "a7d058f9-6c9f-4cab-972d-cc6fb92ec221"
      },
      "execution_count": null,
      "outputs": [
        {
          "output_type": "stream",
          "name": "stdout",
          "text": [
            "Michael Jackson Thriller 1980\n"
          ]
        },
        {
          "output_type": "execute_result",
          "data": {
            "text/plain": [
              "'Oldie'"
            ],
            "application/vnd.google.colaboratory.intrinsic+json": {
              "type": "string"
            }
          },
          "metadata": {},
          "execution_count": 151
        }
      ]
    },
    {
      "cell_type": "code",
      "source": [
        "def print_list(list):\n",
        "  for element in list:\n",
        "    print(element)\n",
        "\n",
        "print_list(['1', 1, 'the man', 'abc'])"
      ],
      "metadata": {
        "colab": {
          "base_uri": "https://localhost:8080/"
        },
        "id": "z5CW_PpxFfAO",
        "outputId": "898e890c-cf97-4764-8987-d1da2a98a273"
      },
      "execution_count": null,
      "outputs": [
        {
          "output_type": "stream",
          "name": "stdout",
          "text": [
            "1\n",
            "1\n",
            "the man\n",
            "abc\n"
          ]
        }
      ]
    },
    {
      "cell_type": "code",
      "source": [
        "string = \"Michael Jackson is the best\"\n",
        "def check_string(text):\n",
        "  if text in string:\n",
        "    return 'String matched'\n",
        "  else:\n",
        "    return 'String not matched'\n",
        "\n",
        "check_string(\"Michael Jackson is the best\")"
      ],
      "metadata": {
        "colab": {
          "base_uri": "https://localhost:8080/",
          "height": 35
        },
        "id": "i9BIAA5EDMFv",
        "outputId": "fac5028c-5bb2-4a42-d2d4-231664f4556b"
      },
      "execution_count": null,
      "outputs": [
        {
          "output_type": "execute_result",
          "data": {
            "text/plain": [
              "'String matched'"
            ],
            "application/vnd.google.colaboratory.intrinsic+json": {
              "type": "string"
            }
          },
          "metadata": {},
          "execution_count": 154
        }
      ]
    },
    {
      "cell_type": "code",
      "source": [
        "check_string(\"Sally Jackson is the best\")"
      ],
      "metadata": {
        "colab": {
          "base_uri": "https://localhost:8080/",
          "height": 35
        },
        "id": "8aaQYzeyDkmD",
        "outputId": "44bcdc74-1857-40b0-8b92-ebd9e20b6c40"
      },
      "execution_count": null,
      "outputs": [
        {
          "output_type": "execute_result",
          "data": {
            "text/plain": [
              "'String not matched'"
            ],
            "application/vnd.google.colaboratory.intrinsic+json": {
              "type": "string"
            }
          },
          "metadata": {},
          "execution_count": 155
        }
      ]
    },
    {
      "cell_type": "code",
      "source": [
        "# example of global variable\n",
        "artist = \"Michael Jackson\"\n",
        "def printer1(artist):\n",
        "  internal_var1 = artist\n",
        "  print(artist, \"is an artist\")\n",
        "\n",
        "printer1(artist)"
      ],
      "metadata": {
        "colab": {
          "base_uri": "https://localhost:8080/"
        },
        "id": "Lmm_YR9VKs8w",
        "outputId": "9b84fe87-1c5d-425c-8964-85710013e425"
      },
      "execution_count": null,
      "outputs": [
        {
          "output_type": "stream",
          "name": "stdout",
          "text": [
            "Michael Jackson is an artist\n"
          ]
        }
      ]
    },
    {
      "cell_type": "code",
      "source": [
        "artist = \"Michael Jackson\"\n",
        "\n",
        "def printer(artist):\n",
        "    global internal_var\n",
        "    internal_var= \"Whitney Houston\"\n",
        "    print(artist,\"is an artist\")\n",
        "\n",
        "printer(artist)\n",
        "printer(internal_var)"
      ],
      "metadata": {
        "colab": {
          "base_uri": "https://localhost:8080/"
        },
        "id": "_9rV7NizECCa",
        "outputId": "f8a6274a-a4e9-4068-83d3-80c64c818dca"
      },
      "execution_count": null,
      "outputs": [
        {
          "output_type": "stream",
          "name": "stdout",
          "text": [
            "Michael Jackson is an artist\n",
            "Whitney Houston is an artist\n"
          ]
        }
      ]
    },
    {
      "cell_type": "code",
      "source": [
        "myFavouriteBand = \"AC/DC\"\n",
        "\n",
        "def getBandRating(bandname):\n",
        "    if bandname == myFavouriteBand:\n",
        "        return 10.0\n",
        "    else:\n",
        "        return 0.0\n",
        "\n",
        "print(\"AC/DC's rating is:\", getBandRating(\"AC/DC\"))\n",
        "print(\"Deep Purple's rating is:\",getBandRating(\"Deep Purple\"))\n",
        "print(\"My favourite band is:\", myFavouriteBand)"
      ],
      "metadata": {
        "colab": {
          "base_uri": "https://localhost:8080/"
        },
        "id": "prInNlYGLXRT",
        "outputId": "75964e9a-a2bb-49e9-a0d0-39ad3827e1bf"
      },
      "execution_count": null,
      "outputs": [
        {
          "output_type": "stream",
          "name": "stdout",
          "text": [
            "AC/DC's rating is: 10.0\n",
            "Deep Purple's rating is: 0.0\n",
            "My favourite band is: AC/DC\n"
          ]
        }
      ]
    },
    {
      "cell_type": "code",
      "source": [
        "list = [\"1\", 1, 3, 'Sally', 33.3]\n",
        "list1 = [\"James\", 12.4, \"12\"]\n",
        "def con1(a,b):\n",
        "   return a+b\n",
        "\n",
        "con1(list, list1)"
      ],
      "metadata": {
        "colab": {
          "base_uri": "https://localhost:8080/"
        },
        "id": "kSTY2HieLey7",
        "outputId": "14462d0e-f6cf-483b-d610-233c39548f90"
      },
      "execution_count": null,
      "outputs": [
        {
          "output_type": "execute_result",
          "data": {
            "text/plain": [
              "['1', 1, 3, 'Sally', 33.3, 'James', 12.4, '12']"
            ]
          },
          "metadata": {},
          "execution_count": 159
        }
      ]
    },
    {
      "cell_type": "markdown",
      "source": [],
      "metadata": {
        "id": "ucDMydBS3HkA"
      }
    },
    {
      "cell_type": "markdown",
      "source": [
        "##### **Exception Handling**\n",
        "Exception - is an error that occurs during the execution of code - it causes the code to raise an exception and if not prepared to handle it will halt the execution of the code."
      ],
      "metadata": {
        "id": "4Mk7VCV23HIM"
      }
    },
    {
      "cell_type": "code",
      "source": [
        "#ZeroDivisionError - occors when you try to divide by zero\n",
        "1/0"
      ],
      "metadata": {
        "colab": {
          "base_uri": "https://localhost:8080/",
          "height": 158
        },
        "id": "12mdS7i-MUEi",
        "outputId": "f486f3fb-2b71-458c-f390-ba0ca6f9ab45"
      },
      "execution_count": null,
      "outputs": [
        {
          "output_type": "error",
          "ename": "ZeroDivisionError",
          "evalue": "division by zero",
          "traceback": [
            "\u001b[0;31m---------------------------------------------------------------------------\u001b[0m",
            "\u001b[0;31mZeroDivisionError\u001b[0m                         Traceback (most recent call last)",
            "\u001b[0;32m<ipython-input-1-05e5a813e16e>\u001b[0m in \u001b[0;36m<cell line: 2>\u001b[0;34m()\u001b[0m\n\u001b[1;32m      1\u001b[0m \u001b[0;31m#ZeroDivisionError - occors when you try to divide by zero\u001b[0m\u001b[0;34m\u001b[0m\u001b[0;34m\u001b[0m\u001b[0m\n\u001b[0;32m----> 2\u001b[0;31m \u001b[0;36m1\u001b[0m\u001b[0;34m/\u001b[0m\u001b[0;36m0\u001b[0m\u001b[0;34m\u001b[0m\u001b[0;34m\u001b[0m\u001b[0m\n\u001b[0m",
            "\u001b[0;31mZeroDivisionError\u001b[0m: division by zero"
          ]
        }
      ]
    },
    {
      "cell_type": "code",
      "source": [
        "#NameError - means that you tried to use a variable that hasn't been defined\n",
        "y = a + 5"
      ],
      "metadata": {
        "colab": {
          "base_uri": "https://localhost:8080/",
          "height": 176
        },
        "id": "qTfRh7jm3nQ8",
        "outputId": "e6b7ba1f-1182-433b-8d64-ac91a7b88af3"
      },
      "execution_count": null,
      "outputs": [
        {
          "output_type": "error",
          "ename": "NameError",
          "evalue": "name 'a' is not defined",
          "traceback": [
            "\u001b[0;31m---------------------------------------------------------------------------\u001b[0m",
            "\u001b[0;31mNameError\u001b[0m                                 Traceback (most recent call last)",
            "\u001b[0;32m<ipython-input-2-9b356bf60408>\u001b[0m in \u001b[0;36m<cell line: 2>\u001b[0;34m()\u001b[0m\n\u001b[1;32m      1\u001b[0m \u001b[0;31m#NameError - means that you tried to use a variable that hasn't been defined\u001b[0m\u001b[0;34m\u001b[0m\u001b[0;34m\u001b[0m\u001b[0m\n\u001b[0;32m----> 2\u001b[0;31m \u001b[0my\u001b[0m \u001b[0;34m=\u001b[0m \u001b[0ma\u001b[0m \u001b[0;34m+\u001b[0m \u001b[0;36m5\u001b[0m\u001b[0;34m\u001b[0m\u001b[0;34m\u001b[0m\u001b[0m\n\u001b[0m",
            "\u001b[0;31mNameError\u001b[0m: name 'a' is not defined"
          ]
        }
      ]
    },
    {
      "cell_type": "code",
      "source": [
        "#IndexError - occurs because you try to access data from a list using index that does not exist for the list\n",
        "a = [1,2,3]\n",
        "a[5]"
      ],
      "metadata": {
        "colab": {
          "base_uri": "https://localhost:8080/",
          "height": 193
        },
        "id": "ISEXaVtT32X_",
        "outputId": "34e91007-5d5e-4322-a0bd-317806221d06"
      },
      "execution_count": null,
      "outputs": [
        {
          "output_type": "error",
          "ename": "IndexError",
          "evalue": "list index out of range",
          "traceback": [
            "\u001b[0;31m---------------------------------------------------------------------------\u001b[0m",
            "\u001b[0;31mIndexError\u001b[0m                                Traceback (most recent call last)",
            "\u001b[0;32m<ipython-input-3-91f1639701de>\u001b[0m in \u001b[0;36m<cell line: 3>\u001b[0;34m()\u001b[0m\n\u001b[1;32m      1\u001b[0m \u001b[0;31m#IndexError - occurs because you try to access data from a list using index that does not exist for the list\u001b[0m\u001b[0;34m\u001b[0m\u001b[0;34m\u001b[0m\u001b[0m\n\u001b[1;32m      2\u001b[0m \u001b[0ma\u001b[0m \u001b[0;34m=\u001b[0m \u001b[0;34m[\u001b[0m\u001b[0;36m1\u001b[0m\u001b[0;34m,\u001b[0m\u001b[0;36m2\u001b[0m\u001b[0;34m,\u001b[0m\u001b[0;36m3\u001b[0m\u001b[0;34m]\u001b[0m\u001b[0;34m\u001b[0m\u001b[0;34m\u001b[0m\u001b[0m\n\u001b[0;32m----> 3\u001b[0;31m \u001b[0ma\u001b[0m\u001b[0;34m[\u001b[0m\u001b[0;36m5\u001b[0m\u001b[0;34m]\u001b[0m\u001b[0;34m\u001b[0m\u001b[0;34m\u001b[0m\u001b[0m\n\u001b[0m",
            "\u001b[0;31mIndexError\u001b[0m: list index out of range"
          ]
        }
      ]
    },
    {
      "cell_type": "markdown",
      "source": [
        "Exception Handling using **Try... Except** - allows to execute code that might raise an exception and in case of a specific/ any exception, python can hand or catch the exception and execute the code which allows us to continue the execution of our program even when there is an exception."
      ],
      "metadata": {
        "id": "B8egfY3p4GOo"
      }
    },
    {
      "cell_type": "code",
      "source": [
        "a = 1\n",
        "try:\n",
        "  b = int(input(\"Please enter a number to divide a\"))\n",
        "  a = a/b\n",
        "  print(\"Success, a=\", a)\n",
        "except:\n",
        "  print(\"There was an error\")"
      ],
      "metadata": {
        "colab": {
          "base_uri": "https://localhost:8080/"
        },
        "id": "ogcJHkKQ4CO2",
        "outputId": "f6f238f5-0c15-4d63-e75c-bc051b0e021e"
      },
      "execution_count": null,
      "outputs": [
        {
          "output_type": "stream",
          "name": "stdout",
          "text": [
            "Please enter a number to divide a2\n",
            "Success, a= 0.5\n"
          ]
        }
      ]
    },
    {
      "cell_type": "code",
      "source": [
        "a = 1\n",
        "try:\n",
        "  b = int(input(\"Please enter a number to divide a\"))\n",
        "  a = a/b\n",
        "  print(\"Success, a=\", a)\n",
        "except:\n",
        "  print(\"There was an error\")"
      ],
      "metadata": {
        "colab": {
          "base_uri": "https://localhost:8080/"
        },
        "id": "dgOptEzw5Jyb",
        "outputId": "a16f38b3-c1d0-48fb-8094-2ecc6186aa78"
      },
      "execution_count": null,
      "outputs": [
        {
          "output_type": "stream",
          "name": "stdout",
          "text": [
            "Please enter a number to divide ab\n",
            "There was an error\n"
          ]
        }
      ]
    },
    {
      "cell_type": "code",
      "source": [
        "a = 1\n",
        "try:\n",
        "  b = int(input(\"Please enter a number to divide a by: \"))\n",
        "  a = a/b\n",
        "  print(\"Success, a=\", a)\n",
        "except ZeroDivisionError:\n",
        "  print(\"The number provided cannot be divided because it is 0\")\n",
        "except ValueError:\n",
        "  print(\"You did not provide a number\")\n",
        "except:\n",
        "  print(\"Something went wrong\")"
      ],
      "metadata": {
        "colab": {
          "base_uri": "https://localhost:8080/"
        },
        "id": "H5f5E8iO5Qok",
        "outputId": "78c3219e-59e9-4ee8-eb86-543a334643c5"
      },
      "execution_count": null,
      "outputs": [
        {
          "output_type": "stream",
          "name": "stdout",
          "text": [
            "Please enter a number to divide a by: Sally\n",
            "You did not provide a number\n"
          ]
        }
      ]
    },
    {
      "cell_type": "code",
      "source": [
        "a = 1\n",
        "try:\n",
        "  b = int(input(\"Please enter a number to divide a by: \"))\n",
        "  a = a/b\n",
        "except ZeroDivisionError:\n",
        "  print(\"The number provided cannot be divided because it is 0\")\n",
        "except ValueError:\n",
        "  print(\"You did not provide a number\")\n",
        "except:\n",
        "  print(\"Something went wrong\")\n",
        "else:\n",
        "  print(\"Success, a= \", a)"
      ],
      "metadata": {
        "colab": {
          "base_uri": "https://localhost:8080/"
        },
        "id": "gswKYcL65yIw",
        "outputId": "4c719ccf-eaea-4e9b-ccbc-88b3ea1b58f8"
      },
      "execution_count": null,
      "outputs": [
        {
          "output_type": "stream",
          "name": "stdout",
          "text": [
            "Please enter a number to divide a by: 10\n",
            "Success, a=  0.1\n"
          ]
        }
      ]
    },
    {
      "cell_type": "code",
      "source": [
        "a = 1\n",
        "try:\n",
        "  b = int(input(\"Please enter a number to divide a by: \"))\n",
        "  a = a/b\n",
        "except ZeroDivisionError:\n",
        "  print(\"The number provided cannot be divided because it is 0\")\n",
        "except ValueError:\n",
        "  print(\"You did not provide a number\")\n",
        "except:\n",
        "  print(\"Something went wrong\")\n",
        "else:\n",
        "  print(\"Success, a=\", a)\n",
        "finally:\n",
        "  print(\"Processing completed\")"
      ],
      "metadata": {
        "colab": {
          "base_uri": "https://localhost:8080/"
        },
        "id": "Mpi5UNeF6L5c",
        "outputId": "6c24445a-bfce-412e-cef6-648304d171c5"
      },
      "execution_count": null,
      "outputs": [
        {
          "output_type": "stream",
          "name": "stdout",
          "text": [
            "Please enter a number to divide a by: !\n",
            "You did not provide a number\n",
            "Processing completed\n"
          ]
        }
      ]
    },
    {
      "cell_type": "code",
      "source": [
        "def safe_divide(num,den):\n",
        "  try:\n",
        "    a= num/den\n",
        "    print(\"Numerator\", num, \"divided by Denominator\", den, \"= \", a)\n",
        "    return a\n",
        "  except ZeroDivisionError:\n",
        "    print(\"Error: Cannot divide by Zero\")\n",
        "    return None"
      ],
      "metadata": {
        "id": "BPlzj6ly6fmf"
      },
      "execution_count": null,
      "outputs": []
    },
    {
      "cell_type": "code",
      "source": [
        "safe_divide(3,0)"
      ],
      "metadata": {
        "colab": {
          "base_uri": "https://localhost:8080/"
        },
        "id": "RvUIwzln68q2",
        "outputId": "a7e518a2-1aeb-4dee-9f92-92e1b471618c"
      },
      "execution_count": null,
      "outputs": [
        {
          "output_type": "stream",
          "name": "stdout",
          "text": [
            "Error: Cannot divide by Zero\n"
          ]
        }
      ]
    },
    {
      "cell_type": "code",
      "source": [
        "safe_divide(30,3)"
      ],
      "metadata": {
        "colab": {
          "base_uri": "https://localhost:8080/"
        },
        "id": "FgrHa08E8ONC",
        "outputId": "3788edba-f73f-4f07-c18c-5909222fceb9"
      },
      "execution_count": null,
      "outputs": [
        {
          "output_type": "stream",
          "name": "stdout",
          "text": [
            "Numerator 30 divided by Denominator 3 =  10.0\n"
          ]
        },
        {
          "output_type": "execute_result",
          "data": {
            "text/plain": [
              "10.0"
            ]
          },
          "metadata": {},
          "execution_count": 21
        }
      ]
    },
    {
      "cell_type": "code",
      "source": [
        "import math\n",
        "def calc(x):\n",
        "  try:\n",
        "    s = math.sqrt(x)\n",
        "    print(\"Square root of \",x, \"=\", s)\n",
        "    return s\n",
        "  except ValueError:\n",
        "    print('Invalid input! Please enter a positive integer or a float value')\n",
        "    return None\n"
      ],
      "metadata": {
        "id": "qJkuULX08h0K"
      },
      "execution_count": null,
      "outputs": []
    },
    {
      "cell_type": "code",
      "source": [
        "calc(9)"
      ],
      "metadata": {
        "colab": {
          "base_uri": "https://localhost:8080/"
        },
        "id": "OMPmJuU890Km",
        "outputId": "b0a136b5-3557-4905-954a-a111f93ee0bb"
      },
      "execution_count": null,
      "outputs": [
        {
          "output_type": "stream",
          "name": "stdout",
          "text": [
            "Square root of  9 = 3.0\n"
          ]
        },
        {
          "output_type": "execute_result",
          "data": {
            "text/plain": [
              "3.0"
            ]
          },
          "metadata": {},
          "execution_count": 28
        }
      ]
    },
    {
      "cell_type": "code",
      "source": [
        "calc(-3)"
      ],
      "metadata": {
        "colab": {
          "base_uri": "https://localhost:8080/"
        },
        "id": "3dkdyG44936a",
        "outputId": "0c4283a2-dd7c-4a63-afc9-3aeae8a92f45"
      },
      "execution_count": null,
      "outputs": [
        {
          "output_type": "stream",
          "name": "stdout",
          "text": [
            "Invalid input! Please enter a positive integer or a float value\n"
          ]
        }
      ]
    },
    {
      "cell_type": "code",
      "source": [
        "def math(num):\n",
        "  try:\n",
        "    result = num/(num-5)\n",
        "    print(\"The result is: \", result)\n",
        "  except Exception as e:\n",
        "    print(\"An error occurred during calculation\")\n",
        "\n",
        "user_input = float(input(\"Enter a number: \"))\n",
        "math(user_input)"
      ],
      "metadata": {
        "colab": {
          "base_uri": "https://localhost:8080/"
        },
        "id": "nWmoo605-Z1W",
        "outputId": "99bd8e3c-640e-4319-a10a-5f8876774503"
      },
      "execution_count": null,
      "outputs": [
        {
          "output_type": "stream",
          "name": "stdout",
          "text": [
            "Enter a number: 10\n",
            "The result is:  2.0\n"
          ]
        }
      ]
    },
    {
      "cell_type": "code",
      "source": [
        "math(\"A\")"
      ],
      "metadata": {
        "colab": {
          "base_uri": "https://localhost:8080/"
        },
        "id": "N-yQMhrk-c-P",
        "outputId": "a853603d-218d-4c2f-aed2-c809a2f436d6"
      },
      "execution_count": null,
      "outputs": [
        {
          "output_type": "stream",
          "name": "stdout",
          "text": [
            "An error occurred during calculation\n"
          ]
        }
      ]
    }
  ]
}